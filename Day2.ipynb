{
 "cells": [
  {
   "cell_type": "code",
   "execution_count": 1,
   "id": "2c7879f0",
   "metadata": {},
   "outputs": [],
   "source": [
    "a=\"Donetra\""
   ]
  },
  {
   "cell_type": "code",
   "execution_count": 2,
   "id": "01486523",
   "metadata": {},
   "outputs": [
    {
     "data": {
      "text/plain": [
       "7"
      ]
     },
     "execution_count": 2,
     "metadata": {},
     "output_type": "execute_result"
    }
   ],
   "source": [
    "len(a)"
   ]
  },
  {
   "cell_type": "code",
   "execution_count": 4,
   "id": "027b1474",
   "metadata": {},
   "outputs": [],
   "source": [
    "a=str(3)"
   ]
  },
  {
   "cell_type": "code",
   "execution_count": 5,
   "id": "cbb3faac",
   "metadata": {},
   "outputs": [
    {
     "data": {
      "text/plain": [
       "'3'"
      ]
     },
     "execution_count": 5,
     "metadata": {},
     "output_type": "execute_result"
    }
   ],
   "source": [
    "a"
   ]
  },
  {
   "cell_type": "code",
   "execution_count": 11,
   "id": "b53684d5",
   "metadata": {},
   "outputs": [],
   "source": [
    "a=float(8)"
   ]
  },
  {
   "cell_type": "code",
   "execution_count": 7,
   "id": "bbd85979",
   "metadata": {},
   "outputs": [
    {
     "data": {
      "text/plain": [
       "8.0"
      ]
     },
     "execution_count": 7,
     "metadata": {},
     "output_type": "execute_result"
    }
   ],
   "source": [
    "a"
   ]
  },
  {
   "cell_type": "code",
   "execution_count": 9,
   "id": "0fba327d",
   "metadata": {},
   "outputs": [],
   "source": [
    "a=int(4.33)"
   ]
  },
  {
   "cell_type": "code",
   "execution_count": 10,
   "id": "7b9dcc60",
   "metadata": {},
   "outputs": [
    {
     "data": {
      "text/plain": [
       "4"
      ]
     },
     "execution_count": 10,
     "metadata": {},
     "output_type": "execute_result"
    }
   ],
   "source": [
    "a"
   ]
  },
  {
   "cell_type": "code",
   "execution_count": 13,
   "id": "e2a73984",
   "metadata": {},
   "outputs": [],
   "source": [
    "a=str(3)\n",
    "b=float(3)\n",
    "c=int(4.33)"
   ]
  },
  {
   "cell_type": "code",
   "execution_count": 14,
   "id": "12e97327",
   "metadata": {},
   "outputs": [
    {
     "data": {
      "text/plain": [
       "('3', 3.0, 4)"
      ]
     },
     "execution_count": 14,
     "metadata": {},
     "output_type": "execute_result"
    }
   ],
   "source": [
    "a,b,c"
   ]
  },
  {
   "cell_type": "code",
   "execution_count": 15,
   "id": "f3730f32",
   "metadata": {},
   "outputs": [
    {
     "data": {
      "text/plain": [
       "float"
      ]
     },
     "execution_count": 15,
     "metadata": {},
     "output_type": "execute_result"
    }
   ],
   "source": [
    "type(b)"
   ]
  },
  {
   "cell_type": "code",
   "execution_count": null,
   "id": "c3a4e1ba",
   "metadata": {},
   "outputs": [],
   "source": []
  }
 ],
 "metadata": {
  "kernelspec": {
   "display_name": "Python 3 (ipykernel)",
   "language": "python",
   "name": "python3"
  },
  "language_info": {
   "codemirror_mode": {
    "name": "ipython",
    "version": 3
   },
   "file_extension": ".py",
   "mimetype": "text/x-python",
   "name": "python",
   "nbconvert_exporter": "python",
   "pygments_lexer": "ipython3",
   "version": "3.9.7"
  }
 },
 "nbformat": 4,
 "nbformat_minor": 5
}

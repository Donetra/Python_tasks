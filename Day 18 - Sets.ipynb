{
 "cells": [
  {
   "cell_type": "markdown",
   "id": "e1eed216",
   "metadata": {},
   "source": [
    "# Sets"
   ]
  },
  {
   "cell_type": "markdown",
   "id": "ec300409",
   "metadata": {},
   "source": [
    "> Used to store multiple values\n",
    "\n",
    "> Built-in Datatype\n",
    "\n",
    "> Syntax { }\n",
    "\n",
    ":: - Properties\n",
    "1. unordered \n",
    "2. unchangeable\n",
    "3. unindex\n"
   ]
  },
  {
   "cell_type": "code",
   "execution_count": 3,
   "id": "bfe9c308",
   "metadata": {},
   "outputs": [
    {
     "data": {
      "text/plain": [
       "{'India', 'UK', 'US'}"
      ]
     },
     "execution_count": 3,
     "metadata": {},
     "output_type": "execute_result"
    }
   ],
   "source": [
    "Country = {\"US\",\"US\", \"India\",\"UK\"}\n",
    "Country"
   ]
  },
  {
   "cell_type": "markdown",
   "id": "fc6863a1",
   "metadata": {},
   "source": [
    "# Dictionary"
   ]
  },
  {
   "cell_type": "markdown",
   "id": "714de857",
   "metadata": {},
   "source": [
    "> Used to store multiple values in key value pair\n",
    "\n",
    "> Built-in Datatype\n",
    "\n",
    "> Syntax { }\n",
    "\n",
    ":: - Properties\n",
    "1. ordered \n",
    "2. changeable\n",
    "3. not allows duplicates (values duplicates are acceptable, key duplicates are not acceptable\n",
    "\n",
    "- python 3.7 and above dictionaries are ordered\n",
    "- python 3.6 amd lower dictionaries are unordered"
   ]
  },
  {
   "cell_type": "code",
   "execution_count": 10,
   "id": "367848a0",
   "metadata": {},
   "outputs": [],
   "source": [
    "bike={'brand':'RE',\n",
    "    'name': 'classic 35',\n",
    "    'year': 2012}"
   ]
  },
  {
   "cell_type": "code",
   "execution_count": 11,
   "id": "8b585418",
   "metadata": {},
   "outputs": [
    {
     "data": {
      "text/plain": [
       "{'brand': 'RE', 'name': 'classic 35', 'year': 2012}"
      ]
     },
     "execution_count": 11,
     "metadata": {},
     "output_type": "execute_result"
    }
   ],
   "source": [
    "bike"
   ]
  },
  {
   "cell_type": "code",
   "execution_count": null,
   "id": "a56b3afd",
   "metadata": {},
   "outputs": [],
   "source": []
  }
 ],
 "metadata": {
  "kernelspec": {
   "display_name": "Python 3 (ipykernel)",
   "language": "python",
   "name": "python3"
  },
  "language_info": {
   "codemirror_mode": {
    "name": "ipython",
    "version": 3
   },
   "file_extension": ".py",
   "mimetype": "text/x-python",
   "name": "python",
   "nbconvert_exporter": "python",
   "pygments_lexer": "ipython3",
   "version": "3.9.7"
  }
 },
 "nbformat": 4,
 "nbformat_minor": 5
}

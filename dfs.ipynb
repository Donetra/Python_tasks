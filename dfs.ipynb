{
 "cells": [
  {
   "cell_type": "code",
   "execution_count": 1,
   "id": "0616a8e3",
   "metadata": {},
   "outputs": [],
   "source": [
    "import datetime\n",
    "import pandas as pd\n",
    "import gzip\n",
    "import os\n",
    "from glob import glob\n",
    "from dateutil import parser\n",
    "import concurrent.futures\n",
    "import time"
   ]
  },
  {
   "cell_type": "code",
   "execution_count": null,
   "id": "fd08c41c",
   "metadata": {},
   "outputs": [],
   "source": [
    "from multiprocessing import Pool\n",
    "import defs"
   ]
  },
  {
   "cell_type": "code",
   "execution_count": null,
   "id": "6a8fe363",
   "metadata": {},
   "outputs": [],
   "source": []
  },
  {
   "cell_type": "code",
   "execution_count": null,
   "id": "e1f5d50f",
   "metadata": {},
   "outputs": [],
   "source": []
  },
  {
   "cell_type": "code",
   "execution_count": null,
   "id": "da151aee",
   "metadata": {},
   "outputs": [],
   "source": []
  },
  {
   "cell_type": "code",
   "execution_count": 2,
   "id": "e0ce0101",
   "metadata": {},
   "outputs": [],
   "source": [
    "startTime = time.time()\n",
    "def processFile(inputFile):\n",
    "    time.sleep(1)\n",
    "    print(\"Processing\" ,inputFile ,datetime.datetime.now())\n",
    "    data = pd.read_csv(inputFile)\n",
    "    data = data[data[\"Score\"]]\n",
    "    data = data.apply(pd.to_numeric(), errors = 'ignore')\n",
    "    data = data.dropna(how='any', axis=0)\n",
    "    # print(\"Processing\" ,inputFile ,datetime.datetime.now(), data.shape[0])....in place of the bottom code of future\n",
    "    price = 0\n",
    "    count = 0\n",
    "    for index, row in data.iterrows():\n",
    "        price += row['Score']\n",
    "        count += 1\n",
    "    if count >0:\n",
    "        return int(price) / count\n",
    "    elif count == 0:\n",
    "        return 0\n",
    "    else:\n",
    "        return 0"
   ]
  },
  {
   "cell_type": "code",
   "execution_count": null,
   "id": "8a050789",
   "metadata": {},
   "outputs": [],
   "source": []
  }
 ],
 "metadata": {
  "kernelspec": {
   "display_name": "Python 3 (ipykernel)",
   "language": "python",
   "name": "python3"
  },
  "language_info": {
   "codemirror_mode": {
    "name": "ipython",
    "version": 3
   },
   "file_extension": ".py",
   "mimetype": "text/x-python",
   "name": "python",
   "nbconvert_exporter": "python",
   "pygments_lexer": "ipython3",
   "version": "3.9.7"
  }
 },
 "nbformat": 4,
 "nbformat_minor": 5
}

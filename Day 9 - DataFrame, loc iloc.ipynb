{
 "cells": [
  {
   "cell_type": "markdown",
   "id": "142e108b",
   "metadata": {},
   "source": [
    "# DATA FRAME"
   ]
  },
  {
   "cell_type": "markdown",
   "id": "abf204b4",
   "metadata": {},
   "source": [
    "Pandas Dataframe\n",
    "Pandas Dataframe is a 2-D data structure like a 2-D array or a table with rows and columns."
   ]
  },
  {
   "cell_type": "code",
   "execution_count": 1,
   "id": "96c0b9ea",
   "metadata": {},
   "outputs": [],
   "source": [
    "import numpy as np"
   ]
  },
  {
   "cell_type": "code",
   "execution_count": 2,
   "id": "136fc0d6",
   "metadata": {},
   "outputs": [],
   "source": [
    "import pandas as pd"
   ]
  },
  {
   "cell_type": "code",
   "execution_count": 3,
   "id": "f7964fe5",
   "metadata": {},
   "outputs": [],
   "source": [
    "from pandas import Series,DataFrame"
   ]
  },
  {
   "cell_type": "code",
   "execution_count": 4,
   "id": "7d41665d",
   "metadata": {},
   "outputs": [],
   "source": [
    "df=pd.read_clipboard(engine='python')"
   ]
  },
  {
   "cell_type": "code",
   "execution_count": 5,
   "id": "75a606d7",
   "metadata": {},
   "outputs": [
    {
     "data": {
      "text/html": [
       "<div>\n",
       "<style scoped>\n",
       "    .dataframe tbody tr th:only-of-type {\n",
       "        vertical-align: middle;\n",
       "    }\n",
       "\n",
       "    .dataframe tbody tr th {\n",
       "        vertical-align: top;\n",
       "    }\n",
       "\n",
       "    .dataframe thead th {\n",
       "        text-align: right;\n",
       "    }\n",
       "</style>\n",
       "<table border=\"1\" class=\"dataframe\">\n",
       "  <thead>\n",
       "    <tr style=\"text-align: right;\">\n",
       "      <th></th>\n",
       "      <th>OrderID</th>\n",
       "      <th>CustomerID</th>\n",
       "      <th>EmployeeID</th>\n",
       "      <th>OrderDate</th>\n",
       "      <th>ShipperID</th>\n",
       "    </tr>\n",
       "  </thead>\n",
       "  <tbody>\n",
       "    <tr>\n",
       "      <th>0</th>\n",
       "      <td>10308</td>\n",
       "      <td>2</td>\n",
       "      <td>7</td>\n",
       "      <td>1996-09-18</td>\n",
       "      <td>3</td>\n",
       "    </tr>\n",
       "    <tr>\n",
       "      <th>1</th>\n",
       "      <td>10309</td>\n",
       "      <td>37</td>\n",
       "      <td>3</td>\n",
       "      <td>1996-09-19</td>\n",
       "      <td>1</td>\n",
       "    </tr>\n",
       "    <tr>\n",
       "      <th>2</th>\n",
       "      <td>10310</td>\n",
       "      <td>77</td>\n",
       "      <td>8</td>\n",
       "      <td>1996-09-20</td>\n",
       "      <td>2</td>\n",
       "    </tr>\n",
       "  </tbody>\n",
       "</table>\n",
       "</div>"
      ],
      "text/plain": [
       "   OrderID  CustomerID  EmployeeID   OrderDate  ShipperID\n",
       "0    10308           2           7  1996-09-18          3\n",
       "1    10309          37           3  1996-09-19          1\n",
       "2    10310          77           8  1996-09-20          2"
      ]
     },
     "execution_count": 5,
     "metadata": {},
     "output_type": "execute_result"
    }
   ],
   "source": [
    "df"
   ]
  },
  {
   "cell_type": "code",
   "execution_count": 6,
   "id": "a818d33a",
   "metadata": {},
   "outputs": [
    {
     "ename": "SyntaxError",
     "evalue": "invalid syntax (1109380213.py, line 1)",
     "output_type": "error",
     "traceback": [
      "\u001b[0;36m  File \u001b[0;32m\"/var/folders/bg/77tnqfd51m57vg3m6wcsh_s40000gn/T/ipykernel_25881/1109380213.py\"\u001b[0;36m, line \u001b[0;32m1\u001b[0m\n\u001b[0;31m    OrderID\tCustomerID\tEmployeeID\tOrderDate\tShipperID\u001b[0m\n\u001b[0m           \t^\u001b[0m\n\u001b[0;31mSyntaxError\u001b[0m\u001b[0;31m:\u001b[0m invalid syntax\n"
     ]
    }
   ],
   "source": [
    "OrderID\tCustomerID\tEmployeeID\tOrderDate\tShipperID\n",
    "10308\t2\t7\t1996-09-18\t3\n",
    "10309\t37\t3\t1996-09-19\t1\n",
    "10310\t77\t8\t1996-09-20\t2"
   ]
  },
  {
   "cell_type": "code",
   "execution_count": 7,
   "id": "a0b2a068",
   "metadata": {},
   "outputs": [
    {
     "data": {
      "text/plain": [
       "Index(['OrderID', 'CustomerID', 'EmployeeID', 'OrderDate', 'ShipperID'], dtype='object')"
      ]
     },
     "execution_count": 7,
     "metadata": {},
     "output_type": "execute_result"
    }
   ],
   "source": [
    "df.columns"
   ]
  },
  {
   "cell_type": "code",
   "execution_count": 8,
   "id": "818a707e",
   "metadata": {},
   "outputs": [
    {
     "ename": "AttributeError",
     "evalue": "'DataFrame' object has no attribute 'row'",
     "output_type": "error",
     "traceback": [
      "\u001b[0;31m---------------------------------------------------------------------------\u001b[0m",
      "\u001b[0;31mAttributeError\u001b[0m                            Traceback (most recent call last)",
      "\u001b[0;32m/var/folders/bg/77tnqfd51m57vg3m6wcsh_s40000gn/T/ipykernel_25881/3618025248.py\u001b[0m in \u001b[0;36m<module>\u001b[0;34m\u001b[0m\n\u001b[0;32m----> 1\u001b[0;31m \u001b[0mdf\u001b[0m\u001b[0;34m.\u001b[0m\u001b[0mrow\u001b[0m\u001b[0;34m\u001b[0m\u001b[0;34m\u001b[0m\u001b[0m\n\u001b[0m",
      "\u001b[0;32m~/opt/anaconda3/lib/python3.9/site-packages/pandas/core/generic.py\u001b[0m in \u001b[0;36m__getattr__\u001b[0;34m(self, name)\u001b[0m\n\u001b[1;32m   5485\u001b[0m         ):\n\u001b[1;32m   5486\u001b[0m             \u001b[0;32mreturn\u001b[0m \u001b[0mself\u001b[0m\u001b[0;34m[\u001b[0m\u001b[0mname\u001b[0m\u001b[0;34m]\u001b[0m\u001b[0;34m\u001b[0m\u001b[0;34m\u001b[0m\u001b[0m\n\u001b[0;32m-> 5487\u001b[0;31m         \u001b[0;32mreturn\u001b[0m \u001b[0mobject\u001b[0m\u001b[0;34m.\u001b[0m\u001b[0m__getattribute__\u001b[0m\u001b[0;34m(\u001b[0m\u001b[0mself\u001b[0m\u001b[0;34m,\u001b[0m \u001b[0mname\u001b[0m\u001b[0;34m)\u001b[0m\u001b[0;34m\u001b[0m\u001b[0;34m\u001b[0m\u001b[0m\n\u001b[0m\u001b[1;32m   5488\u001b[0m \u001b[0;34m\u001b[0m\u001b[0m\n\u001b[1;32m   5489\u001b[0m     \u001b[0;32mdef\u001b[0m \u001b[0m__setattr__\u001b[0m\u001b[0;34m(\u001b[0m\u001b[0mself\u001b[0m\u001b[0;34m,\u001b[0m \u001b[0mname\u001b[0m\u001b[0;34m:\u001b[0m \u001b[0mstr\u001b[0m\u001b[0;34m,\u001b[0m \u001b[0mvalue\u001b[0m\u001b[0;34m)\u001b[0m \u001b[0;34m->\u001b[0m \u001b[0;32mNone\u001b[0m\u001b[0;34m:\u001b[0m\u001b[0;34m\u001b[0m\u001b[0;34m\u001b[0m\u001b[0m\n",
      "\u001b[0;31mAttributeError\u001b[0m: 'DataFrame' object has no attribute 'row'"
     ]
    }
   ],
   "source": [
    "df.row"
   ]
  },
  {
   "cell_type": "code",
   "execution_count": 9,
   "id": "b5f8f145",
   "metadata": {},
   "outputs": [
    {
     "data": {
      "text/html": [
       "<div>\n",
       "<style scoped>\n",
       "    .dataframe tbody tr th:only-of-type {\n",
       "        vertical-align: middle;\n",
       "    }\n",
       "\n",
       "    .dataframe tbody tr th {\n",
       "        vertical-align: top;\n",
       "    }\n",
       "\n",
       "    .dataframe thead th {\n",
       "        text-align: right;\n",
       "    }\n",
       "</style>\n",
       "<table border=\"1\" class=\"dataframe\">\n",
       "  <thead>\n",
       "    <tr style=\"text-align: right;\">\n",
       "      <th></th>\n",
       "      <th>CustomerID</th>\n",
       "      <th>EmployeeID</th>\n",
       "      <th>OrderDate</th>\n",
       "    </tr>\n",
       "  </thead>\n",
       "  <tbody>\n",
       "    <tr>\n",
       "      <th>0</th>\n",
       "      <td>2</td>\n",
       "      <td>7</td>\n",
       "      <td>1996-09-18</td>\n",
       "    </tr>\n",
       "    <tr>\n",
       "      <th>1</th>\n",
       "      <td>37</td>\n",
       "      <td>3</td>\n",
       "      <td>1996-09-19</td>\n",
       "    </tr>\n",
       "    <tr>\n",
       "      <th>2</th>\n",
       "      <td>77</td>\n",
       "      <td>8</td>\n",
       "      <td>1996-09-20</td>\n",
       "    </tr>\n",
       "  </tbody>\n",
       "</table>\n",
       "</div>"
      ],
      "text/plain": [
       "   CustomerID  EmployeeID   OrderDate\n",
       "0           2           7  1996-09-18\n",
       "1          37           3  1996-09-19\n",
       "2          77           8  1996-09-20"
      ]
     },
     "execution_count": 9,
     "metadata": {},
     "output_type": "execute_result"
    }
   ],
   "source": [
    "DataFrame (df,columns=['CustomerID','EmployeeID','OrderDate'])"
   ]
  },
  {
   "cell_type": "code",
   "execution_count": 10,
   "id": "6dc06adb",
   "metadata": {},
   "outputs": [
    {
     "data": {
      "text/html": [
       "<div>\n",
       "<style scoped>\n",
       "    .dataframe tbody tr th:only-of-type {\n",
       "        vertical-align: middle;\n",
       "    }\n",
       "\n",
       "    .dataframe tbody tr th {\n",
       "        vertical-align: top;\n",
       "    }\n",
       "\n",
       "    .dataframe thead th {\n",
       "        text-align: right;\n",
       "    }\n",
       "</style>\n",
       "<table border=\"1\" class=\"dataframe\">\n",
       "  <thead>\n",
       "    <tr style=\"text-align: right;\">\n",
       "      <th></th>\n",
       "      <th>CustomerID</th>\n",
       "      <th>EmployeeID</th>\n",
       "      <th>OrderDate</th>\n",
       "      <th>Product</th>\n",
       "    </tr>\n",
       "  </thead>\n",
       "  <tbody>\n",
       "    <tr>\n",
       "      <th>0</th>\n",
       "      <td>2</td>\n",
       "      <td>7</td>\n",
       "      <td>1996-09-18</td>\n",
       "      <td>NaN</td>\n",
       "    </tr>\n",
       "    <tr>\n",
       "      <th>1</th>\n",
       "      <td>37</td>\n",
       "      <td>3</td>\n",
       "      <td>1996-09-19</td>\n",
       "      <td>NaN</td>\n",
       "    </tr>\n",
       "    <tr>\n",
       "      <th>2</th>\n",
       "      <td>77</td>\n",
       "      <td>8</td>\n",
       "      <td>1996-09-20</td>\n",
       "      <td>NaN</td>\n",
       "    </tr>\n",
       "  </tbody>\n",
       "</table>\n",
       "</div>"
      ],
      "text/plain": [
       "   CustomerID  EmployeeID   OrderDate  Product\n",
       "0           2           7  1996-09-18      NaN\n",
       "1          37           3  1996-09-19      NaN\n",
       "2          77           8  1996-09-20      NaN"
      ]
     },
     "execution_count": 10,
     "metadata": {},
     "output_type": "execute_result"
    }
   ],
   "source": [
    "DataFrame (df,columns=['CustomerID','EmployeeID','OrderDate','Product'])"
   ]
  },
  {
   "cell_type": "code",
   "execution_count": 11,
   "id": "b4218748",
   "metadata": {},
   "outputs": [],
   "source": [
    "df ['Product']='ABC'"
   ]
  },
  {
   "cell_type": "code",
   "execution_count": 12,
   "id": "0c9f25b2",
   "metadata": {},
   "outputs": [
    {
     "data": {
      "text/html": [
       "<div>\n",
       "<style scoped>\n",
       "    .dataframe tbody tr th:only-of-type {\n",
       "        vertical-align: middle;\n",
       "    }\n",
       "\n",
       "    .dataframe tbody tr th {\n",
       "        vertical-align: top;\n",
       "    }\n",
       "\n",
       "    .dataframe thead th {\n",
       "        text-align: right;\n",
       "    }\n",
       "</style>\n",
       "<table border=\"1\" class=\"dataframe\">\n",
       "  <thead>\n",
       "    <tr style=\"text-align: right;\">\n",
       "      <th></th>\n",
       "      <th>OrderID</th>\n",
       "      <th>CustomerID</th>\n",
       "      <th>EmployeeID</th>\n",
       "      <th>OrderDate</th>\n",
       "      <th>ShipperID</th>\n",
       "      <th>Product</th>\n",
       "    </tr>\n",
       "  </thead>\n",
       "  <tbody>\n",
       "    <tr>\n",
       "      <th>0</th>\n",
       "      <td>10308</td>\n",
       "      <td>2</td>\n",
       "      <td>7</td>\n",
       "      <td>1996-09-18</td>\n",
       "      <td>3</td>\n",
       "      <td>ABC</td>\n",
       "    </tr>\n",
       "    <tr>\n",
       "      <th>1</th>\n",
       "      <td>10309</td>\n",
       "      <td>37</td>\n",
       "      <td>3</td>\n",
       "      <td>1996-09-19</td>\n",
       "      <td>1</td>\n",
       "      <td>ABC</td>\n",
       "    </tr>\n",
       "    <tr>\n",
       "      <th>2</th>\n",
       "      <td>10310</td>\n",
       "      <td>77</td>\n",
       "      <td>8</td>\n",
       "      <td>1996-09-20</td>\n",
       "      <td>2</td>\n",
       "      <td>ABC</td>\n",
       "    </tr>\n",
       "  </tbody>\n",
       "</table>\n",
       "</div>"
      ],
      "text/plain": [
       "   OrderID  CustomerID  EmployeeID   OrderDate  ShipperID Product\n",
       "0    10308           2           7  1996-09-18          3     ABC\n",
       "1    10309          37           3  1996-09-19          1     ABC\n",
       "2    10310          77           8  1996-09-20          2     ABC"
      ]
     },
     "execution_count": 12,
     "metadata": {},
     "output_type": "execute_result"
    }
   ],
   "source": [
    "df"
   ]
  },
  {
   "cell_type": "code",
   "execution_count": 13,
   "id": "3f2a9f19",
   "metadata": {},
   "outputs": [],
   "source": [
    "df['City']='NGP'"
   ]
  },
  {
   "cell_type": "code",
   "execution_count": 14,
   "id": "3ac6113c",
   "metadata": {},
   "outputs": [
    {
     "data": {
      "text/html": [
       "<div>\n",
       "<style scoped>\n",
       "    .dataframe tbody tr th:only-of-type {\n",
       "        vertical-align: middle;\n",
       "    }\n",
       "\n",
       "    .dataframe tbody tr th {\n",
       "        vertical-align: top;\n",
       "    }\n",
       "\n",
       "    .dataframe thead th {\n",
       "        text-align: right;\n",
       "    }\n",
       "</style>\n",
       "<table border=\"1\" class=\"dataframe\">\n",
       "  <thead>\n",
       "    <tr style=\"text-align: right;\">\n",
       "      <th></th>\n",
       "      <th>CustomerID</th>\n",
       "      <th>EmployeeID</th>\n",
       "      <th>OrderDate</th>\n",
       "      <th>Product</th>\n",
       "      <th>City</th>\n",
       "    </tr>\n",
       "  </thead>\n",
       "  <tbody>\n",
       "    <tr>\n",
       "      <th>0</th>\n",
       "      <td>2</td>\n",
       "      <td>7</td>\n",
       "      <td>1996-09-18</td>\n",
       "      <td>ABC</td>\n",
       "      <td>NGP</td>\n",
       "    </tr>\n",
       "    <tr>\n",
       "      <th>1</th>\n",
       "      <td>37</td>\n",
       "      <td>3</td>\n",
       "      <td>1996-09-19</td>\n",
       "      <td>ABC</td>\n",
       "      <td>NGP</td>\n",
       "    </tr>\n",
       "    <tr>\n",
       "      <th>2</th>\n",
       "      <td>77</td>\n",
       "      <td>8</td>\n",
       "      <td>1996-09-20</td>\n",
       "      <td>ABC</td>\n",
       "      <td>NGP</td>\n",
       "    </tr>\n",
       "  </tbody>\n",
       "</table>\n",
       "</div>"
      ],
      "text/plain": [
       "   CustomerID  EmployeeID   OrderDate Product City\n",
       "0           2           7  1996-09-18     ABC  NGP\n",
       "1          37           3  1996-09-19     ABC  NGP\n",
       "2          77           8  1996-09-20     ABC  NGP"
      ]
     },
     "execution_count": 14,
     "metadata": {},
     "output_type": "execute_result"
    }
   ],
   "source": [
    "DataFrame (df,columns=['CustomerID','EmployeeID','OrderDate','Product','City'])"
   ]
  },
  {
   "cell_type": "code",
   "execution_count": 15,
   "id": "4f31552c",
   "metadata": {},
   "outputs": [
    {
     "data": {
      "text/html": [
       "<div>\n",
       "<style scoped>\n",
       "    .dataframe tbody tr th:only-of-type {\n",
       "        vertical-align: middle;\n",
       "    }\n",
       "\n",
       "    .dataframe tbody tr th {\n",
       "        vertical-align: top;\n",
       "    }\n",
       "\n",
       "    .dataframe thead th {\n",
       "        text-align: right;\n",
       "    }\n",
       "</style>\n",
       "<table border=\"1\" class=\"dataframe\">\n",
       "  <thead>\n",
       "    <tr style=\"text-align: right;\">\n",
       "      <th></th>\n",
       "      <th>OrderID</th>\n",
       "      <th>CustomerID</th>\n",
       "      <th>EmployeeID</th>\n",
       "      <th>OrderDate</th>\n",
       "      <th>ShipperID</th>\n",
       "      <th>Product</th>\n",
       "      <th>City</th>\n",
       "    </tr>\n",
       "  </thead>\n",
       "  <tbody>\n",
       "    <tr>\n",
       "      <th>0</th>\n",
       "      <td>10308</td>\n",
       "      <td>2</td>\n",
       "      <td>7</td>\n",
       "      <td>1996-09-18</td>\n",
       "      <td>3</td>\n",
       "      <td>ABC</td>\n",
       "      <td>NGP</td>\n",
       "    </tr>\n",
       "    <tr>\n",
       "      <th>1</th>\n",
       "      <td>10309</td>\n",
       "      <td>37</td>\n",
       "      <td>3</td>\n",
       "      <td>1996-09-19</td>\n",
       "      <td>1</td>\n",
       "      <td>ABC</td>\n",
       "      <td>NGP</td>\n",
       "    </tr>\n",
       "    <tr>\n",
       "      <th>2</th>\n",
       "      <td>10310</td>\n",
       "      <td>77</td>\n",
       "      <td>8</td>\n",
       "      <td>1996-09-20</td>\n",
       "      <td>2</td>\n",
       "      <td>ABC</td>\n",
       "      <td>NGP</td>\n",
       "    </tr>\n",
       "  </tbody>\n",
       "</table>\n",
       "</div>"
      ],
      "text/plain": [
       "   OrderID  CustomerID  EmployeeID   OrderDate  ShipperID Product City\n",
       "0    10308           2           7  1996-09-18          3     ABC  NGP\n",
       "1    10309          37           3  1996-09-19          1     ABC  NGP\n",
       "2    10310          77           8  1996-09-20          2     ABC  NGP"
      ]
     },
     "execution_count": 15,
     "metadata": {},
     "output_type": "execute_result"
    }
   ],
   "source": [
    "df     "
   ]
  },
  {
   "cell_type": "code",
   "execution_count": 16,
   "id": "246afc79",
   "metadata": {},
   "outputs": [],
   "source": [
    "# 0,1,2 are c/as index \n",
    "# df = pd.DataFrame(data, index = [\"day1\", \"day2\", \"day3\"])\n",
    "#here day1, day2, day3 are c/as index"
   ]
  },
  {
   "cell_type": "code",
   "execution_count": 17,
   "id": "b518333d",
   "metadata": {},
   "outputs": [],
   "source": [
    "s1=Series(['Tv','Oven','ABC'],index=[0,1,2])"
   ]
  },
  {
   "cell_type": "markdown",
   "id": "1cf58c5e",
   "metadata": {},
   "source": [
    "# "
   ]
  },
  {
   "cell_type": "code",
   "execution_count": 18,
   "id": "ddd075a5",
   "metadata": {},
   "outputs": [
    {
     "data": {
      "text/plain": [
       "0      Tv\n",
       "1    Oven\n",
       "2     ABC\n",
       "dtype: object"
      ]
     },
     "execution_count": 18,
     "metadata": {},
     "output_type": "execute_result"
    }
   ],
   "source": [
    "s1"
   ]
  },
  {
   "cell_type": "code",
   "execution_count": 19,
   "id": "992fadf1",
   "metadata": {},
   "outputs": [
    {
     "data": {
      "text/plain": [
       "0     2\n",
       "1    37\n",
       "2    77\n",
       "Name: CustomerID, dtype: int64"
      ]
     },
     "execution_count": 19,
     "metadata": {},
     "output_type": "execute_result"
    }
   ],
   "source": [
    "df['CustomerID']"
   ]
  },
  {
   "cell_type": "code",
   "execution_count": 20,
   "id": "a5bfab18",
   "metadata": {},
   "outputs": [],
   "source": [
    "df['Product']=s1"
   ]
  },
  {
   "cell_type": "code",
   "execution_count": 21,
   "id": "a35f2c7c",
   "metadata": {},
   "outputs": [
    {
     "data": {
      "text/html": [
       "<div>\n",
       "<style scoped>\n",
       "    .dataframe tbody tr th:only-of-type {\n",
       "        vertical-align: middle;\n",
       "    }\n",
       "\n",
       "    .dataframe tbody tr th {\n",
       "        vertical-align: top;\n",
       "    }\n",
       "\n",
       "    .dataframe thead th {\n",
       "        text-align: right;\n",
       "    }\n",
       "</style>\n",
       "<table border=\"1\" class=\"dataframe\">\n",
       "  <thead>\n",
       "    <tr style=\"text-align: right;\">\n",
       "      <th></th>\n",
       "      <th>OrderID</th>\n",
       "      <th>CustomerID</th>\n",
       "      <th>EmployeeID</th>\n",
       "      <th>OrderDate</th>\n",
       "      <th>ShipperID</th>\n",
       "      <th>Product</th>\n",
       "      <th>City</th>\n",
       "    </tr>\n",
       "  </thead>\n",
       "  <tbody>\n",
       "    <tr>\n",
       "      <th>0</th>\n",
       "      <td>10308</td>\n",
       "      <td>2</td>\n",
       "      <td>7</td>\n",
       "      <td>1996-09-18</td>\n",
       "      <td>3</td>\n",
       "      <td>Tv</td>\n",
       "      <td>NGP</td>\n",
       "    </tr>\n",
       "    <tr>\n",
       "      <th>1</th>\n",
       "      <td>10309</td>\n",
       "      <td>37</td>\n",
       "      <td>3</td>\n",
       "      <td>1996-09-19</td>\n",
       "      <td>1</td>\n",
       "      <td>Oven</td>\n",
       "      <td>NGP</td>\n",
       "    </tr>\n",
       "    <tr>\n",
       "      <th>2</th>\n",
       "      <td>10310</td>\n",
       "      <td>77</td>\n",
       "      <td>8</td>\n",
       "      <td>1996-09-20</td>\n",
       "      <td>2</td>\n",
       "      <td>ABC</td>\n",
       "      <td>NGP</td>\n",
       "    </tr>\n",
       "  </tbody>\n",
       "</table>\n",
       "</div>"
      ],
      "text/plain": [
       "   OrderID  CustomerID  EmployeeID   OrderDate  ShipperID Product City\n",
       "0    10308           2           7  1996-09-18          3      Tv  NGP\n",
       "1    10309          37           3  1996-09-19          1    Oven  NGP\n",
       "2    10310          77           8  1996-09-20          2     ABC  NGP"
      ]
     },
     "execution_count": 21,
     "metadata": {},
     "output_type": "execute_result"
    }
   ],
   "source": [
    "df"
   ]
  },
  {
   "cell_type": "code",
   "execution_count": 22,
   "id": "39cddce2",
   "metadata": {},
   "outputs": [],
   "source": [
    "s2=Series(['Chennai','Bangalore','Nagpur'],index=[0,1,2])"
   ]
  },
  {
   "cell_type": "code",
   "execution_count": 23,
   "id": "fc1408b2",
   "metadata": {},
   "outputs": [],
   "source": [
    "df['City']=s2"
   ]
  },
  {
   "cell_type": "code",
   "execution_count": 24,
   "id": "3e5b1e77",
   "metadata": {},
   "outputs": [
    {
     "data": {
      "text/html": [
       "<div>\n",
       "<style scoped>\n",
       "    .dataframe tbody tr th:only-of-type {\n",
       "        vertical-align: middle;\n",
       "    }\n",
       "\n",
       "    .dataframe tbody tr th {\n",
       "        vertical-align: top;\n",
       "    }\n",
       "\n",
       "    .dataframe thead th {\n",
       "        text-align: right;\n",
       "    }\n",
       "</style>\n",
       "<table border=\"1\" class=\"dataframe\">\n",
       "  <thead>\n",
       "    <tr style=\"text-align: right;\">\n",
       "      <th></th>\n",
       "      <th>OrderID</th>\n",
       "      <th>CustomerID</th>\n",
       "      <th>EmployeeID</th>\n",
       "      <th>OrderDate</th>\n",
       "      <th>ShipperID</th>\n",
       "      <th>Product</th>\n",
       "      <th>City</th>\n",
       "    </tr>\n",
       "  </thead>\n",
       "  <tbody>\n",
       "    <tr>\n",
       "      <th>0</th>\n",
       "      <td>10308</td>\n",
       "      <td>2</td>\n",
       "      <td>7</td>\n",
       "      <td>1996-09-18</td>\n",
       "      <td>3</td>\n",
       "      <td>Tv</td>\n",
       "      <td>Chennai</td>\n",
       "    </tr>\n",
       "    <tr>\n",
       "      <th>1</th>\n",
       "      <td>10309</td>\n",
       "      <td>37</td>\n",
       "      <td>3</td>\n",
       "      <td>1996-09-19</td>\n",
       "      <td>1</td>\n",
       "      <td>Oven</td>\n",
       "      <td>Bangalore</td>\n",
       "    </tr>\n",
       "    <tr>\n",
       "      <th>2</th>\n",
       "      <td>10310</td>\n",
       "      <td>77</td>\n",
       "      <td>8</td>\n",
       "      <td>1996-09-20</td>\n",
       "      <td>2</td>\n",
       "      <td>ABC</td>\n",
       "      <td>Nagpur</td>\n",
       "    </tr>\n",
       "  </tbody>\n",
       "</table>\n",
       "</div>"
      ],
      "text/plain": [
       "   OrderID  CustomerID  EmployeeID   OrderDate  ShipperID Product       City\n",
       "0    10308           2           7  1996-09-18          3      Tv    Chennai\n",
       "1    10309          37           3  1996-09-19          1    Oven  Bangalore\n",
       "2    10310          77           8  1996-09-20          2     ABC     Nagpur"
      ]
     },
     "execution_count": 24,
     "metadata": {},
     "output_type": "execute_result"
    }
   ],
   "source": [
    "df"
   ]
  },
  {
   "cell_type": "code",
   "execution_count": 25,
   "id": "8b8229f2",
   "metadata": {},
   "outputs": [],
   "source": [
    "# the index values defined only will be printed, the not defined one will be printed as\"Nan\""
   ]
  },
  {
   "cell_type": "code",
   "execution_count": 26,
   "id": "2890608c",
   "metadata": {},
   "outputs": [],
   "source": [
    "df['Quantity']=np.arange(5,16,4)"
   ]
  },
  {
   "cell_type": "code",
   "execution_count": 27,
   "id": "4e9f4003",
   "metadata": {},
   "outputs": [
    {
     "data": {
      "text/html": [
       "<div>\n",
       "<style scoped>\n",
       "    .dataframe tbody tr th:only-of-type {\n",
       "        vertical-align: middle;\n",
       "    }\n",
       "\n",
       "    .dataframe tbody tr th {\n",
       "        vertical-align: top;\n",
       "    }\n",
       "\n",
       "    .dataframe thead th {\n",
       "        text-align: right;\n",
       "    }\n",
       "</style>\n",
       "<table border=\"1\" class=\"dataframe\">\n",
       "  <thead>\n",
       "    <tr style=\"text-align: right;\">\n",
       "      <th></th>\n",
       "      <th>OrderID</th>\n",
       "      <th>CustomerID</th>\n",
       "      <th>EmployeeID</th>\n",
       "      <th>OrderDate</th>\n",
       "      <th>ShipperID</th>\n",
       "      <th>Product</th>\n",
       "      <th>City</th>\n",
       "      <th>Quantity</th>\n",
       "    </tr>\n",
       "  </thead>\n",
       "  <tbody>\n",
       "    <tr>\n",
       "      <th>0</th>\n",
       "      <td>10308</td>\n",
       "      <td>2</td>\n",
       "      <td>7</td>\n",
       "      <td>1996-09-18</td>\n",
       "      <td>3</td>\n",
       "      <td>Tv</td>\n",
       "      <td>Chennai</td>\n",
       "      <td>5</td>\n",
       "    </tr>\n",
       "    <tr>\n",
       "      <th>1</th>\n",
       "      <td>10309</td>\n",
       "      <td>37</td>\n",
       "      <td>3</td>\n",
       "      <td>1996-09-19</td>\n",
       "      <td>1</td>\n",
       "      <td>Oven</td>\n",
       "      <td>Bangalore</td>\n",
       "      <td>9</td>\n",
       "    </tr>\n",
       "    <tr>\n",
       "      <th>2</th>\n",
       "      <td>10310</td>\n",
       "      <td>77</td>\n",
       "      <td>8</td>\n",
       "      <td>1996-09-20</td>\n",
       "      <td>2</td>\n",
       "      <td>ABC</td>\n",
       "      <td>Nagpur</td>\n",
       "      <td>13</td>\n",
       "    </tr>\n",
       "  </tbody>\n",
       "</table>\n",
       "</div>"
      ],
      "text/plain": [
       "   OrderID  CustomerID  EmployeeID   OrderDate  ShipperID Product       City  \\\n",
       "0    10308           2           7  1996-09-18          3      Tv    Chennai   \n",
       "1    10309          37           3  1996-09-19          1    Oven  Bangalore   \n",
       "2    10310          77           8  1996-09-20          2     ABC     Nagpur   \n",
       "\n",
       "   Quantity  \n",
       "0         5  \n",
       "1         9  \n",
       "2        13  "
      ]
     },
     "execution_count": 27,
     "metadata": {},
     "output_type": "execute_result"
    }
   ],
   "source": [
    "df"
   ]
  },
  {
   "cell_type": "code",
   "execution_count": 28,
   "id": "3069ff22",
   "metadata": {},
   "outputs": [
    {
     "data": {
      "text/plain": [
       "'ABC'"
      ]
     },
     "execution_count": 28,
     "metadata": {},
     "output_type": "execute_result"
    }
   ],
   "source": [
    "df.Product[2]"
   ]
  },
  {
   "cell_type": "code",
   "execution_count": 29,
   "id": "9d8f881b",
   "metadata": {},
   "outputs": [],
   "source": [
    "del df['Product']"
   ]
  },
  {
   "cell_type": "code",
   "execution_count": 30,
   "id": "8608235a",
   "metadata": {},
   "outputs": [
    {
     "data": {
      "text/html": [
       "<div>\n",
       "<style scoped>\n",
       "    .dataframe tbody tr th:only-of-type {\n",
       "        vertical-align: middle;\n",
       "    }\n",
       "\n",
       "    .dataframe tbody tr th {\n",
       "        vertical-align: top;\n",
       "    }\n",
       "\n",
       "    .dataframe thead th {\n",
       "        text-align: right;\n",
       "    }\n",
       "</style>\n",
       "<table border=\"1\" class=\"dataframe\">\n",
       "  <thead>\n",
       "    <tr style=\"text-align: right;\">\n",
       "      <th></th>\n",
       "      <th>OrderID</th>\n",
       "      <th>CustomerID</th>\n",
       "      <th>EmployeeID</th>\n",
       "      <th>OrderDate</th>\n",
       "      <th>ShipperID</th>\n",
       "      <th>City</th>\n",
       "      <th>Quantity</th>\n",
       "    </tr>\n",
       "  </thead>\n",
       "  <tbody>\n",
       "    <tr>\n",
       "      <th>0</th>\n",
       "      <td>10308</td>\n",
       "      <td>2</td>\n",
       "      <td>7</td>\n",
       "      <td>1996-09-18</td>\n",
       "      <td>3</td>\n",
       "      <td>Chennai</td>\n",
       "      <td>5</td>\n",
       "    </tr>\n",
       "    <tr>\n",
       "      <th>1</th>\n",
       "      <td>10309</td>\n",
       "      <td>37</td>\n",
       "      <td>3</td>\n",
       "      <td>1996-09-19</td>\n",
       "      <td>1</td>\n",
       "      <td>Bangalore</td>\n",
       "      <td>9</td>\n",
       "    </tr>\n",
       "    <tr>\n",
       "      <th>2</th>\n",
       "      <td>10310</td>\n",
       "      <td>77</td>\n",
       "      <td>8</td>\n",
       "      <td>1996-09-20</td>\n",
       "      <td>2</td>\n",
       "      <td>Nagpur</td>\n",
       "      <td>13</td>\n",
       "    </tr>\n",
       "  </tbody>\n",
       "</table>\n",
       "</div>"
      ],
      "text/plain": [
       "   OrderID  CustomerID  EmployeeID   OrderDate  ShipperID       City  Quantity\n",
       "0    10308           2           7  1996-09-18          3    Chennai         5\n",
       "1    10309          37           3  1996-09-19          1  Bangalore         9\n",
       "2    10310          77           8  1996-09-20          2     Nagpur        13"
      ]
     },
     "execution_count": 30,
     "metadata": {},
     "output_type": "execute_result"
    }
   ],
   "source": [
    "df"
   ]
  },
  {
   "cell_type": "code",
   "execution_count": 31,
   "id": "335943ea",
   "metadata": {},
   "outputs": [],
   "source": [
    "del df['Quantity']"
   ]
  },
  {
   "cell_type": "code",
   "execution_count": 32,
   "id": "eb9c807d",
   "metadata": {},
   "outputs": [
    {
     "data": {
      "text/html": [
       "<div>\n",
       "<style scoped>\n",
       "    .dataframe tbody tr th:only-of-type {\n",
       "        vertical-align: middle;\n",
       "    }\n",
       "\n",
       "    .dataframe tbody tr th {\n",
       "        vertical-align: top;\n",
       "    }\n",
       "\n",
       "    .dataframe thead th {\n",
       "        text-align: right;\n",
       "    }\n",
       "</style>\n",
       "<table border=\"1\" class=\"dataframe\">\n",
       "  <thead>\n",
       "    <tr style=\"text-align: right;\">\n",
       "      <th></th>\n",
       "      <th>OrderID</th>\n",
       "      <th>CustomerID</th>\n",
       "      <th>EmployeeID</th>\n",
       "      <th>OrderDate</th>\n",
       "      <th>ShipperID</th>\n",
       "      <th>City</th>\n",
       "    </tr>\n",
       "  </thead>\n",
       "  <tbody>\n",
       "    <tr>\n",
       "      <th>0</th>\n",
       "      <td>10308</td>\n",
       "      <td>2</td>\n",
       "      <td>7</td>\n",
       "      <td>1996-09-18</td>\n",
       "      <td>3</td>\n",
       "      <td>Chennai</td>\n",
       "    </tr>\n",
       "    <tr>\n",
       "      <th>1</th>\n",
       "      <td>10309</td>\n",
       "      <td>37</td>\n",
       "      <td>3</td>\n",
       "      <td>1996-09-19</td>\n",
       "      <td>1</td>\n",
       "      <td>Bangalore</td>\n",
       "    </tr>\n",
       "    <tr>\n",
       "      <th>2</th>\n",
       "      <td>10310</td>\n",
       "      <td>77</td>\n",
       "      <td>8</td>\n",
       "      <td>1996-09-20</td>\n",
       "      <td>2</td>\n",
       "      <td>Nagpur</td>\n",
       "    </tr>\n",
       "  </tbody>\n",
       "</table>\n",
       "</div>"
      ],
      "text/plain": [
       "   OrderID  CustomerID  EmployeeID   OrderDate  ShipperID       City\n",
       "0    10308           2           7  1996-09-18          3    Chennai\n",
       "1    10309          37           3  1996-09-19          1  Bangalore\n",
       "2    10310          77           8  1996-09-20          2     Nagpur"
      ]
     },
     "execution_count": 32,
     "metadata": {},
     "output_type": "execute_result"
    }
   ],
   "source": [
    "df"
   ]
  },
  {
   "cell_type": "code",
   "execution_count": 33,
   "id": "8e3cd80b",
   "metadata": {},
   "outputs": [],
   "source": [
    "df['Product']=Series(['Tv','Oven'],index=(1,2))"
   ]
  },
  {
   "cell_type": "code",
   "execution_count": 34,
   "id": "91bcf5f2",
   "metadata": {},
   "outputs": [
    {
     "data": {
      "text/plain": [
       "'1996-09-20'"
      ]
     },
     "execution_count": 34,
     "metadata": {},
     "output_type": "execute_result"
    }
   ],
   "source": [
    "df.OrderDate\t[2]"
   ]
  },
  {
   "cell_type": "code",
   "execution_count": 35,
   "id": "030ff253",
   "metadata": {},
   "outputs": [
    {
     "data": {
      "text/plain": [
       "10310"
      ]
     },
     "execution_count": 35,
     "metadata": {},
     "output_type": "execute_result"
    }
   ],
   "source": [
    "df.OrderID[2]"
   ]
  },
  {
   "cell_type": "markdown",
   "id": "fcce2cbd",
   "metadata": {},
   "source": [
    "# Loc and iloc"
   ]
  },
  {
   "cell_type": "code",
   "execution_count": 39,
   "id": "2a8e5837",
   "metadata": {},
   "outputs": [],
   "source": [
    "# loc=loc[row-label, column-label]"
   ]
  },
  {
   "cell_type": "code",
   "execution_count": 40,
   "id": "a9e42472",
   "metadata": {},
   "outputs": [],
   "source": [
    "# loc\n",
    "# loc[A] or loc[1]\n",
    "# lo [[A,B]]"
   ]
  },
  {
   "cell_type": "code",
   "execution_count": 1,
   "id": "68c50688",
   "metadata": {},
   "outputs": [],
   "source": [
    "#iloc=iloc[row-position, column-position]"
   ]
  },
  {
   "cell_type": "code",
   "execution_count": 2,
   "id": "18298ac0",
   "metadata": {},
   "outputs": [],
   "source": [
    "#iloc - position based"
   ]
  },
  {
   "cell_type": "code",
   "execution_count": null,
   "id": "b4e7c981",
   "metadata": {},
   "outputs": [],
   "source": [
    "#loc - value based"
   ]
  },
  {
   "cell_type": "code",
   "execution_count": 42,
   "id": "c05b4562",
   "metadata": {},
   "outputs": [],
   "source": [
    "# iloc[1]"
   ]
  },
  {
   "cell_type": "code",
   "execution_count": 43,
   "id": "2d0cb19a",
   "metadata": {},
   "outputs": [
    {
     "name": "stdout",
     "output_type": "stream",
     "text": [
      "      calories  duration\n",
      "day1       420        50\n",
      "day2       380        40\n",
      "day3       390        45\n"
     ]
    }
   ],
   "source": [
    "import pandas as pd\n",
    "\n",
    "data = {\n",
    "  \"calories\": [420, 380, 390],\n",
    "  \"duration\": [50, 40, 45]\n",
    "}\n",
    "\n",
    "df = pd.DataFrame(data, index = [\"day1\", \"day2\", \"day3\"])\n",
    "\n",
    "print(df) "
   ]
  },
  {
   "cell_type": "code",
   "execution_count": 44,
   "id": "31aa829b",
   "metadata": {},
   "outputs": [
    {
     "data": {
      "text/plain": [
       "calories    380\n",
       "duration     40\n",
       "Name: day2, dtype: int64"
      ]
     },
     "execution_count": 44,
     "metadata": {},
     "output_type": "execute_result"
    }
   ],
   "source": [
    "df.loc[\"day2\"]"
   ]
  },
  {
   "cell_type": "code",
   "execution_count": 45,
   "id": "91cf471d",
   "metadata": {},
   "outputs": [
    {
     "data": {
      "text/plain": [
       "calories    390\n",
       "duration     45\n",
       "Name: day3, dtype: int64"
      ]
     },
     "execution_count": 45,
     "metadata": {},
     "output_type": "execute_result"
    }
   ],
   "source": [
    "df.iloc[2]"
   ]
  },
  {
   "cell_type": "code",
   "execution_count": 46,
   "id": "ad037e69",
   "metadata": {},
   "outputs": [
    {
     "data": {
      "text/plain": [
       "calories    380\n",
       "duration     40\n",
       "Name: day2, dtype: int64"
      ]
     },
     "execution_count": 46,
     "metadata": {},
     "output_type": "execute_result"
    }
   ],
   "source": [
    "df.loc[\"day1\"]\n",
    "df.iloc[1]"
   ]
  },
  {
   "cell_type": "code",
   "execution_count": 48,
   "id": "d17f27b5",
   "metadata": {},
   "outputs": [],
   "source": [
    "df=pd.read_clipboard(engine='python')"
   ]
  },
  {
   "cell_type": "code",
   "execution_count": 49,
   "id": "2e7735d0",
   "metadata": {},
   "outputs": [
    {
     "data": {
      "text/html": [
       "<div>\n",
       "<style scoped>\n",
       "    .dataframe tbody tr th:only-of-type {\n",
       "        vertical-align: middle;\n",
       "    }\n",
       "\n",
       "    .dataframe tbody tr th {\n",
       "        vertical-align: top;\n",
       "    }\n",
       "\n",
       "    .dataframe thead th {\n",
       "        text-align: right;\n",
       "    }\n",
       "</style>\n",
       "<table border=\"1\" class=\"dataframe\">\n",
       "  <thead>\n",
       "    <tr style=\"text-align: right;\">\n",
       "      <th></th>\n",
       "      <th>OrderID</th>\n",
       "      <th>CustomerID</th>\n",
       "      <th>EmployeeID</th>\n",
       "      <th>OrderDate</th>\n",
       "      <th>ShipperID</th>\n",
       "    </tr>\n",
       "  </thead>\n",
       "  <tbody>\n",
       "    <tr>\n",
       "      <th>0</th>\n",
       "      <td>10308</td>\n",
       "      <td>2</td>\n",
       "      <td>7</td>\n",
       "      <td>1996-09-18</td>\n",
       "      <td>3</td>\n",
       "    </tr>\n",
       "    <tr>\n",
       "      <th>1</th>\n",
       "      <td>10309</td>\n",
       "      <td>37</td>\n",
       "      <td>3</td>\n",
       "      <td>1996-09-19</td>\n",
       "      <td>1</td>\n",
       "    </tr>\n",
       "    <tr>\n",
       "      <th>2</th>\n",
       "      <td>10310</td>\n",
       "      <td>77</td>\n",
       "      <td>8</td>\n",
       "      <td>1996-09-20</td>\n",
       "      <td>2</td>\n",
       "    </tr>\n",
       "  </tbody>\n",
       "</table>\n",
       "</div>"
      ],
      "text/plain": [
       "   OrderID  CustomerID  EmployeeID   OrderDate  ShipperID\n",
       "0    10308           2           7  1996-09-18          3\n",
       "1    10309          37           3  1996-09-19          1\n",
       "2    10310          77           8  1996-09-20          2"
      ]
     },
     "execution_count": 49,
     "metadata": {},
     "output_type": "execute_result"
    }
   ],
   "source": [
    "df"
   ]
  },
  {
   "cell_type": "code",
   "execution_count": 50,
   "id": "51cecc50",
   "metadata": {},
   "outputs": [
    {
     "data": {
      "text/plain": [
       "OrderID            10310\n",
       "CustomerID            77\n",
       "EmployeeID             8\n",
       "OrderDate     1996-09-20\n",
       "ShipperID              2\n",
       "Name: 2, dtype: object"
      ]
     },
     "execution_count": 50,
     "metadata": {},
     "output_type": "execute_result"
    }
   ],
   "source": [
    "df.loc[2]"
   ]
  },
  {
   "cell_type": "code",
   "execution_count": 53,
   "id": "4682817a",
   "metadata": {},
   "outputs": [
    {
     "data": {
      "text/plain": [
       "OrderDate    1996-09-20\n",
       "Name: 2, dtype: object"
      ]
     },
     "execution_count": 53,
     "metadata": {},
     "output_type": "execute_result"
    }
   ],
   "source": [
    "df.loc[2,[\"OrderDate\"]]"
   ]
  },
  {
   "cell_type": "code",
   "execution_count": 57,
   "id": "2db38b7c",
   "metadata": {},
   "outputs": [
    {
     "data": {
      "text/plain": [
       "'1996-09-20'"
      ]
     },
     "execution_count": 57,
     "metadata": {},
     "output_type": "execute_result"
    }
   ],
   "source": [
    "df.iloc[2,3]"
   ]
  },
  {
   "cell_type": "code",
   "execution_count": 58,
   "id": "a16d9a86",
   "metadata": {},
   "outputs": [
    {
     "data": {
      "text/plain": [
       "1    1996-09-19\n",
       "2    1996-09-20\n",
       "Name: OrderDate, dtype: object"
      ]
     },
     "execution_count": 58,
     "metadata": {},
     "output_type": "execute_result"
    }
   ],
   "source": [
    "df.loc[[1,2],\"OrderDate\"]"
   ]
  },
  {
   "cell_type": "code",
   "execution_count": 60,
   "id": "f49b98d0",
   "metadata": {},
   "outputs": [
    {
     "data": {
      "text/html": [
       "<div>\n",
       "<style scoped>\n",
       "    .dataframe tbody tr th:only-of-type {\n",
       "        vertical-align: middle;\n",
       "    }\n",
       "\n",
       "    .dataframe tbody tr th {\n",
       "        vertical-align: top;\n",
       "    }\n",
       "\n",
       "    .dataframe thead th {\n",
       "        text-align: right;\n",
       "    }\n",
       "</style>\n",
       "<table border=\"1\" class=\"dataframe\">\n",
       "  <thead>\n",
       "    <tr style=\"text-align: right;\">\n",
       "      <th></th>\n",
       "      <th>OrderDate</th>\n",
       "      <th>EmployeeID</th>\n",
       "    </tr>\n",
       "  </thead>\n",
       "  <tbody>\n",
       "    <tr>\n",
       "      <th>1</th>\n",
       "      <td>1996-09-19</td>\n",
       "      <td>3</td>\n",
       "    </tr>\n",
       "    <tr>\n",
       "      <th>2</th>\n",
       "      <td>1996-09-20</td>\n",
       "      <td>8</td>\n",
       "    </tr>\n",
       "  </tbody>\n",
       "</table>\n",
       "</div>"
      ],
      "text/plain": [
       "    OrderDate  EmployeeID\n",
       "1  1996-09-19           3\n",
       "2  1996-09-20           8"
      ]
     },
     "execution_count": 60,
     "metadata": {},
     "output_type": "execute_result"
    }
   ],
   "source": [
    "df.loc[[1,2],[\"OrderDate\",\"EmployeeID\"]]"
   ]
  },
  {
   "cell_type": "code",
   "execution_count": 61,
   "id": "e253327b",
   "metadata": {},
   "outputs": [
    {
     "data": {
      "text/html": [
       "<div>\n",
       "<style scoped>\n",
       "    .dataframe tbody tr th:only-of-type {\n",
       "        vertical-align: middle;\n",
       "    }\n",
       "\n",
       "    .dataframe tbody tr th {\n",
       "        vertical-align: top;\n",
       "    }\n",
       "\n",
       "    .dataframe thead th {\n",
       "        text-align: right;\n",
       "    }\n",
       "</style>\n",
       "<table border=\"1\" class=\"dataframe\">\n",
       "  <thead>\n",
       "    <tr style=\"text-align: right;\">\n",
       "      <th></th>\n",
       "      <th>EmployeeID</th>\n",
       "      <th>OrderDate</th>\n",
       "    </tr>\n",
       "  </thead>\n",
       "  <tbody>\n",
       "    <tr>\n",
       "      <th>1</th>\n",
       "      <td>3</td>\n",
       "      <td>1996-09-19</td>\n",
       "    </tr>\n",
       "    <tr>\n",
       "      <th>2</th>\n",
       "      <td>8</td>\n",
       "      <td>1996-09-20</td>\n",
       "    </tr>\n",
       "  </tbody>\n",
       "</table>\n",
       "</div>"
      ],
      "text/plain": [
       "   EmployeeID   OrderDate\n",
       "1           3  1996-09-19\n",
       "2           8  1996-09-20"
      ]
     },
     "execution_count": 61,
     "metadata": {},
     "output_type": "execute_result"
    }
   ],
   "source": [
    "df.iloc[[1,2],[2,3]]"
   ]
  },
  {
   "cell_type": "code",
   "execution_count": 64,
   "id": "a9b3c421",
   "metadata": {},
   "outputs": [
    {
     "data": {
      "text/plain": [
       "0    1996-09-18\n",
       "1    1996-09-19\n",
       "2    1996-09-20\n",
       "Name: OrderDate, dtype: object"
      ]
     },
     "execution_count": 64,
     "metadata": {},
     "output_type": "execute_result"
    }
   ],
   "source": [
    "df.loc[:,\"OrderDate\"]"
   ]
  },
  {
   "cell_type": "code",
   "execution_count": 65,
   "id": "c05a08e7",
   "metadata": {},
   "outputs": [
    {
     "data": {
      "text/html": [
       "<div>\n",
       "<style scoped>\n",
       "    .dataframe tbody tr th:only-of-type {\n",
       "        vertical-align: middle;\n",
       "    }\n",
       "\n",
       "    .dataframe tbody tr th {\n",
       "        vertical-align: top;\n",
       "    }\n",
       "\n",
       "    .dataframe thead th {\n",
       "        text-align: right;\n",
       "    }\n",
       "</style>\n",
       "<table border=\"1\" class=\"dataframe\">\n",
       "  <thead>\n",
       "    <tr style=\"text-align: right;\">\n",
       "      <th></th>\n",
       "      <th>OrderDate</th>\n",
       "      <th>EmployeeID</th>\n",
       "    </tr>\n",
       "  </thead>\n",
       "  <tbody>\n",
       "    <tr>\n",
       "      <th>0</th>\n",
       "      <td>1996-09-18</td>\n",
       "      <td>7</td>\n",
       "    </tr>\n",
       "    <tr>\n",
       "      <th>1</th>\n",
       "      <td>1996-09-19</td>\n",
       "      <td>3</td>\n",
       "    </tr>\n",
       "    <tr>\n",
       "      <th>2</th>\n",
       "      <td>1996-09-20</td>\n",
       "      <td>8</td>\n",
       "    </tr>\n",
       "  </tbody>\n",
       "</table>\n",
       "</div>"
      ],
      "text/plain": [
       "    OrderDate  EmployeeID\n",
       "0  1996-09-18           7\n",
       "1  1996-09-19           3\n",
       "2  1996-09-20           8"
      ]
     },
     "execution_count": 65,
     "metadata": {},
     "output_type": "execute_result"
    }
   ],
   "source": [
    "df.loc[:,[\"OrderDate\",\"EmployeeID\"]]"
   ]
  },
  {
   "cell_type": "code",
   "execution_count": 67,
   "id": "af550f41",
   "metadata": {},
   "outputs": [
    {
     "data": {
      "text/html": [
       "<div>\n",
       "<style scoped>\n",
       "    .dataframe tbody tr th:only-of-type {\n",
       "        vertical-align: middle;\n",
       "    }\n",
       "\n",
       "    .dataframe tbody tr th {\n",
       "        vertical-align: top;\n",
       "    }\n",
       "\n",
       "    .dataframe thead th {\n",
       "        text-align: right;\n",
       "    }\n",
       "</style>\n",
       "<table border=\"1\" class=\"dataframe\">\n",
       "  <thead>\n",
       "    <tr style=\"text-align: right;\">\n",
       "      <th></th>\n",
       "      <th>EmployeeID</th>\n",
       "      <th>OrderDate</th>\n",
       "    </tr>\n",
       "  </thead>\n",
       "  <tbody>\n",
       "    <tr>\n",
       "      <th>0</th>\n",
       "      <td>7</td>\n",
       "      <td>1996-09-18</td>\n",
       "    </tr>\n",
       "    <tr>\n",
       "      <th>1</th>\n",
       "      <td>3</td>\n",
       "      <td>1996-09-19</td>\n",
       "    </tr>\n",
       "    <tr>\n",
       "      <th>2</th>\n",
       "      <td>8</td>\n",
       "      <td>1996-09-20</td>\n",
       "    </tr>\n",
       "  </tbody>\n",
       "</table>\n",
       "</div>"
      ],
      "text/plain": [
       "   EmployeeID   OrderDate\n",
       "0           7  1996-09-18\n",
       "1           3  1996-09-19\n",
       "2           8  1996-09-20"
      ]
     },
     "execution_count": 67,
     "metadata": {},
     "output_type": "execute_result"
    }
   ],
   "source": [
    "df.iloc[:,2:4]"
   ]
  },
  {
   "cell_type": "code",
   "execution_count": 68,
   "id": "a64c840b",
   "metadata": {},
   "outputs": [
    {
     "data": {
      "text/plain": [
       "OrderID            10308\n",
       "CustomerID             2\n",
       "EmployeeID             7\n",
       "OrderDate     1996-09-18\n",
       "ShipperID              3\n",
       "Name: 0, dtype: object"
      ]
     },
     "execution_count": 68,
     "metadata": {},
     "output_type": "execute_result"
    }
   ],
   "source": [
    "df.loc[0,:]"
   ]
  },
  {
   "cell_type": "code",
   "execution_count": null,
   "id": "8033ef54",
   "metadata": {},
   "outputs": [],
   "source": []
  }
 ],
 "metadata": {
  "kernelspec": {
   "display_name": "Python 3 (ipykernel)",
   "language": "python",
   "name": "python3"
  },
  "language_info": {
   "codemirror_mode": {
    "name": "ipython",
    "version": 3
   },
   "file_extension": ".py",
   "mimetype": "text/x-python",
   "name": "python",
   "nbconvert_exporter": "python",
   "pygments_lexer": "ipython3",
   "version": "3.9.7"
  }
 },
 "nbformat": 4,
 "nbformat_minor": 5
}

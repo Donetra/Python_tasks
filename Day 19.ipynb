{
 "cells": [
  {
   "cell_type": "markdown",
   "id": "5e3cbcc7",
   "metadata": {},
   "source": [
    "Object methods "
   ]
  },
  {
   "cell_type": "code",
   "execution_count": 6,
   "id": "7ecaf8ca",
   "metadata": {},
   "outputs": [
    {
     "name": "stdout",
     "output_type": "stream",
     "text": [
      "Hello my name is ABC\n"
     ]
    }
   ],
   "source": [
    "class Person:                                   #Person-user defined\n",
    "    def __init__(self,name,age):\n",
    "        self.name=name\n",
    "        self.age=age\n",
    "    \n",
    "    def myfunt (self):                          # self-user defined\n",
    "        print('Hello my name is ' + self.name)   # self-user defined\n",
    "        \n",
    "P1=Person('ABC',38)\n",
    "P1.myfunt()"
   ]
  },
  {
   "cell_type": "code",
   "execution_count": 12,
   "id": "b6e02882",
   "metadata": {},
   "outputs": [
    {
     "name": "stdout",
     "output_type": "stream",
     "text": [
      "The name of country is ABC\n",
      "The population for the same is 3897657\n"
     ]
    }
   ],
   "source": [
    "class Country:                                   #Person-user defined\n",
    "    def __init__(abc,name,population):\n",
    "        abc.name=name\n",
    "        abc.population=population\n",
    "    \n",
    "    def myfunt (abc):                          # self-user defined\n",
    "        print('The name of country is ' + abc.name)\n",
    "        print('The population for the same is' , abc.population)# self-user defined\n",
    "        \n",
    "C1=Country('ABC',3897657)\n",
    "C1.myfunt()"
   ]
  },
  {
   "cell_type": "code",
   "execution_count": 16,
   "id": "7132913b",
   "metadata": {},
   "outputs": [
    {
     "name": "stdout",
     "output_type": "stream",
     "text": [
      "The total marks are 100\n",
      "Marks obtained for the same is 45\n",
      "Hence percentage gained are 45.0\n",
      "The total marks are 90\n",
      "Marks obtained for the same is 80\n",
      "Hence percentage gained are 88.88888888888889\n"
     ]
    }
   ],
   "source": [
    "class Student:                                   #Person-user defined\n",
    "    def __init__(abc,total,obtained):\n",
    "        abc.total=total\n",
    "        abc.obtained=obtained\n",
    "    \n",
    "    def myfunt (abc):                          # self-user defined\n",
    "        print('The total marks are' , abc.total)\n",
    "        print('Marks obtained for the same is' , abc.obtained)# self-user defined\n",
    "        print('Hence percentage gained are', (abc.obtained/abc.total)*100)\n",
    "        \n",
    "S1=Student(100,45)\n",
    "S2=Student(90,80)\n",
    "S1.myfunt()\n",
    "S2.myfunt()"
   ]
  },
  {
   "cell_type": "code",
   "execution_count": 19,
   "id": "e15e431f",
   "metadata": {},
   "outputs": [
    {
     "name": "stdout",
     "output_type": "stream",
     "text": [
      "The name of the student is S1\n",
      "The total marks are 100\n",
      "Marks obtained for the same is 45\n",
      "Hence percentage gained are 45.0 %\n",
      "The name of the student is S2\n",
      "The total marks are 90\n",
      "Marks obtained for the same is 80\n",
      "Hence percentage gained are 88.88888888888889 %\n"
     ]
    }
   ],
   "source": [
    "class Student:                                   #Person-user defined\n",
    "    def __init__(abc,name,total,obtained):\n",
    "        abc.name=name\n",
    "        abc.total=total\n",
    "        abc.obtained=obtained\n",
    "    \n",
    "    def myfunt (abc):                          # self-user defined\n",
    "        print('The name of the student is',abc.name)\n",
    "        print('The total marks are' , abc.total)\n",
    "        print('Marks obtained for the same is' , abc.obtained)# self-user defined\n",
    "        print('Hence percentage gained are', (abc.obtained/abc.total)*100,'%')\n",
    "        \n",
    "S1=Student('S1',100,45)\n",
    "S2=Student('S2',90,80)\n",
    "S1.myfunt()\n",
    "S2.myfunt()"
   ]
  },
  {
   "cell_type": "markdown",
   "id": "4e21c754",
   "metadata": {},
   "source": [
    "# Inheritance"
   ]
  },
  {
   "cell_type": "markdown",
   "id": "a5012aa8",
   "metadata": {},
   "source": [
    "A parent class - class being inherited from\n",
    "This class is also called as base class\n",
    "\n",
    "A child class - class that is inherited from other class\n",
    "This class is also called as derived class "
   ]
  },
  {
   "cell_type": "code",
   "execution_count": 3,
   "id": "dae9d872",
   "metadata": {},
   "outputs": [
    {
     "name": "stdout",
     "output_type": "stream",
     "text": [
      "Hello my name is ABCXYZ\n"
     ]
    }
   ],
   "source": [
    "class Person:                                   #Person-user defined\n",
    "    def __init__(self,first,last):\n",
    "        self.first=first\n",
    "        self.last=last\n",
    "    \n",
    "    def myfunt (self):                          # self-user defined\n",
    "        print('Hello my name is ' + self.first + self.last)   # self-user defined\n",
    "        \n",
    "P1=Person('ABC','XYZ')\n",
    "P1.myfunt()"
   ]
  },
  {
   "cell_type": "code",
   "execution_count": 6,
   "id": "f0f09ef1",
   "metadata": {},
   "outputs": [
    {
     "name": "stdout",
     "output_type": "stream",
     "text": [
      "First name is ABC Last name is XYZ\n"
     ]
    }
   ],
   "source": [
    "class Person:                                   #Person-user defined\n",
    "    def __init__(self,first,last):\n",
    "        self.first=first\n",
    "        self.last=last\n",
    "    \n",
    "    def myfunt (self):                          # self-user defined\n",
    "        print('First name is ' + self.first + ' Last name is '+ self.last)   # self-user defined\n",
    "        \n",
    "P1=Person('ABC','XYZ')\n",
    "P1.myfunt()"
   ]
  },
  {
   "cell_type": "code",
   "execution_count": 15,
   "id": "2169f2b5",
   "metadata": {},
   "outputs": [
    {
     "name": "stdout",
     "output_type": "stream",
     "text": [
      "First name is ABC, Last name is XYZ\n"
     ]
    }
   ],
   "source": [
    "class Person:                                   #Person-user defined\n",
    "    def __init__(self,first,last):\n",
    "        self.first=first\n",
    "        self.last=last\n",
    "    \n",
    "    def myfunt (self):                          # self-user defined\n",
    "        print('First name is ' + self.first + ', Last name is '+ self.last)   # self-user defined\n",
    "        \n",
    "class Student(Person):\n",
    "    pass\n",
    "        \n",
    "P1=Person('ABC','XYZ')\n",
    "P1.myfunt()"
   ]
  },
  {
   "cell_type": "code",
   "execution_count": 16,
   "id": "74d98f2b",
   "metadata": {},
   "outputs": [
    {
     "name": "stdout",
     "output_type": "stream",
     "text": [
      "First name is ABC, Last name is XYZ\n"
     ]
    }
   ],
   "source": [
    "class Person:                                   #Person-user defined\n",
    "    def __init__(self,first,last):\n",
    "        self.first=first\n",
    "        self.last=last\n",
    "    \n",
    "    def myfunt (self):                          # self-user defined\n",
    "        print('First name is ' + self.first + ', Last name is '+ self.last)   # self-user defined\n",
    "        \n",
    "class Student(Person):\n",
    "    pass\n",
    "        \n",
    "P1=Student('ABC','XYZ')\n",
    "P1.myfunt()"
   ]
  },
  {
   "cell_type": "code",
   "execution_count": 19,
   "id": "ad6799d9",
   "metadata": {},
   "outputs": [
    {
     "name": "stdout",
     "output_type": "stream",
     "text": [
      "First name is ABC Last name is XYZ\n"
     ]
    }
   ],
   "source": [
    "class Person:                                   #Person-user defined\n",
    "    def __init__(self,first,last):\n",
    "        self.first=first\n",
    "        self.last=last\n",
    "    \n",
    "    def myfunt (self):                          # self-user defined\n",
    "        print('First name is ' + self.first + ' Last name is '+ self.last)   # self-user defined\n",
    "        \n",
    "class Student(Person):\n",
    "    def __init__ (self,first,last):\n",
    "        Person. __init__(self,first,last)\n",
    "        \n",
    "P1=Student('ABC','XYZ')\n",
    "P1.myfunt()"
   ]
  },
  {
   "cell_type": "code",
   "execution_count": 23,
   "id": "1f5a0051",
   "metadata": {},
   "outputs": [
    {
     "name": "stdout",
     "output_type": "stream",
     "text": [
      "First name is ABC Last name is XYZ\n"
     ]
    }
   ],
   "source": [
    "class Person:                                   #Person-user defined\n",
    "    def __init__(self,first,last):\n",
    "        self.first=first\n",
    "        self.last=last\n",
    "    \n",
    "    def myfunt (self):                         # self-user defined\n",
    "        print('First name is ' + self.first + ' Last name is '+ self.last)   # self-user defined\n",
    "        \n",
    "class Student(Person):\n",
    "    def __init__ (self,first,last):      \n",
    "        Person. __init__(self,first,last)     \n",
    "        super()                                # in case we dont know name of parent class \n",
    "        \n",
    "P1=Student('ABC','XYZ')\n",
    "P1.myfunt()"
   ]
  },
  {
   "cell_type": "code",
   "execution_count": 22,
   "id": "f8952014",
   "metadata": {},
   "outputs": [
    {
     "name": "stdout",
     "output_type": "stream",
     "text": [
      "The year of graduation is 2019\n",
      "First name is ABC Last name is XYZ\n"
     ]
    }
   ],
   "source": [
    "class Person:                                   #Person-user defined\n",
    "    def __init__(self,first,last):\n",
    "        self.first=first\n",
    "        self.last=last\n",
    "    \n",
    "    def myfunt (self):                         # self-user defined\n",
    "        print('First name is ' + self.first + ' Last name is '+ self.last)   # self-user defined\n",
    "        \n",
    "class Student(Person):\n",
    "    def __init__ (self,first,last,gyear):      # we can add new paarmeters in child class\n",
    "        Person. __init__(self,first,last)      # gives advantage to pick the parameters that we need from parent class\n",
    "        self.gyear=gyear\n",
    "        print('The year of graduation is' ,self.gyear)\n",
    "        \n",
    "P1=Student('ABC','XYZ',2019)\n",
    "P1.myfunt()"
   ]
  },
  {
   "cell_type": "code",
   "execution_count": 27,
   "id": "d6811ab0",
   "metadata": {},
   "outputs": [
    {
     "name": "stdout",
     "output_type": "stream",
     "text": [
      "2019\n",
      "First name is ABC Last name is XYZ\n"
     ]
    }
   ],
   "source": [
    "class Person:                                   #Person-user defined\n",
    "    def __init__(self,first,last):\n",
    "        self.first=first\n",
    "        self.last=last\n",
    "    \n",
    "    def myfunt (self):                         # self-user defined\n",
    "        print('First name is ' + self.first + ' Last name is '+ self.last)   # self-user defined\n",
    "        \n",
    "class Student(Person):\n",
    "    def __init__ (self,first,last,gyear):      # we can add new paarmeters in child class\n",
    "        Person. __init__(self,first,last)      # gives advantage to pick the parameters that we need from parent class\n",
    "        self.gyear=gyear\n",
    "        \n",
    "P1=Student('ABC','XYZ',2019)\n",
    "print(P1.gyear)\n",
    "P1.myfunt()"
   ]
  },
  {
   "cell_type": "code",
   "execution_count": 5,
   "id": "5ec18650",
   "metadata": {},
   "outputs": [
    {
     "name": "stdout",
     "output_type": "stream",
     "text": [
      "2019\n",
      "Student first name is ABC Student last name is XYZ Graduation year is 2019\n"
     ]
    }
   ],
   "source": [
    "class Person:                                   #Person-user defined\n",
    "    def __init__(self,first,last):\n",
    "        self.first=first\n",
    "        self.last=last\n",
    "        \n",
    "class Student(Person):\n",
    "    def __init__ (self,first,last,gyear):      # we can add new paarmeters in child class\n",
    "        Person. __init__(self,first,last)      # gives advantage to pick the parameters that we need from parent class\n",
    "        self.gyear=gyear\n",
    "        \n",
    "    def into(self):\n",
    "        print('Student first name is',self.first,'Student last name is',self.last,'Graduation year is',self.gyear)\n",
    "        \n",
    "P1=Student('ABC','XYZ',2019)\n",
    "print(P1.gyear)\n",
    "P1.into()"
   ]
  },
  {
   "cell_type": "code",
   "execution_count": 3,
   "id": "a5067957",
   "metadata": {},
   "outputs": [
    {
     "name": "stdout",
     "output_type": "stream",
     "text": [
      "ABC XYZ 2019\n"
     ]
    }
   ],
   "source": [
    "class Person:                                   #Person-user defined\n",
    "    def __init__(self,first,last):\n",
    "        self.first=first\n",
    "        self.last=last\n",
    "        \n",
    "class Student(Person):\n",
    "    def __init__ (self,first,last,gyear):      # we can add new paarmeters in child class\n",
    "        Person. __init__(self,first,last)      # gives advantage to pick the parameters that we need from parent class\n",
    "        self.gyear=gyear\n",
    "        \n",
    "    def into(self):\n",
    "        print('Student first name is',self.first,'Student last name is',self.last,'Graduation year is',self.gyear)\n",
    "        \n",
    "P1=Student('ABC','XYZ',2019)\n",
    "print(P1.first, P1.last,P1.gyear)"
   ]
  },
  {
   "cell_type": "code",
   "execution_count": 6,
   "id": "8d527485",
   "metadata": {},
   "outputs": [
    {
     "name": "stdout",
     "output_type": "stream",
     "text": [
      "ABC XYZ 2019\n"
     ]
    }
   ],
   "source": [
    "class Person:                                   #Person-user defined\n",
    "    def __init__(self,first,last):\n",
    "        self.first=first\n",
    "        self.last=last\n",
    "        \n",
    "    def intro (self):\n",
    "        print(self.first,self.last)\n",
    "        \n",
    "class Student(Person):\n",
    "    def __init__ (self,first,last,gyear):      # we can add new paarmeters in child class\n",
    "        Person. __init__(self,first,last)      # gives advantage to pick the parameters that we need from parent class\n",
    "        self.gyear=gyear\n",
    "        \n",
    "P1=Student('ABC','XYZ',2019)\n",
    "print(P1.first, P1.last,P1.gyear)"
   ]
  },
  {
   "cell_type": "code",
   "execution_count": 29,
   "id": "de22ec15",
   "metadata": {},
   "outputs": [
    {
     "ename": "TypeError",
     "evalue": "__init__() missing 1 required positional argument: 'add'",
     "output_type": "error",
     "traceback": [
      "\u001b[0;31m---------------------------------------------------------------------------\u001b[0m",
      "\u001b[0;31mTypeError\u001b[0m                                 Traceback (most recent call last)",
      "\u001b[0;32m/var/folders/bg/77tnqfd51m57vg3m6wcsh_s40000gn/T/ipykernel_73115/3342827584.py\u001b[0m in \u001b[0;36m<module>\u001b[0;34m\u001b[0m\n\u001b[1;32m     17\u001b[0m        \u001b[0mprint\u001b[0m\u001b[0;34m(\u001b[0m\u001b[0;34m'student name is'\u001b[0m\u001b[0;34m,\u001b[0m\u001b[0mself\u001b[0m\u001b[0;34m.\u001b[0m\u001b[0mfirst\u001b[0m\u001b[0;34m,\u001b[0m\u001b[0;34m'student last name is'\u001b[0m\u001b[0;34m,\u001b[0m\u001b[0mself\u001b[0m\u001b[0;34m.\u001b[0m\u001b[0mlast\u001b[0m\u001b[0;34m)\u001b[0m\u001b[0;34m\u001b[0m\u001b[0;34m\u001b[0m\u001b[0m\n\u001b[1;32m     18\u001b[0m \u001b[0;34m\u001b[0m\u001b[0m\n\u001b[0;32m---> 19\u001b[0;31m \u001b[0mP1\u001b[0m\u001b[0;34m=\u001b[0m\u001b[0mStudent\u001b[0m\u001b[0;34m(\u001b[0m\u001b[0;34m'ABC'\u001b[0m\u001b[0;34m,\u001b[0m\u001b[0;34m'XYZ'\u001b[0m\u001b[0;34m,\u001b[0m\u001b[0;36m2019\u001b[0m\u001b[0;34m,\u001b[0m\u001b[0;34m'X'\u001b[0m\u001b[0;34m)\u001b[0m\u001b[0;34m\u001b[0m\u001b[0;34m\u001b[0m\u001b[0m\n\u001b[0m\u001b[1;32m     20\u001b[0m \u001b[0mP1\u001b[0m\u001b[0;34m.\u001b[0m\u001b[0mstdinfo\u001b[0m\u001b[0;34m(\u001b[0m\u001b[0;34m)\u001b[0m\u001b[0;34m\u001b[0m\u001b[0;34m\u001b[0m\u001b[0m\n",
      "\u001b[0;32m/var/folders/bg/77tnqfd51m57vg3m6wcsh_s40000gn/T/ipykernel_73115/3342827584.py\u001b[0m in \u001b[0;36m__init__\u001b[0;34m(self, first, last, gyear, section)\u001b[0m\n\u001b[1;32m     10\u001b[0m \u001b[0;32mclass\u001b[0m \u001b[0mStudent\u001b[0m\u001b[0;34m(\u001b[0m\u001b[0mPerson\u001b[0m\u001b[0;34m)\u001b[0m\u001b[0;34m:\u001b[0m\u001b[0;34m\u001b[0m\u001b[0;34m\u001b[0m\u001b[0m\n\u001b[1;32m     11\u001b[0m    \u001b[0;32mdef\u001b[0m \u001b[0m__init__\u001b[0m \u001b[0;34m(\u001b[0m\u001b[0mself\u001b[0m\u001b[0;34m,\u001b[0m\u001b[0mfirst\u001b[0m\u001b[0;34m,\u001b[0m\u001b[0mlast\u001b[0m\u001b[0;34m,\u001b[0m\u001b[0mgyear\u001b[0m\u001b[0;34m,\u001b[0m\u001b[0msection\u001b[0m\u001b[0;34m)\u001b[0m\u001b[0;34m:\u001b[0m      \u001b[0;31m# we can add new paarmeters in child class\u001b[0m\u001b[0;34m\u001b[0m\u001b[0;34m\u001b[0m\u001b[0m\n\u001b[0;32m---> 12\u001b[0;31m        \u001b[0mPerson\u001b[0m\u001b[0;34m.\u001b[0m \u001b[0m__init__\u001b[0m\u001b[0;34m(\u001b[0m\u001b[0mself\u001b[0m\u001b[0;34m,\u001b[0m\u001b[0mfirst\u001b[0m\u001b[0;34m,\u001b[0m\u001b[0mlast\u001b[0m\u001b[0;34m)\u001b[0m      \u001b[0;31m# gives advantage to pick the parameters that we need from parent class\u001b[0m\u001b[0;34m\u001b[0m\u001b[0;34m\u001b[0m\u001b[0m\n\u001b[0m\u001b[1;32m     13\u001b[0m        \u001b[0mself\u001b[0m\u001b[0;34m.\u001b[0m\u001b[0mgyear\u001b[0m\u001b[0;34m=\u001b[0m\u001b[0mgyear\u001b[0m\u001b[0;34m\u001b[0m\u001b[0;34m\u001b[0m\u001b[0m\n\u001b[1;32m     14\u001b[0m        \u001b[0mself\u001b[0m\u001b[0;34m.\u001b[0m\u001b[0msect\u001b[0m\u001b[0;34m=\u001b[0m\u001b[0msection\u001b[0m\u001b[0;34m\u001b[0m\u001b[0;34m\u001b[0m\u001b[0m\n",
      "\u001b[0;31mTypeError\u001b[0m: __init__() missing 1 required positional argument: 'add'"
     ]
    }
   ],
   "source": [
    " class Person:                                   #Person-user defined\n",
    "    def __init__(self,first,last,add):\n",
    "        self.first=first\n",
    "        self.last=last\n",
    "        self.add=add\n",
    "        \n",
    "    def intro (self):\n",
    "        print(self.first,self.last)\n",
    "        \n",
    "class Student(Person):\n",
    "    def __init__ (self,first,last,gyear,section):      # we can add new paarmeters in child class\n",
    "        Person. __init__(self,first,last)      # gives advantage to pick the parameters that we need from parent class\n",
    "        self.gyear=gyear\n",
    "        self.sect=section\n",
    "        \n",
    "    def stdinfo(self):\n",
    "        print('student name is',self.first,'student last name is',self.last)\n",
    "        \n",
    "P1=Student('ABC','XYZ',2019,'X')\n",
    "P1.stdinfo()"
   ]
  },
  {
   "cell_type": "code",
   "execution_count": 2,
   "id": "e884e9e6",
   "metadata": {},
   "outputs": [
    {
     "name": "stdout",
     "output_type": "stream",
     "text": [
      "Student first name is ABC\n",
      "Student last name is XYZ\n",
      "Employee first name is ABC Last name is XYZ\n",
      "Employee number is 2344 Blood Group is O+ve\n"
     ]
    }
   ],
   "source": [
    " class Person:                                   #Person-user defined\n",
    "    def __init__(self,first,last):\n",
    "        self.first=first\n",
    "        self.last=last\n",
    "        \n",
    "    def intro (self):\n",
    "        print(self.first,self.last)\n",
    "        \n",
    "class Student(Person):\n",
    "    def __init__ (self,first,last,gyear,section):      # we can add new paarmeters in child class\n",
    "        Person. __init__(self,first,last)      # gives advantage to pick the parameters that we need from parent class\n",
    "        self.gyear=gyear\n",
    "        self.sect=section\n",
    "        \n",
    "    def stdinfo(self):\n",
    "        print('Student first name is',self.first)\n",
    "        print('Student last name is',self.last)\n",
    "        \n",
    "class Employee(Person):\n",
    "    def __init__ (self,first,last,empno,BG):\n",
    "        Person. __init__(self,first,last)\n",
    "        self.empno=empno\n",
    "        self.BG=BG\n",
    "        \n",
    "    def empinfo(self):\n",
    "        print('Employee first name is', self.first, 'Last name is', self.last)\n",
    "        print('Employee number is', self.empno, 'Blood Group is', self.BG)\n",
    "        \n",
    "P1=Student('ABC','XYZ',2019,'X')\n",
    "P2=Employee('ABC','XYZ',2344,'O+ve')\n",
    "P1.stdinfo()\n",
    "P2.empinfo()"
   ]
  },
  {
   "cell_type": "code",
   "execution_count": 13,
   "id": "80179ad7",
   "metadata": {},
   "outputs": [
    {
     "name": "stdout",
     "output_type": "stream",
     "text": [
      "The name of country is India\n",
      "Belongs to the continent Asia\n",
      "Following is the information for India\n",
      "Has the population of 201875543\n",
      "THe name of capital is Delhi\n",
      "Following is the information for US\n",
      "Has the population of 23486684\n",
      "THe name of capital is Washington\n",
      "Following is the information for UK\n",
      "Has the population of 8687989\n",
      "THe name of capital is London\n",
      "Following is the information for UAE\n",
      "Has the population of 7688980\n",
      "The name of capital is Abu Dhabi\n"
     ]
    }
   ],
   "source": [
    " class Country:\n",
    "    def __init__(self,name,continent):\n",
    "        self.name=name\n",
    "        self.continent=continent\n",
    "        \n",
    "    def intro (self):\n",
    "        print(self.name,self.continent)\n",
    "        \n",
    "    def myfunt (self): \n",
    "        print('The name of country is ' + self.name)\n",
    "        print('Belongs to the continent '+ self.continent)  \n",
    "        \n",
    "class India(Country):\n",
    "    def __init__ (self,name,continent,population,capital):\n",
    "        Country. __init__(self,name,continent)\n",
    "        self.population=population\n",
    "        self.capital=capital\n",
    "        \n",
    "    def indinfo(self):\n",
    "        print('Following is the information for',self.name)\n",
    "        print('Has the population of',self.population)\n",
    "        print('THe name of capital is',self.capital)\n",
    "        \n",
    "class US(Country):\n",
    "    def __init__ (self,name,continent,population,capital):    \n",
    "        Country. __init__(self,name,continent)      \n",
    "        self.population=population\n",
    "        self.capital=capital\n",
    "        \n",
    "    def usinfo(self):\n",
    "        print('Following is the information for',self.name)\n",
    "        print('Has the population of',self.population)\n",
    "        print('THe name of capital is',self.capital)\n",
    "        \n",
    "class UK(Country):\n",
    "    def __init__ (self,name,continent,population,capital):    \n",
    "        Country. __init__(self,name,continent)    \n",
    "        self.population=population\n",
    "        self.capital=capital\n",
    "        \n",
    "    def ukinfo(self):\n",
    "        print('Following is the information for',self.name)\n",
    "        print('Has the population of',self.population)\n",
    "        print('THe name of capital is',self.capital)\n",
    "        \n",
    "\n",
    "class UAE(Country):\n",
    "    def __init__ (self,name,continent,population,capital):  \n",
    "        Country. __init__(self,name,continent)  \n",
    "        self.population=population\n",
    "        self.capital=capital\n",
    "        \n",
    "    def uaeinfo(self):\n",
    "        print('Following is the information for',self.name)\n",
    "        print('Has the population of',self.population)\n",
    "        print('The name of capital is',self.capital)\n",
    "\n",
    "C1=Country('India','Asia')       \n",
    "I=India('India','Asia',201875543,'Delhi')\n",
    "US=US('US','North America',23486684,'Washington')\n",
    "UK=UK('UK','Europe',8687989,'London')\n",
    "UAE=UAE('UAE','Asia',7688980,'Abu Dhabi')\n",
    "C1.myfunt() \n",
    "I.indinfo()\n",
    "US.usinfo()\n",
    "UK.ukinfo()\n",
    "UAE.uaeinfo()"
   ]
  },
  {
   "cell_type": "code",
   "execution_count": 9,
   "id": "8e048a82",
   "metadata": {},
   "outputs": [
    {
     "name": "stdout",
     "output_type": "stream",
     "text": [
      "The name of vehicle is  Helicopter\n",
      "Belongs to the category  Aerial\n",
      "The type of transportation it fits into is called Private\n",
      "\n",
      "Following is the information for Bus\n",
      "Has the average of 45\n",
      "THe max speed is 45\n",
      "Has the seating capacity of 10-50\n",
      "\n",
      "Following is the information for Bike\n",
      "Has the average of 33\n",
      "THe max speed is 80\n",
      "Has the seating capacity of 2\n",
      "\n",
      "Following is the information for Car\n",
      "Has the average of 30\n",
      "THe max speed is 180\n",
      "Has the seating capacity of 4-8\n",
      "\n"
     ]
    }
   ],
   "source": [
    " class Vehicle:\n",
    "    def __init__(self,name,category,transptype):\n",
    "        self.name=name\n",
    "        self.category=category\n",
    "        self.transptype=transptype\n",
    "        \n",
    "    def intro (self):\n",
    "        print(self.name,self.category,self.transptype)\n",
    "        \n",
    "    def myfunt (self): \n",
    "        print('The name of vehicle is ' , self.name)\n",
    "        print('Belongs to the category ', self.category)\n",
    "        print('The type of transportation it fits into is called',self.transptype)\n",
    "        print('')\n",
    "        \n",
    "class Bus(Vehicle):\n",
    "    def __init__ (self,name,category,transptype,avg,maxspeed,seater):\n",
    "        Vehicle. __init__(self,name,category,transptype)\n",
    "        self.avg=avg\n",
    "        self.maxspeed=maxspeed\n",
    "        self.seater=seater\n",
    "        \n",
    "    def businfo(self):\n",
    "        print('Following is the information for',self.name)\n",
    "        print('Has the average of',self.avg)\n",
    "        print('THe max speed is',self.maxspeed)\n",
    "        print('Has the seating capacity of',self.seater)\n",
    "        print('')\n",
    "        \n",
    "class Bike(Vehicle):\n",
    "    def __init__ (self,name,category,transptype,avg,maxspeed,seater):\n",
    "        Vehicle. __init__(self,name,category,transptype)\n",
    "        self.avg=avg\n",
    "        self.maxspeed=maxspeed\n",
    "        self.seater=seater\n",
    "        \n",
    "    def bikeinfo(self):\n",
    "        print('Following is the information for',self.name)\n",
    "        print('Has the average of',self.avg)\n",
    "        print('THe max speed is',self.maxspeed)\n",
    "        print('Has the seating capacity of',self.seater)\n",
    "        print('')\n",
    "        \n",
    "class Car(Vehicle):\n",
    "    def __init__ (self,name,category,transptype,avg,maxspeed,seater):\n",
    "        Vehicle. __init__(self,name,category,transptype)\n",
    "        self.avg=avg\n",
    "        self.maxspeed=maxspeed\n",
    "        self.seater=seater\n",
    "        \n",
    "    def carinfo(self):\n",
    "        print('Following is the information for',self.name)\n",
    "        print('Has the average of',self.avg)\n",
    "        print('THe max speed is',self.maxspeed)\n",
    "        print('Has the seating capacity of',self.seater)\n",
    "        print('')\n",
    "\n",
    "\n",
    "V1=Vehicle('Helicopter','Aerial','Private')       \n",
    "B=Bus('Bus','Road','Public',45,45,'10-50')\n",
    "BK=Bike('Bike','Road','Private',33,80,2)\n",
    "C=Car('Car','Road','Private',30,180,'4-8')\n",
    "\n",
    "V1.myfunt() \n",
    "B.businfo()\n",
    "BK.bikeinfo()\n",
    "C.carinfo()"
   ]
  },
  {
   "cell_type": "markdown",
   "id": "ad490219",
   "metadata": {},
   "source": [
    "Inheritance types\n",
    "\n",
    "- parent class            - parent class             - parent            parent                - parent\n",
    "       ^                          ^                       ^                ^                        ^\n",
    "       ^                          ^                         ^            ^                       ^     ^\n",
    "       ^                   parent/child class                  ^       ^                      ^           ^\n",
    "       ^                          ^                              child                      child        child\n",
    "   child class                    ^\n",
    "                              child class\n",
    "                              \n",
    "- parent class\n",
    "       ^\n",
    "       ^\n",
    " parent/child class\n",
    "       ^\n",
    "       ^\n",
    "   child class"
   ]
  },
  {
   "cell_type": "code",
   "execution_count": 10,
   "id": "443df400",
   "metadata": {},
   "outputs": [
    {
     "name": "stdout",
     "output_type": "stream",
     "text": [
      "The name of vehicle is  Helicopter\n",
      "Belongs to the category  Aerial\n",
      "The type of transportation it fits into is called Private\n",
      "\n",
      "Following is the information for Bus\n",
      "Has the average of 45\n",
      "THe max speed is 45\n",
      "Has the seating capacity of 10-50\n",
      "\n",
      "Following is the information for Bike\n",
      "Has the average of 33\n",
      "THe max speed is 80\n",
      "Has the seating capacity of 2\n",
      "\n",
      "Following is the information for Car\n",
      "Has the average of 30\n",
      "THe max speed is 180\n",
      "Has the seating capacity of 4-8\n",
      "\n"
     ]
    }
   ],
   "source": [
    " class Vehicle:\n",
    "    def __init__(self,name,category,transptype):\n",
    "        self.name=name\n",
    "        self.category=category\n",
    "        self.transptype=transptype\n",
    "        \n",
    "    def intro (self):\n",
    "        print(self.name,self.category,self.transptype)\n",
    "        \n",
    "    def myfunt (self): \n",
    "        print('The name of vehicle is ' , self.name)\n",
    "        print('Belongs to the category ', self.category)\n",
    "        print('The type of transportation it fits into is called',self.transptype)\n",
    "        print('')\n",
    "        \n",
    "class Bus(Vehicle):\n",
    "    def __init__ (self,name,category,transptype,avg,maxspeed,seater):\n",
    "        Vehicle. __init__(self,name,category,transptype)\n",
    "        self.avg=avg\n",
    "        self.maxspeed=maxspeed\n",
    "        self.seater=seater\n",
    "        \n",
    "    def businfo(self):\n",
    "        print('Following is the information for',self.name)\n",
    "        print('Has the average of',self.avg)\n",
    "        print('THe max speed is',self.maxspeed)\n",
    "        print('Has the seating capacity of',self.seater)\n",
    "        print('')\n",
    "        \n",
    "class Bike(Vehicle):\n",
    "    def __init__ (self,name,category,transptype,avg,maxspeed,seater):\n",
    "        Vehicle. __init__(self,name,category,transptype)\n",
    "        self.avg=avg\n",
    "        self.maxspeed=maxspeed\n",
    "        self.seater=seater\n",
    "        \n",
    "    def bikeinfo(self):\n",
    "        print('Following is the information for',self.name)\n",
    "        print('Has the average of',self.avg)\n",
    "        print('THe max speed is',self.maxspeed)\n",
    "        print('Has the seating capacity of',self.seater)\n",
    "        print('')\n",
    "        \n",
    "class Car(Vehicle):\n",
    "    def __init__ (self,name,category,transptype,avg,maxspeed,seater):\n",
    "        Vehicle. __init__(self,name,category,transptype)\n",
    "        self.avg=avg\n",
    "        self.maxspeed=maxspeed\n",
    "        self.seater=seater\n",
    "        \n",
    "    def carinfo(self):\n",
    "        print('Following is the information for',self.name)\n",
    "        print('Has the average of',self.avg)\n",
    "        print('THe max speed is',self.maxspeed)\n",
    "        print('Has the seating capacity of',self.seater)\n",
    "        print('')\n",
    "\n",
    "\n",
    "V1=Vehicle('Helicopter','Aerial','Private')       \n",
    "B=Bus('Bus','Road','Public',45,45,'10-50')\n",
    "BK=Bike('Bike','Road','Private',33,80,2)\n",
    "C=Car('Car','Road','Private',30,180,'4-8')\n",
    "\n",
    "V1.myfunt() \n",
    "B.businfo()\n",
    "BK.bikeinfo()\n",
    "C.carinfo()"
   ]
  },
  {
   "cell_type": "code",
   "execution_count": 1,
   "id": "91ccabb5",
   "metadata": {},
   "outputs": [
    {
     "ename": "SyntaxError",
     "evalue": "invalid syntax (3809626804.py, line 1)",
     "output_type": "error",
     "traceback": [
      "\u001b[0;36m  File \u001b[0;32m\"/var/folders/bg/77tnqfd51m57vg3m6wcsh_s40000gn/T/ipykernel_77638/3809626804.py\"\u001b[0;36m, line \u001b[0;32m1\u001b[0m\n\u001b[0;31m    customer name..location - parent class\u001b[0m\n\u001b[0m             ^\u001b[0m\n\u001b[0;31mSyntaxError\u001b[0m\u001b[0;31m:\u001b[0m invalid syntax\n"
     ]
    }
   ],
   "source": [
    "customer name..location - parent class\n",
    "a,b,c,d - based on location different fairs \n",
    "usinf if statements \n",
    "p('xyz=name', 0,a) 0 and a are two location \n",
    "then output should be fare...= \n",
    "\n",
    "on=bject ( current, dest,)\n",
    "#2\n",
    "a- (b,c,d)== fare"
   ]
  },
  {
   "cell_type": "code",
   "execution_count": null,
   "id": "100823ac",
   "metadata": {},
   "outputs": [],
   "source": [
    " class Customer:\n",
    "    def __init__(self,name,location):\n",
    "        self.name=name\n",
    "        self.location=location\n",
    "        \n",
    "        \n",
    "    def intro (self):\n",
    "        print(self.name,self.location)\n",
    "        \n",
    "    def myfunt (self): \n",
    "        print('The name of customer is ' , self.name)\n",
    "        print('Belongs to the location ', self.location)\n",
    "        print('')\n",
    "        \n",
    "class a(Vehicle):\n",
    "    def __init__ (self,name,category,transptype,avg,maxspeed,seater):\n",
    "        Vehicle. __init__(self,name,category,transptype)\n",
    "        self.avg=avg\n",
    "        self.maxspeed=maxspeed\n",
    "        self.seater=seater\n",
    "        \n",
    "    def businfo(self):\n",
    "        print('Following is the information for',self.name)\n",
    "        print('Has the average of',self.avg)\n",
    "        print('THe max speed is',self.maxspeed)\n",
    "        print('Has the seating capacity of',self.seater)\n",
    "        print('')\n",
    "        \n",
    "class Bike(Vehicle):\n",
    "    def __init__ (self,name,category,transptype,avg,maxspeed,seater):\n",
    "        Vehicle. __init__(self,name,category,transptype)\n",
    "        self.avg=avg\n",
    "        self.maxspeed=maxspeed\n",
    "        self.seater=seater\n",
    "        \n",
    "    def bikeinfo(self):\n",
    "        print('Following is the information for',self.name)\n",
    "        print('Has the average of',self.avg)\n",
    "        print('THe max speed is',self.maxspeed)\n",
    "        print('Has the seating capacity of',self.seater)\n",
    "        print('')\n",
    "        \n",
    "class Car(Vehicle):\n",
    "    def __init__ (self,name,category,transptype,avg,maxspeed,seater):\n",
    "        Vehicle. __init__(self,name,category,transptype)\n",
    "        self.avg=avg\n",
    "        self.maxspeed=maxspeed\n",
    "        self.seater=seater\n",
    "        \n",
    "    def carinfo(self):\n",
    "        print('Following is the information for',self.name)\n",
    "        print('Has the average of',self.avg)\n",
    "        print('THe max speed is',self.maxspeed)\n",
    "        print('Has the seating capacity of',self.seater)\n",
    "        print('')\n",
    "\n",
    "\n",
    "V1=Vehicle('Helicopter','Aerial','Private')       \n",
    "B=Bus('Bus','Road','Public',45,45,'10-50')\n",
    "BK=Bike('Bike','Road','Private',33,80,2)\n",
    "C=Car('Car','Road','Private',30,180,'4-8')\n",
    "\n",
    "V1.myfunt() \n",
    "B.businfo()\n",
    "BK.bikeinfo()\n",
    "C.carinfo()"
   ]
  }
 ],
 "metadata": {
  "kernelspec": {
   "display_name": "Python 3 (ipykernel)",
   "language": "python",
   "name": "python3"
  },
  "language_info": {
   "codemirror_mode": {
    "name": "ipython",
    "version": 3
   },
   "file_extension": ".py",
   "mimetype": "text/x-python",
   "name": "python",
   "nbconvert_exporter": "python",
   "pygments_lexer": "ipython3",
   "version": "3.9.7"
  }
 },
 "nbformat": 4,
 "nbformat_minor": 5
}

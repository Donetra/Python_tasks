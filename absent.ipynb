{
 "cells": [
  {
   "cell_type": "code",
   "execution_count": 1,
   "id": "883ba60b",
   "metadata": {},
   "outputs": [
    {
     "name": "stdout",
     "output_type": "stream",
     "text": [
      "['apple', 'banana', 'cherry', 'apple', 'cherry']\n"
     ]
    }
   ],
   "source": [
    "thislist = [\"apple\", \"banana\", \"cherry\", \"apple\", \"cherry\"]\n",
    "print(thislist)"
   ]
  },
  {
   "cell_type": "code",
   "execution_count": 2,
   "id": "8a91f65d",
   "metadata": {},
   "outputs": [],
   "source": [
    "Sample = [\"Sugar\", \"Tea\", \"Salt\", \"Soap\"]"
   ]
  },
  {
   "cell_type": "code",
   "execution_count": 3,
   "id": "86de447b",
   "metadata": {},
   "outputs": [
    {
     "name": "stdout",
     "output_type": "stream",
     "text": [
      "['Sugar', 'Tea', 'Salt', 'Soap']\n"
     ]
    }
   ],
   "source": [
    "print(Sample)"
   ]
  },
  {
   "cell_type": "code",
   "execution_count": 5,
   "id": "f6553ed4",
   "metadata": {},
   "outputs": [],
   "source": [
    "Sample1 = ['Sugar', 'Tea', 'Salt', 'Soap']"
   ]
  },
  {
   "cell_type": "code",
   "execution_count": 6,
   "id": "3b38d86a",
   "metadata": {},
   "outputs": [
    {
     "name": "stdout",
     "output_type": "stream",
     "text": [
      "['Sugar', 'Tea', 'Salt', 'Soap']\n"
     ]
    }
   ],
   "source": [
    "print(Sample1)"
   ]
  },
  {
   "cell_type": "code",
   "execution_count": 7,
   "id": "e741902d",
   "metadata": {},
   "outputs": [
    {
     "data": {
      "text/plain": [
       "'Sugar'"
      ]
     },
     "execution_count": 7,
     "metadata": {},
     "output_type": "execute_result"
    }
   ],
   "source": [
    "Sample[0]"
   ]
  },
  {
   "cell_type": "code",
   "execution_count": 8,
   "id": "b4bb0497",
   "metadata": {},
   "outputs": [
    {
     "data": {
      "text/plain": [
       "'Tea'"
      ]
     },
     "execution_count": 8,
     "metadata": {},
     "output_type": "execute_result"
    }
   ],
   "source": [
    "Sample[1]"
   ]
  },
  {
   "cell_type": "code",
   "execution_count": 9,
   "id": "f4e17906",
   "metadata": {},
   "outputs": [
    {
     "data": {
      "text/plain": [
       "'Salt'"
      ]
     },
     "execution_count": 9,
     "metadata": {},
     "output_type": "execute_result"
    }
   ],
   "source": [
    "Sample[2]"
   ]
  },
  {
   "cell_type": "code",
   "execution_count": 10,
   "id": "e59b15ba",
   "metadata": {},
   "outputs": [
    {
     "data": {
      "text/plain": [
       "'Soap'"
      ]
     },
     "execution_count": 10,
     "metadata": {},
     "output_type": "execute_result"
    }
   ],
   "source": [
    "Sample[3]"
   ]
  },
  {
   "cell_type": "code",
   "execution_count": 11,
   "id": "389aeea5",
   "metadata": {},
   "outputs": [
    {
     "name": "stdout",
     "output_type": "stream",
     "text": [
      "<class 'list'>\n"
     ]
    }
   ],
   "source": [
    "print(type(Sample))"
   ]
  },
  {
   "cell_type": "code",
   "execution_count": 14,
   "id": "4df49493",
   "metadata": {},
   "outputs": [
    {
     "name": "stdout",
     "output_type": "stream",
     "text": [
      "['apple', 'banana', 'cherry']\n"
     ]
    }
   ],
   "source": [
    "thislist = list((\"apple\", \"banana\", \"cherry\")) # note the double round-brackets\n",
    "print(thislist)"
   ]
  },
  {
   "cell_type": "code",
   "execution_count": 15,
   "id": "34513211",
   "metadata": {},
   "outputs": [
    {
     "data": {
      "text/plain": [
       "'Soap'"
      ]
     },
     "execution_count": 15,
     "metadata": {},
     "output_type": "execute_result"
    }
   ],
   "source": [
    "Sample[-1]"
   ]
  },
  {
   "cell_type": "code",
   "execution_count": 16,
   "id": "705a4f63",
   "metadata": {},
   "outputs": [
    {
     "data": {
      "text/plain": [
       "'Salt'"
      ]
     },
     "execution_count": 16,
     "metadata": {},
     "output_type": "execute_result"
    }
   ],
   "source": [
    "Sample[-2]"
   ]
  },
  {
   "cell_type": "code",
   "execution_count": 17,
   "id": "aaeac326",
   "metadata": {},
   "outputs": [
    {
     "data": {
      "text/plain": [
       "'Tea'"
      ]
     },
     "execution_count": 17,
     "metadata": {},
     "output_type": "execute_result"
    }
   ],
   "source": [
    "Sample[-3]"
   ]
  },
  {
   "cell_type": "code",
   "execution_count": 18,
   "id": "ebe41299",
   "metadata": {},
   "outputs": [
    {
     "data": {
      "text/plain": [
       "'Sugar'"
      ]
     },
     "execution_count": 18,
     "metadata": {},
     "output_type": "execute_result"
    }
   ],
   "source": [
    "Sample[-4]"
   ]
  },
  {
   "cell_type": "code",
   "execution_count": 20,
   "id": "e1a58bd9",
   "metadata": {},
   "outputs": [],
   "source": [
    "Sample[1]=\"Oil\""
   ]
  },
  {
   "cell_type": "code",
   "execution_count": 21,
   "id": "335a8f1c",
   "metadata": {},
   "outputs": [
    {
     "data": {
      "text/plain": [
       "'Oil'"
      ]
     },
     "execution_count": 21,
     "metadata": {},
     "output_type": "execute_result"
    }
   ],
   "source": [
    "Sample[1]"
   ]
  },
  {
   "cell_type": "code",
   "execution_count": 22,
   "id": "e62f32b1",
   "metadata": {},
   "outputs": [
    {
     "name": "stdout",
     "output_type": "stream",
     "text": [
      "['Sugar', 'Oil', 'Salt', 'Soap']\n"
     ]
    }
   ],
   "source": [
    "print(Sample)"
   ]
  },
  {
   "cell_type": "code",
   "execution_count": 23,
   "id": "4aee996b",
   "metadata": {},
   "outputs": [],
   "source": [
    "Sample.append('dal')"
   ]
  },
  {
   "cell_type": "code",
   "execution_count": 24,
   "id": "0217cded",
   "metadata": {},
   "outputs": [
    {
     "name": "stdout",
     "output_type": "stream",
     "text": [
      "['Sugar', 'Oil', 'Salt', 'Soap', 'dal']\n"
     ]
    }
   ],
   "source": [
    "print(Sample)"
   ]
  },
  {
   "cell_type": "code",
   "execution_count": 46,
   "id": "897f4af6",
   "metadata": {},
   "outputs": [
    {
     "name": "stdout",
     "output_type": "stream",
     "text": [
      "['Nagpur', 'Mumbai', 'Pune']\n"
     ]
    }
   ],
   "source": [
    "Cities = [\"Nagpur\", \"Mumbai\", \"Pune\"]\n",
    "print(Cities)"
   ]
  },
  {
   "cell_type": "code",
   "execution_count": 47,
   "id": "a1988a9d",
   "metadata": {},
   "outputs": [
    {
     "data": {
      "text/plain": [
       "'Mumbai'"
      ]
     },
     "execution_count": 47,
     "metadata": {},
     "output_type": "execute_result"
    }
   ],
   "source": [
    "Cities[1]"
   ]
  },
  {
   "cell_type": "code",
   "execution_count": 48,
   "id": "fd1824c3",
   "metadata": {},
   "outputs": [],
   "source": [
    "Cities[1]=\"Banglore\""
   ]
  },
  {
   "cell_type": "code",
   "execution_count": 49,
   "id": "9bb54f15",
   "metadata": {},
   "outputs": [
    {
     "name": "stdout",
     "output_type": "stream",
     "text": [
      "['Nagpur', 'Banglore', 'Pune']\n"
     ]
    }
   ],
   "source": [
    "print(Cities)"
   ]
  },
  {
   "cell_type": "code",
   "execution_count": 50,
   "id": "1c03be5f",
   "metadata": {},
   "outputs": [],
   "source": [
    "Cities.append(\"Chennai\")"
   ]
  },
  {
   "cell_type": "code",
   "execution_count": 51,
   "id": "e2c196b4",
   "metadata": {},
   "outputs": [
    {
     "name": "stdout",
     "output_type": "stream",
     "text": [
      "['Nagpur', 'Banglore', 'Pune', 'Chennai']\n"
     ]
    }
   ],
   "source": [
    "print(Cities)"
   ]
  },
  {
   "cell_type": "code",
   "execution_count": 52,
   "id": "06de3c9e",
   "metadata": {},
   "outputs": [],
   "source": [
    "Cities.extend([\"Manali\", \"Goa\"])"
   ]
  },
  {
   "cell_type": "code",
   "execution_count": 53,
   "id": "76061d48",
   "metadata": {},
   "outputs": [
    {
     "name": "stdout",
     "output_type": "stream",
     "text": [
      "['Nagpur', 'Banglore', 'Pune', 'Chennai', 'Manali', 'Goa']\n"
     ]
    }
   ],
   "source": [
    "print(Cities)"
   ]
  },
  {
   "cell_type": "code",
   "execution_count": 54,
   "id": "7dfab85c",
   "metadata": {},
   "outputs": [],
   "source": [
    "Cities.insert(2,'Patna')"
   ]
  },
  {
   "cell_type": "code",
   "execution_count": 55,
   "id": "f0ab4103",
   "metadata": {},
   "outputs": [
    {
     "name": "stdout",
     "output_type": "stream",
     "text": [
      "['Nagpur', 'Banglore', 'Patna', 'Pune', 'Chennai', 'Manali', 'Goa']\n"
     ]
    }
   ],
   "source": [
    "print(Cities)"
   ]
  },
  {
   "cell_type": "code",
   "execution_count": 56,
   "id": "d96a6250",
   "metadata": {},
   "outputs": [
    {
     "data": {
      "text/plain": [
       "7"
      ]
     },
     "execution_count": 56,
     "metadata": {},
     "output_type": "execute_result"
    }
   ],
   "source": [
    "len(Cities)"
   ]
  },
  {
   "cell_type": "code",
   "execution_count": 59,
   "id": "4b48d23d",
   "metadata": {},
   "outputs": [
    {
     "data": {
      "text/plain": [
       "True"
      ]
     },
     "execution_count": 59,
     "metadata": {},
     "output_type": "execute_result"
    }
   ],
   "source": [
    "'Nagpur' in Cities"
   ]
  },
  {
   "cell_type": "code",
   "execution_count": 60,
   "id": "d4201461",
   "metadata": {},
   "outputs": [
    {
     "data": {
      "text/plain": [
       "False"
      ]
     },
     "execution_count": 60,
     "metadata": {},
     "output_type": "execute_result"
    }
   ],
   "source": [
    "'Padur' in Cities"
   ]
  },
  {
   "cell_type": "code",
   "execution_count": 61,
   "id": "6a95a17f",
   "metadata": {},
   "outputs": [
    {
     "data": {
      "text/plain": [
       "True"
      ]
     },
     "execution_count": 61,
     "metadata": {},
     "output_type": "execute_result"
    }
   ],
   "source": [
    "'Padur' not in Cities"
   ]
  },
  {
   "cell_type": "code",
   "execution_count": 62,
   "id": "f196d451",
   "metadata": {},
   "outputs": [
    {
     "data": {
      "text/plain": [
       "False"
      ]
     },
     "execution_count": 62,
     "metadata": {},
     "output_type": "execute_result"
    }
   ],
   "source": [
    "'Nagpur' not in Cities"
   ]
  },
  {
   "cell_type": "code",
   "execution_count": 63,
   "id": "71657e37",
   "metadata": {},
   "outputs": [],
   "source": [
    "Cities.remove('Pune')"
   ]
  },
  {
   "cell_type": "code",
   "execution_count": 65,
   "id": "c7892bf1",
   "metadata": {},
   "outputs": [
    {
     "name": "stdout",
     "output_type": "stream",
     "text": [
      "['Nagpur', 'Banglore', 'Patna', 'Chennai', 'Manali', 'Goa']\n"
     ]
    }
   ],
   "source": [
    "print(Cities)"
   ]
  },
  {
   "cell_type": "code",
   "execution_count": 67,
   "id": "fe08d553",
   "metadata": {},
   "outputs": [
    {
     "ename": "ValueError",
     "evalue": "list.remove(x): x not in list",
     "output_type": "error",
     "traceback": [
      "\u001b[0;31m---------------------------------------------------------------------------\u001b[0m",
      "\u001b[0;31mValueError\u001b[0m                                Traceback (most recent call last)",
      "\u001b[0;32m/var/folders/bg/77tnqfd51m57vg3m6wcsh_s40000gn/T/ipykernel_685/3318366254.py\u001b[0m in \u001b[0;36m<module>\u001b[0;34m\u001b[0m\n\u001b[0;32m----> 1\u001b[0;31m \u001b[0mCities\u001b[0m\u001b[0;34m.\u001b[0m\u001b[0mremove\u001b[0m\u001b[0;34m(\u001b[0m\u001b[0;34m[\u001b[0m\u001b[0;34m\"Manali\"\u001b[0m\u001b[0;34m,\u001b[0m \u001b[0;34m\"Goa\"\u001b[0m\u001b[0;34m]\u001b[0m\u001b[0;34m)\u001b[0m\u001b[0;34m\u001b[0m\u001b[0;34m\u001b[0m\u001b[0m\n\u001b[0m",
      "\u001b[0;31mValueError\u001b[0m: list.remove(x): x not in list"
     ]
    }
   ],
   "source": [
    "Cities.remove([\"Manali\", \"Goa\"])    #only one can be removed"
   ]
  },
  {
   "cell_type": "code",
   "execution_count": 70,
   "id": "77af2d19",
   "metadata": {},
   "outputs": [
    {
     "ename": "ValueError",
     "evalue": "list.remove(x): x not in list",
     "output_type": "error",
     "traceback": [
      "\u001b[0;31m---------------------------------------------------------------------------\u001b[0m",
      "\u001b[0;31mValueError\u001b[0m                                Traceback (most recent call last)",
      "\u001b[0;32m/var/folders/bg/77tnqfd51m57vg3m6wcsh_s40000gn/T/ipykernel_685/549394200.py\u001b[0m in \u001b[0;36m<module>\u001b[0;34m\u001b[0m\n\u001b[0;32m----> 1\u001b[0;31m \u001b[0mCities\u001b[0m\u001b[0;34m.\u001b[0m\u001b[0mremove\u001b[0m\u001b[0;34m(\u001b[0m\u001b[0;36m2\u001b[0m\u001b[0;34m)\u001b[0m\u001b[0;34m\u001b[0m\u001b[0;34m\u001b[0m\u001b[0m\n\u001b[0m",
      "\u001b[0;31mValueError\u001b[0m: list.remove(x): x not in list"
     ]
    }
   ],
   "source": [
    "Cities.remove(2)"
   ]
  },
  {
   "cell_type": "code",
   "execution_count": 71,
   "id": "413c447a",
   "metadata": {},
   "outputs": [],
   "source": [
    "del Cities[2]"
   ]
  },
  {
   "cell_type": "code",
   "execution_count": 72,
   "id": "d05a13a7",
   "metadata": {},
   "outputs": [
    {
     "name": "stdout",
     "output_type": "stream",
     "text": [
      "['Nagpur', 'Banglore', 'Chennai', 'Manali', 'Goa']\n"
     ]
    }
   ],
   "source": [
    "print(Cities)"
   ]
  },
  {
   "cell_type": "code",
   "execution_count": 74,
   "id": "a2dbbcda",
   "metadata": {},
   "outputs": [
    {
     "data": {
      "text/plain": [
       "['Chennai', 'Manali']"
      ]
     },
     "execution_count": 74,
     "metadata": {},
     "output_type": "execute_result"
    }
   ],
   "source": [
    "Cities[2:4]     #[a:b]...Takes a to (b-1)"
   ]
  },
  {
   "cell_type": "code",
   "execution_count": 75,
   "id": "a50b77b4",
   "metadata": {},
   "outputs": [
    {
     "data": {
      "text/plain": [
       "['Chennai', 'Manali', 'Goa']"
      ]
     },
     "execution_count": 75,
     "metadata": {},
     "output_type": "execute_result"
    }
   ],
   "source": [
    "Cities[2:5]"
   ]
  },
  {
   "cell_type": "code",
   "execution_count": 76,
   "id": "e12c5c6d",
   "metadata": {},
   "outputs": [],
   "source": [
    "Cities.sort()"
   ]
  },
  {
   "cell_type": "code",
   "execution_count": 77,
   "id": "89b61731",
   "metadata": {},
   "outputs": [
    {
     "name": "stdout",
     "output_type": "stream",
     "text": [
      "['Banglore', 'Chennai', 'Goa', 'Manali', 'Nagpur']\n"
     ]
    }
   ],
   "source": [
    "print(Cities)"
   ]
  },
  {
   "cell_type": "code",
   "execution_count": 78,
   "id": "dc5d323e",
   "metadata": {},
   "outputs": [],
   "source": [
    "del Cities[2:4]"
   ]
  },
  {
   "cell_type": "code",
   "execution_count": 79,
   "id": "b7e27602",
   "metadata": {},
   "outputs": [
    {
     "name": "stdout",
     "output_type": "stream",
     "text": [
      "['Banglore', 'Chennai', 'Nagpur']\n"
     ]
    }
   ],
   "source": [
    "print(Cities)"
   ]
  },
  {
   "cell_type": "code",
   "execution_count": 80,
   "id": "0bd9c70b",
   "metadata": {},
   "outputs": [
    {
     "data": {
      "text/plain": [
       "3"
      ]
     },
     "execution_count": 80,
     "metadata": {},
     "output_type": "execute_result"
    }
   ],
   "source": [
    "len(Cities)"
   ]
  },
  {
   "cell_type": "code",
   "execution_count": 81,
   "id": "2c7a02ac",
   "metadata": {},
   "outputs": [],
   "source": [
    "del Cities[0:4]"
   ]
  },
  {
   "cell_type": "code",
   "execution_count": 82,
   "id": "06a43a14",
   "metadata": {},
   "outputs": [
    {
     "name": "stdout",
     "output_type": "stream",
     "text": [
      "[]\n"
     ]
    }
   ],
   "source": [
    "print(Cities)"
   ]
  },
  {
   "cell_type": "code",
   "execution_count": 84,
   "id": "bb03f711",
   "metadata": {},
   "outputs": [],
   "source": [
    "del Cities"
   ]
  },
  {
   "cell_type": "code",
   "execution_count": 85,
   "id": "d41c0590",
   "metadata": {},
   "outputs": [
    {
     "ename": "NameError",
     "evalue": "name 'Cities' is not defined",
     "output_type": "error",
     "traceback": [
      "\u001b[0;31m---------------------------------------------------------------------------\u001b[0m",
      "\u001b[0;31mNameError\u001b[0m                                 Traceback (most recent call last)",
      "\u001b[0;32m/var/folders/bg/77tnqfd51m57vg3m6wcsh_s40000gn/T/ipykernel_685/3250711319.py\u001b[0m in \u001b[0;36m<module>\u001b[0;34m\u001b[0m\n\u001b[0;32m----> 1\u001b[0;31m \u001b[0mprint\u001b[0m\u001b[0;34m(\u001b[0m\u001b[0mCities\u001b[0m\u001b[0;34m)\u001b[0m\u001b[0;34m\u001b[0m\u001b[0;34m\u001b[0m\u001b[0m\n\u001b[0m",
      "\u001b[0;31mNameError\u001b[0m: name 'Cities' is not defined"
     ]
    }
   ],
   "source": [
    "print(Cities)"
   ]
  },
  {
   "cell_type": "code",
   "execution_count": 1,
   "id": "d42541c5",
   "metadata": {},
   "outputs": [],
   "source": [
    "string1=\"Hello\""
   ]
  },
  {
   "cell_type": "code",
   "execution_count": 2,
   "id": "ea311e18",
   "metadata": {},
   "outputs": [
    {
     "data": {
      "text/plain": [
       "'HelloHelloHello'"
      ]
     },
     "execution_count": 2,
     "metadata": {},
     "output_type": "execute_result"
    }
   ],
   "source": [
    "string1*3"
   ]
  },
  {
   "cell_type": "code",
   "execution_count": 3,
   "id": "332934b9",
   "metadata": {},
   "outputs": [],
   "source": [
    "string1=\"Hello \""
   ]
  },
  {
   "cell_type": "code",
   "execution_count": 4,
   "id": "853901ff",
   "metadata": {},
   "outputs": [
    {
     "data": {
      "text/plain": [
       "'Hello Hello Hello '"
      ]
     },
     "execution_count": 4,
     "metadata": {},
     "output_type": "execute_result"
    }
   ],
   "source": [
    "string1*3"
   ]
  },
  {
   "cell_type": "code",
   "execution_count": 5,
   "id": "686247f3",
   "metadata": {},
   "outputs": [],
   "source": [
    "a = \"Donetra\""
   ]
  },
  {
   "cell_type": "code",
   "execution_count": 6,
   "id": "ee5953bd",
   "metadata": {},
   "outputs": [
    {
     "data": {
      "text/plain": [
       "['D', 'o', 'n', 'e', 't', 'r', 'a']"
      ]
     },
     "execution_count": 6,
     "metadata": {},
     "output_type": "execute_result"
    }
   ],
   "source": [
    "list(a)"
   ]
  },
  {
   "cell_type": "code",
   "execution_count": 11,
   "id": "b85fa074",
   "metadata": {},
   "outputs": [],
   "source": [
    "blist = ['K', 'a', 'u', 'm', 'u', 'd', 'i']"
   ]
  },
  {
   "cell_type": "code",
   "execution_count": null,
   "id": "309d9931",
   "metadata": {},
   "outputs": [],
   "source": []
  },
  {
   "cell_type": "code",
   "execution_count": 14,
   "id": "51725ee8",
   "metadata": {},
   "outputs": [
    {
     "ename": "NameError",
     "evalue": "name 'string' is not defined",
     "output_type": "error",
     "traceback": [
      "\u001b[0;31m---------------------------------------------------------------------------\u001b[0m",
      "\u001b[0;31mNameError\u001b[0m                                 Traceback (most recent call last)",
      "\u001b[0;32m/var/folders/bg/77tnqfd51m57vg3m6wcsh_s40000gn/T/ipykernel_673/1971519715.py\u001b[0m in \u001b[0;36m<module>\u001b[0;34m\u001b[0m\n\u001b[0;32m----> 1\u001b[0;31m \u001b[0mstring\u001b[0m \u001b[0;34m(\u001b[0m\u001b[0mblist\u001b[0m\u001b[0;34m)\u001b[0m\u001b[0;34m\u001b[0m\u001b[0;34m\u001b[0m\u001b[0m\n\u001b[0m",
      "\u001b[0;31mNameError\u001b[0m: name 'string' is not defined"
     ]
    }
   ],
   "source": [
    "string (blist)"
   ]
  },
  {
   "cell_type": "code",
   "execution_count": 8,
   "id": "539f0366",
   "metadata": {},
   "outputs": [],
   "source": [
    "c=list('Donetra')"
   ]
  },
  {
   "cell_type": "code",
   "execution_count": 9,
   "id": "6056d4a6",
   "metadata": {},
   "outputs": [
    {
     "data": {
      "text/plain": [
       "['D', 'o', 'n', 'e', 't', 'r', 'a']"
      ]
     },
     "execution_count": 9,
     "metadata": {},
     "output_type": "execute_result"
    }
   ],
   "source": [
    "c"
   ]
  },
  {
   "cell_type": "code",
   "execution_count": 22,
   "id": "a401b0bc",
   "metadata": {},
   "outputs": [],
   "source": [
    "d_list = [0,1,2,3,4,5,6,7,8,9]"
   ]
  },
  {
   "cell_type": "code",
   "execution_count": 24,
   "id": "d6e8f75d",
   "metadata": {},
   "outputs": [
    {
     "data": {
      "text/plain": [
       "3"
      ]
     },
     "execution_count": 24,
     "metadata": {},
     "output_type": "execute_result"
    }
   ],
   "source": [
    "d_list[3]"
   ]
  },
  {
   "cell_type": "code",
   "execution_count": 26,
   "id": "41b1ed71",
   "metadata": {},
   "outputs": [
    {
     "data": {
      "text/plain": [
       "[4, 5, 6, 7]"
      ]
     },
     "execution_count": 26,
     "metadata": {},
     "output_type": "execute_result"
    }
   ],
   "source": [
    "d_list[4:8]"
   ]
  },
  {
   "cell_type": "code",
   "execution_count": 32,
   "id": "ce7c0d0c",
   "metadata": {},
   "outputs": [
    {
     "data": {
      "text/plain": [
       "[1, 2, 3, 4]"
      ]
     },
     "execution_count": 32,
     "metadata": {},
     "output_type": "execute_result"
    }
   ],
   "source": [
    "d_list[1:5]"
   ]
  },
  {
   "cell_type": "code",
   "execution_count": 28,
   "id": "6afdd350",
   "metadata": {},
   "outputs": [
    {
     "data": {
      "text/plain": [
       "[0, 1, 2, 3, 4]"
      ]
     },
     "execution_count": 28,
     "metadata": {},
     "output_type": "execute_result"
    }
   ],
   "source": [
    "d_list[ :5]"
   ]
  },
  {
   "cell_type": "code",
   "execution_count": 31,
   "id": "faef5a66",
   "metadata": {},
   "outputs": [
    {
     "data": {
      "text/plain": [
       "[3, 4, 5, 6, 7, 8, 9]"
      ]
     },
     "execution_count": 31,
     "metadata": {},
     "output_type": "execute_result"
    }
   ],
   "source": [
    "d_list[3: ]"
   ]
  },
  {
   "cell_type": "code",
   "execution_count": 33,
   "id": "818df394",
   "metadata": {},
   "outputs": [],
   "source": [
    "name = \"Chinmay\""
   ]
  },
  {
   "cell_type": "code",
   "execution_count": 34,
   "id": "ae3555d8",
   "metadata": {},
   "outputs": [
    {
     "name": "stdout",
     "output_type": "stream",
     "text": [
      "True\n"
     ]
    }
   ],
   "source": [
    "print(\"i\" in name)"
   ]
  },
  {
   "cell_type": "code",
   "execution_count": 35,
   "id": "0b63a291",
   "metadata": {},
   "outputs": [
    {
     "data": {
      "text/plain": [
       "'i'"
      ]
     },
     "execution_count": 35,
     "metadata": {},
     "output_type": "execute_result"
    }
   ],
   "source": [
    "name[2]"
   ]
  },
  {
   "cell_type": "code",
   "execution_count": 37,
   "id": "9aa263e9",
   "metadata": {},
   "outputs": [
    {
     "data": {
      "text/plain": [
       "'y'"
      ]
     },
     "execution_count": 37,
     "metadata": {},
     "output_type": "execute_result"
    }
   ],
   "source": [
    "name[6]"
   ]
  },
  {
   "cell_type": "code",
   "execution_count": 38,
   "id": "65790276",
   "metadata": {},
   "outputs": [
    {
     "data": {
      "text/plain": [
       "'inma'"
      ]
     },
     "execution_count": 38,
     "metadata": {},
     "output_type": "execute_result"
    }
   ],
   "source": [
    "name[2:6]"
   ]
  },
  {
   "cell_type": "markdown",
   "id": "dce8de45",
   "metadata": {},
   "source": [
    "# Range"
   ]
  },
  {
   "cell_type": "code",
   "execution_count": 3,
   "id": "fcf8c865",
   "metadata": {},
   "outputs": [],
   "source": [
    "x=range(10)"
   ]
  },
  {
   "cell_type": "code",
   "execution_count": 4,
   "id": "f70c2006",
   "metadata": {},
   "outputs": [
    {
     "data": {
      "text/plain": [
       "[0, 1, 2, 3, 4, 5, 6, 7, 8, 9]"
      ]
     },
     "execution_count": 4,
     "metadata": {},
     "output_type": "execute_result"
    }
   ],
   "source": [
    "list(range(10))"
   ]
  },
  {
   "cell_type": "code",
   "execution_count": 5,
   "id": "e2964e5e",
   "metadata": {},
   "outputs": [
    {
     "data": {
      "text/plain": [
       "[0, 1, 2, 3, 4, 5, 6, 7, 8, 9]"
      ]
     },
     "execution_count": 5,
     "metadata": {},
     "output_type": "execute_result"
    }
   ],
   "source": [
    "list(x)"
   ]
  },
  {
   "cell_type": "code",
   "execution_count": 8,
   "id": "f2537b18",
   "metadata": {},
   "outputs": [
    {
     "data": {
      "text/plain": [
       "range(0, 10)"
      ]
     },
     "execution_count": 8,
     "metadata": {},
     "output_type": "execute_result"
    }
   ],
   "source": [
    "range(10)"
   ]
  },
  {
   "cell_type": "code",
   "execution_count": 9,
   "id": "f300fb57",
   "metadata": {},
   "outputs": [
    {
     "data": {
      "text/plain": [
       "range(0, 10)"
      ]
     },
     "execution_count": 9,
     "metadata": {},
     "output_type": "execute_result"
    }
   ],
   "source": [
    "x"
   ]
  },
  {
   "cell_type": "code",
   "execution_count": 10,
   "id": "99cf63ed",
   "metadata": {},
   "outputs": [
    {
     "name": "stdout",
     "output_type": "stream",
     "text": [
      "range(0, 10)\n"
     ]
    }
   ],
   "source": [
    "print(x)"
   ]
  },
  {
   "cell_type": "code",
   "execution_count": 11,
   "id": "29854997",
   "metadata": {},
   "outputs": [
    {
     "data": {
      "text/plain": [
       "[1, 2, 3, 4, 5, 6, 7, 8, 9, 10]"
      ]
     },
     "execution_count": 11,
     "metadata": {},
     "output_type": "execute_result"
    }
   ],
   "source": [
    "list(range(1,11))"
   ]
  },
  {
   "cell_type": "code",
   "execution_count": 16,
   "id": "381a7db5",
   "metadata": {},
   "outputs": [],
   "source": [
    "a=range(17,171,17) #(start,stop,increment)"
   ]
  },
  {
   "cell_type": "code",
   "execution_count": 15,
   "id": "26e80e1f",
   "metadata": {},
   "outputs": [
    {
     "data": {
      "text/plain": [
       "[17, 34, 51, 68, 85, 102, 119, 136, 153, 170]"
      ]
     },
     "execution_count": 15,
     "metadata": {},
     "output_type": "execute_result"
    }
   ],
   "source": [
    "list(a)"
   ]
  },
  {
   "cell_type": "code",
   "execution_count": 19,
   "id": "1d993bf2",
   "metadata": {},
   "outputs": [
    {
     "data": {
      "text/plain": [
       "[17, 34, 51, 68, 85, 102, 119, 136, 153, 170]"
      ]
     },
     "execution_count": 19,
     "metadata": {},
     "output_type": "execute_result"
    }
   ],
   "source": [
    "list(range(17,171,17))"
   ]
  },
  {
   "cell_type": "code",
   "execution_count": 17,
   "id": "58570497",
   "metadata": {},
   "outputs": [],
   "source": [
    "b=range(23,231,23)"
   ]
  },
  {
   "cell_type": "code",
   "execution_count": 18,
   "id": "50953e84",
   "metadata": {},
   "outputs": [
    {
     "data": {
      "text/plain": [
       "[23, 46, 69, 92, 115, 138, 161, 184, 207, 230]"
      ]
     },
     "execution_count": 18,
     "metadata": {},
     "output_type": "execute_result"
    }
   ],
   "source": [
    "list(b)"
   ]
  },
  {
   "cell_type": "code",
   "execution_count": 20,
   "id": "ae025410",
   "metadata": {},
   "outputs": [
    {
     "data": {
      "text/plain": [
       "[23, 46, 69, 92, 115, 138, 161, 184, 207, 230]"
      ]
     },
     "execution_count": 20,
     "metadata": {},
     "output_type": "execute_result"
    }
   ],
   "source": [
    "list(range(23,231,23))"
   ]
  },
  {
   "cell_type": "code",
   "execution_count": 28,
   "id": "0bf865fd",
   "metadata": {},
   "outputs": [],
   "source": [
    "c=range(2,-13,-2)"
   ]
  },
  {
   "cell_type": "code",
   "execution_count": 39,
   "id": "371f3a68",
   "metadata": {},
   "outputs": [
    {
     "data": {
      "text/plain": [
       "range(2, -13, -2)"
      ]
     },
     "execution_count": 39,
     "metadata": {},
     "output_type": "execute_result"
    }
   ],
   "source": [
    "c"
   ]
  },
  {
   "cell_type": "code",
   "execution_count": 44,
   "id": "0d6ff3ad",
   "metadata": {},
   "outputs": [],
   "source": [
    "d=list(range(2,-13,-2))"
   ]
  },
  {
   "cell_type": "code",
   "execution_count": 45,
   "id": "667e6d59",
   "metadata": {},
   "outputs": [
    {
     "data": {
      "text/plain": [
       "[2, 0, -2, -4, -6, -8, -10, -12]"
      ]
     },
     "execution_count": 45,
     "metadata": {},
     "output_type": "execute_result"
    }
   ],
   "source": [
    "d"
   ]
  },
  {
   "cell_type": "code",
   "execution_count": 31,
   "id": "7285ad85",
   "metadata": {},
   "outputs": [
    {
     "data": {
      "text/plain": [
       "2"
      ]
     },
     "execution_count": 31,
     "metadata": {},
     "output_type": "execute_result"
    }
   ],
   "source": [
    "c[0]"
   ]
  },
  {
   "cell_type": "code",
   "execution_count": 33,
   "id": "00885ea5",
   "metadata": {},
   "outputs": [
    {
     "data": {
      "text/plain": [
       "-6"
      ]
     },
     "execution_count": 33,
     "metadata": {},
     "output_type": "execute_result"
    }
   ],
   "source": [
    "c[4]"
   ]
  },
  {
   "cell_type": "code",
   "execution_count": 38,
   "id": "18f5bdd7",
   "metadata": {},
   "outputs": [
    {
     "data": {
      "text/plain": [
       "range(2, -6, -2)"
      ]
     },
     "execution_count": 38,
     "metadata": {},
     "output_type": "execute_result"
    }
   ],
   "source": [
    "c[:-4]"
   ]
  },
  {
   "cell_type": "code",
   "execution_count": 48,
   "id": "49dbe0e6",
   "metadata": {},
   "outputs": [
    {
     "data": {
      "text/plain": [
       "[2, 0, -2, -4, -6]"
      ]
     },
     "execution_count": 48,
     "metadata": {},
     "output_type": "execute_result"
    }
   ],
   "source": [
    "d[ :-3]"
   ]
  },
  {
   "cell_type": "code",
   "execution_count": 49,
   "id": "ce0826a9",
   "metadata": {},
   "outputs": [
    {
     "data": {
      "text/plain": [
       "[2, 0, -2, -4, -6]"
      ]
     },
     "execution_count": 49,
     "metadata": {},
     "output_type": "execute_result"
    }
   ],
   "source": [
    "d[ :5]"
   ]
  },
  {
   "cell_type": "code",
   "execution_count": 23,
   "id": "3cecaa3f",
   "metadata": {},
   "outputs": [
    {
     "data": {
      "text/plain": [
       "[100,\n",
       " 90,\n",
       " 80,\n",
       " 70,\n",
       " 60,\n",
       " 50,\n",
       " 40,\n",
       " 30,\n",
       " 20,\n",
       " 10,\n",
       " 0,\n",
       " -10,\n",
       " -20,\n",
       " -30,\n",
       " -40,\n",
       " -50,\n",
       " -60,\n",
       " -70,\n",
       " -80,\n",
       " -90,\n",
       " -100]"
      ]
     },
     "execution_count": 23,
     "metadata": {},
     "output_type": "execute_result"
    }
   ],
   "source": [
    "list(range(100,-101,-10))"
   ]
  },
  {
   "cell_type": "markdown",
   "id": "dedc59a9",
   "metadata": {},
   "source": [
    "# Comparator"
   ]
  },
  {
   "cell_type": "code",
   "execution_count": 50,
   "id": "ec568fe5",
   "metadata": {},
   "outputs": [
    {
     "data": {
      "text/plain": [
       "False"
      ]
     },
     "execution_count": 50,
     "metadata": {},
     "output_type": "execute_result"
    }
   ],
   "source": [
    "5>6"
   ]
  },
  {
   "cell_type": "code",
   "execution_count": 51,
   "id": "3ea33737",
   "metadata": {},
   "outputs": [
    {
     "data": {
      "text/plain": [
       "False"
      ]
     },
     "execution_count": 51,
     "metadata": {},
     "output_type": "execute_result"
    }
   ],
   "source": [
    "5==6"
   ]
  },
  {
   "cell_type": "code",
   "execution_count": 58,
   "id": "bce0b9d4",
   "metadata": {},
   "outputs": [
    {
     "data": {
      "text/plain": [
       "True"
      ]
     },
     "execution_count": 58,
     "metadata": {},
     "output_type": "execute_result"
    }
   ],
   "source": [
    "\"  \"=='  '"
   ]
  },
  {
   "cell_type": "code",
   "execution_count": 53,
   "id": "53ceed6c",
   "metadata": {},
   "outputs": [
    {
     "data": {
      "text/plain": [
       "True"
      ]
     },
     "execution_count": 53,
     "metadata": {},
     "output_type": "execute_result"
    }
   ],
   "source": [
    "5==5"
   ]
  },
  {
   "cell_type": "code",
   "execution_count": 54,
   "id": "15096575",
   "metadata": {},
   "outputs": [
    {
     "data": {
      "text/plain": [
       "True"
      ]
     },
     "execution_count": 54,
     "metadata": {},
     "output_type": "execute_result"
    }
   ],
   "source": [
    "4>2"
   ]
  },
  {
   "cell_type": "code",
   "execution_count": 55,
   "id": "09820979",
   "metadata": {},
   "outputs": [
    {
     "data": {
      "text/plain": [
       "False"
      ]
     },
     "execution_count": 55,
     "metadata": {},
     "output_type": "execute_result"
    }
   ],
   "source": [
    "True==False"
   ]
  },
  {
   "cell_type": "code",
   "execution_count": 57,
   "id": "5d6dfa5f",
   "metadata": {},
   "outputs": [
    {
     "data": {
      "text/plain": [
       "False"
      ]
     },
     "execution_count": 57,
     "metadata": {},
     "output_type": "execute_result"
    }
   ],
   "source": [
    "'Donetra'=='Kaumudi'"
   ]
  },
  {
   "cell_type": "code",
   "execution_count": 59,
   "id": "4bc89942",
   "metadata": {},
   "outputs": [
    {
     "data": {
      "text/plain": [
       "True"
      ]
     },
     "execution_count": 59,
     "metadata": {},
     "output_type": "execute_result"
    }
   ],
   "source": [
    "5>=5"
   ]
  },
  {
   "cell_type": "code",
   "execution_count": 60,
   "id": "a940bd3e",
   "metadata": {},
   "outputs": [
    {
     "data": {
      "text/plain": [
       "True"
      ]
     },
     "execution_count": 60,
     "metadata": {},
     "output_type": "execute_result"
    }
   ],
   "source": [
    "4<=9"
   ]
  },
  {
   "cell_type": "code",
   "execution_count": null,
   "id": "a903bb94",
   "metadata": {},
   "outputs": [],
   "source": []
  }
 ],
 "metadata": {
  "kernelspec": {
   "display_name": "Python 3 (ipykernel)",
   "language": "python",
   "name": "python3"
  },
  "language_info": {
   "codemirror_mode": {
    "name": "ipython",
    "version": 3
   },
   "file_extension": ".py",
   "mimetype": "text/x-python",
   "name": "python",
   "nbconvert_exporter": "python",
   "pygments_lexer": "ipython3",
   "version": "3.9.7"
  }
 },
 "nbformat": 4,
 "nbformat_minor": 5
}

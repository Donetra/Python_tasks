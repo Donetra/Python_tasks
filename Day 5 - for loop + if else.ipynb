{
 "cells": [
  {
   "cell_type": "markdown",
   "id": "b068ed93",
   "metadata": {},
   "source": [
    "# Forloop continued"
   ]
  },
  {
   "cell_type": "code",
   "execution_count": 19,
   "id": "0e06f4a2",
   "metadata": {},
   "outputs": [],
   "source": [
    "B = list(range(1,171))"
   ]
  },
  {
   "cell_type": "code",
   "execution_count": 20,
   "id": "1bdb2529",
   "metadata": {},
   "outputs": [
    {
     "name": "stdout",
     "output_type": "stream",
     "text": [
      "17 * 1 is 17\n",
      "17 * 2 is 34\n",
      "17 * 3 is 51\n",
      "17 * 4 is 68\n",
      "17 * 5 is 85\n",
      "17 * 6 is 102\n",
      "17 * 7 is 119\n",
      "17 * 8 is 136\n",
      "17 * 9 is 153\n",
      "17 * 10 is 170\n",
      "17 * 11 is 187\n",
      "17 * 12 is 204\n",
      "17 * 13 is 221\n",
      "17 * 14 is 238\n",
      "17 * 15 is 255\n",
      "17 * 16 is 272\n",
      "17 * 17 is 289\n",
      "17 * 18 is 306\n",
      "17 * 19 is 323\n",
      "17 * 20 is 340\n",
      "17 * 21 is 357\n",
      "17 * 22 is 374\n",
      "17 * 23 is 391\n",
      "17 * 24 is 408\n",
      "17 * 25 is 425\n",
      "17 * 26 is 442\n",
      "17 * 27 is 459\n",
      "17 * 28 is 476\n",
      "17 * 29 is 493\n",
      "17 * 30 is 510\n",
      "17 * 31 is 527\n",
      "17 * 32 is 544\n",
      "17 * 33 is 561\n",
      "17 * 34 is 578\n",
      "17 * 35 is 595\n",
      "17 * 36 is 612\n",
      "17 * 37 is 629\n",
      "17 * 38 is 646\n",
      "17 * 39 is 663\n",
      "17 * 40 is 680\n",
      "17 * 41 is 697\n",
      "17 * 42 is 714\n",
      "17 * 43 is 731\n",
      "17 * 44 is 748\n",
      "17 * 45 is 765\n",
      "17 * 46 is 782\n",
      "17 * 47 is 799\n",
      "17 * 48 is 816\n",
      "17 * 49 is 833\n",
      "17 * 50 is 850\n",
      "17 * 51 is 867\n",
      "17 * 52 is 884\n",
      "17 * 53 is 901\n",
      "17 * 54 is 918\n",
      "17 * 55 is 935\n",
      "17 * 56 is 952\n",
      "17 * 57 is 969\n",
      "17 * 58 is 986\n",
      "17 * 59 is 1003\n",
      "17 * 60 is 1020\n",
      "17 * 61 is 1037\n",
      "17 * 62 is 1054\n",
      "17 * 63 is 1071\n",
      "17 * 64 is 1088\n",
      "17 * 65 is 1105\n",
      "17 * 66 is 1122\n",
      "17 * 67 is 1139\n",
      "17 * 68 is 1156\n",
      "17 * 69 is 1173\n",
      "17 * 70 is 1190\n",
      "17 * 71 is 1207\n",
      "17 * 72 is 1224\n",
      "17 * 73 is 1241\n",
      "17 * 74 is 1258\n",
      "17 * 75 is 1275\n",
      "17 * 76 is 1292\n",
      "17 * 77 is 1309\n",
      "17 * 78 is 1326\n",
      "17 * 79 is 1343\n",
      "17 * 80 is 1360\n",
      "17 * 81 is 1377\n",
      "17 * 82 is 1394\n",
      "17 * 83 is 1411\n",
      "17 * 84 is 1428\n",
      "17 * 85 is 1445\n",
      "17 * 86 is 1462\n",
      "17 * 87 is 1479\n",
      "17 * 88 is 1496\n",
      "17 * 89 is 1513\n",
      "17 * 90 is 1530\n",
      "17 * 91 is 1547\n",
      "17 * 92 is 1564\n",
      "17 * 93 is 1581\n",
      "17 * 94 is 1598\n",
      "17 * 95 is 1615\n",
      "17 * 96 is 1632\n",
      "17 * 97 is 1649\n",
      "17 * 98 is 1666\n",
      "17 * 99 is 1683\n",
      "17 * 100 is 1700\n",
      "17 * 101 is 1717\n",
      "17 * 102 is 1734\n",
      "17 * 103 is 1751\n",
      "17 * 104 is 1768\n",
      "17 * 105 is 1785\n",
      "17 * 106 is 1802\n",
      "17 * 107 is 1819\n",
      "17 * 108 is 1836\n",
      "17 * 109 is 1853\n",
      "17 * 110 is 1870\n",
      "17 * 111 is 1887\n",
      "17 * 112 is 1904\n",
      "17 * 113 is 1921\n",
      "17 * 114 is 1938\n",
      "17 * 115 is 1955\n",
      "17 * 116 is 1972\n",
      "17 * 117 is 1989\n",
      "17 * 118 is 2006\n",
      "17 * 119 is 2023\n",
      "17 * 120 is 2040\n",
      "17 * 121 is 2057\n",
      "17 * 122 is 2074\n",
      "17 * 123 is 2091\n",
      "17 * 124 is 2108\n",
      "17 * 125 is 2125\n",
      "17 * 126 is 2142\n",
      "17 * 127 is 2159\n",
      "17 * 128 is 2176\n",
      "17 * 129 is 2193\n",
      "17 * 130 is 2210\n",
      "17 * 131 is 2227\n",
      "17 * 132 is 2244\n",
      "17 * 133 is 2261\n",
      "17 * 134 is 2278\n",
      "17 * 135 is 2295\n",
      "17 * 136 is 2312\n",
      "17 * 137 is 2329\n",
      "17 * 138 is 2346\n",
      "17 * 139 is 2363\n",
      "17 * 140 is 2380\n",
      "17 * 141 is 2397\n",
      "17 * 142 is 2414\n",
      "17 * 143 is 2431\n",
      "17 * 144 is 2448\n",
      "17 * 145 is 2465\n",
      "17 * 146 is 2482\n",
      "17 * 147 is 2499\n",
      "17 * 148 is 2516\n",
      "17 * 149 is 2533\n",
      "17 * 150 is 2550\n",
      "17 * 151 is 2567\n",
      "17 * 152 is 2584\n",
      "17 * 153 is 2601\n",
      "17 * 154 is 2618\n",
      "17 * 155 is 2635\n",
      "17 * 156 is 2652\n",
      "17 * 157 is 2669\n",
      "17 * 158 is 2686\n",
      "17 * 159 is 2703\n",
      "17 * 160 is 2720\n",
      "17 * 161 is 2737\n",
      "17 * 162 is 2754\n",
      "17 * 163 is 2771\n",
      "17 * 164 is 2788\n",
      "17 * 165 is 2805\n",
      "17 * 166 is 2822\n",
      "17 * 167 is 2839\n",
      "17 * 168 is 2856\n",
      "17 * 169 is 2873\n",
      "17 * 170 is 2890\n"
     ]
    }
   ],
   "source": [
    "for a in B:\n",
    "    print ('17','*',a,'is', a*17)"
   ]
  },
  {
   "cell_type": "code",
   "execution_count": 17,
   "id": "19286b8c",
   "metadata": {},
   "outputs": [],
   "source": [
    "C = list(range(1,11))"
   ]
  },
  {
   "cell_type": "code",
   "execution_count": 18,
   "id": "228dd8d6",
   "metadata": {},
   "outputs": [
    {
     "name": "stdout",
     "output_type": "stream",
     "text": [
      "17 * 1 is 17\n",
      "17 * 2 is 34\n",
      "17 * 3 is 51\n",
      "17 * 4 is 68\n",
      "17 * 5 is 85\n",
      "17 * 6 is 102\n",
      "17 * 7 is 119\n",
      "17 * 8 is 136\n",
      "17 * 9 is 153\n",
      "17 * 10 is 170\n"
     ]
    }
   ],
   "source": [
    "for a in C:\n",
    "    print ('17','*',a,'is', a*17)"
   ]
  },
  {
   "cell_type": "code",
   "execution_count": 33,
   "id": "8a0c5a50",
   "metadata": {},
   "outputs": [],
   "source": [
    "F=range (17,171,17)"
   ]
  },
  {
   "cell_type": "code",
   "execution_count": 34,
   "id": "f6099e9f",
   "metadata": {},
   "outputs": [
    {
     "name": "stdout",
     "output_type": "stream",
     "text": [
      "17\n",
      "34\n",
      "51\n",
      "68\n",
      "85\n",
      "102\n",
      "119\n",
      "136\n",
      "153\n",
      "170\n"
     ]
    }
   ],
   "source": [
    "for i in range (17,171,17):\n",
    "    print(i)"
   ]
  },
  {
   "cell_type": "code",
   "execution_count": 36,
   "id": "be93d607",
   "metadata": {},
   "outputs": [
    {
     "name": "stdout",
     "output_type": "stream",
     "text": [
      "17\n",
      "34\n",
      "51\n",
      "68\n",
      "85\n",
      "102\n",
      "119\n",
      "136\n",
      "153\n",
      "170\n"
     ]
    }
   ],
   "source": [
    "for i in F:\n",
    "    print(i)"
   ]
  },
  {
   "cell_type": "code",
   "execution_count": 53,
   "id": "d97bddae",
   "metadata": {},
   "outputs": [],
   "source": [
    "G = {\n",
    "    'Mahashtra' : 'Mumbai',\n",
    "    'Orissa' : 'Bhuwaneshwar',\n",
    "    'Punjab' : 'chandigarh'\n",
    "}"
   ]
  },
  {
   "cell_type": "code",
   "execution_count": 54,
   "id": "f8ee3eb2",
   "metadata": {},
   "outputs": [],
   "source": [
    "L1 =[]"
   ]
  },
  {
   "cell_type": "code",
   "execution_count": 55,
   "id": "97dc8a9b",
   "metadata": {},
   "outputs": [],
   "source": [
    "L2 =[]"
   ]
  },
  {
   "cell_type": "code",
   "execution_count": 56,
   "id": "02a531d9",
   "metadata": {},
   "outputs": [],
   "source": [
    "L3 =[]"
   ]
  },
  {
   "cell_type": "code",
   "execution_count": 57,
   "id": "a3bd5ef4",
   "metadata": {},
   "outputs": [
    {
     "name": "stdout",
     "output_type": "stream",
     "text": [
      "Mahashtra\n",
      "Orissa\n",
      "Punjab\n"
     ]
    }
   ],
   "source": [
    "for x,y in G.items():\n",
    "    print(x)"
   ]
  },
  {
   "cell_type": "code",
   "execution_count": 58,
   "id": "39070a9a",
   "metadata": {},
   "outputs": [
    {
     "name": "stdout",
     "output_type": "stream",
     "text": [
      "Mumbai\n",
      "Bhuwaneshwar\n",
      "chandigarh\n"
     ]
    }
   ],
   "source": [
    "for x,y in G.items():\n",
    "    print(y)"
   ]
  },
  {
   "cell_type": "code",
   "execution_count": 59,
   "id": "93c83910",
   "metadata": {},
   "outputs": [
    {
     "name": "stdout",
     "output_type": "stream",
     "text": [
      "['Mahashtra', 'Mumbai']\n",
      "['Mahashtra', 'Mumbai', 'Orissa', 'Bhuwaneshwar']\n",
      "['Mahashtra', 'Mumbai', 'Orissa', 'Bhuwaneshwar', 'Punjab', 'chandigarh']\n"
     ]
    }
   ],
   "source": [
    "for x,y in G.items():\n",
    "    L2.append(x)\n",
    "    L2.append(y)\n",
    "    print(L2)"
   ]
  },
  {
   "cell_type": "markdown",
   "id": "84b935b9",
   "metadata": {},
   "source": [
    "# If else"
   ]
  },
  {
   "cell_type": "code",
   "execution_count": 3,
   "id": "6ccea934",
   "metadata": {},
   "outputs": [],
   "source": [
    "H = ['Chennai', 'Nagpur', 'Jaipur']"
   ]
  },
  {
   "cell_type": "code",
   "execution_count": 8,
   "id": "f8859186",
   "metadata": {},
   "outputs": [],
   "source": [
    "city = H[0]"
   ]
  },
  {
   "cell_type": "code",
   "execution_count": 9,
   "id": "74a9e47d",
   "metadata": {},
   "outputs": [
    {
     "data": {
      "text/plain": [
       "'Chennai'"
      ]
     },
     "execution_count": 9,
     "metadata": {},
     "output_type": "execute_result"
    }
   ],
   "source": [
    "city"
   ]
  },
  {
   "cell_type": "code",
   "execution_count": 10,
   "id": "5f01136c",
   "metadata": {},
   "outputs": [
    {
     "name": "stdout",
     "output_type": "stream",
     "text": [
      "It's Hot\n"
     ]
    }
   ],
   "source": [
    "if city=='Chennai':\n",
    "    print(\"It's Hot\")"
   ]
  },
  {
   "cell_type": "code",
   "execution_count": 11,
   "id": "b268618b",
   "metadata": {},
   "outputs": [],
   "source": [
    "if city=='Nagpur':\n",
    "    print(\"It's not Hot\")"
   ]
  },
  {
   "cell_type": "code",
   "execution_count": 12,
   "id": "5ffcfa84",
   "metadata": {},
   "outputs": [
    {
     "name": "stdout",
     "output_type": "stream",
     "text": [
      "It's Hot\n"
     ]
    }
   ],
   "source": [
    "if city=='Chennai':\n",
    "    print(\"It's Hot\")\n",
    "else:\n",
    "    print(\"Not Hot\")"
   ]
  },
  {
   "cell_type": "code",
   "execution_count": 13,
   "id": "c756893c",
   "metadata": {},
   "outputs": [
    {
     "name": "stdout",
     "output_type": "stream",
     "text": [
      "Not Hot\n"
     ]
    }
   ],
   "source": [
    "if city=='Nagpur':\n",
    "    print(\"It's Hot\")\n",
    "else:\n",
    "    print(\"Not Hot\")"
   ]
  },
  {
   "cell_type": "code",
   "execution_count": 14,
   "id": "8a8da682",
   "metadata": {},
   "outputs": [],
   "source": [
    "city='Bhopal'"
   ]
  },
  {
   "cell_type": "code",
   "execution_count": 15,
   "id": "428410bf",
   "metadata": {},
   "outputs": [
    {
     "ename": "SyntaxError",
     "evalue": "invalid syntax (2799807805.py, line 3)",
     "output_type": "error",
     "traceback": [
      "\u001b[0;36m  File \u001b[0;32m\"/var/folders/bg/77tnqfd51m57vg3m6wcsh_s40000gn/T/ipykernel_1516/2799807805.py\"\u001b[0;36m, line \u001b[0;32m3\u001b[0m\n\u001b[0;31m    else city=='Mumbai':\u001b[0m\n\u001b[0m         ^\u001b[0m\n\u001b[0;31mSyntaxError\u001b[0m\u001b[0;31m:\u001b[0m invalid syntax\n"
     ]
    }
   ],
   "source": [
    "if city=='Chennai':\n",
    "    print(\"It's Hot\")\n",
    "else city=='Mumbai':\n",
    "    print(\"Party\")\n",
    "else city=='Pune':\n",
    "    print(\"Masti\")\n",
    "else:\n",
    "    print(\"Sleep\")\n"
   ]
  },
  {
   "cell_type": "code",
   "execution_count": 23,
   "id": "54522b06",
   "metadata": {},
   "outputs": [
    {
     "ename": "SyntaxError",
     "evalue": "invalid syntax (3674417907.py, line 3)",
     "output_type": "error",
     "traceback": [
      "\u001b[0;36m  File \u001b[0;32m\"/var/folders/bg/77tnqfd51m57vg3m6wcsh_s40000gn/T/ipykernel_1516/3674417907.py\"\u001b[0;36m, line \u001b[0;32m3\u001b[0m\n\u001b[0;31m    else city=='Mumbai':\u001b[0m\n\u001b[0m         ^\u001b[0m\n\u001b[0;31mSyntaxError\u001b[0m\u001b[0;31m:\u001b[0m invalid syntax\n"
     ]
    }
   ],
   "source": [
    "if city=='Chennai':\n",
    "    print(\"It's Hot\")\n",
    "else city=='Mumbai':\n",
    "    print(\"Party\")"
   ]
  },
  {
   "cell_type": "code",
   "execution_count": 1,
   "id": "86af0ab9",
   "metadata": {},
   "outputs": [],
   "source": [
    "a='Bhopal'"
   ]
  },
  {
   "cell_type": "code",
   "execution_count": 4,
   "id": "93b6503c",
   "metadata": {},
   "outputs": [
    {
     "data": {
      "text/plain": [
       "['Chennai', 'Nagpur', 'Jaipur']"
      ]
     },
     "execution_count": 4,
     "metadata": {},
     "output_type": "execute_result"
    }
   ],
   "source": [
    "H"
   ]
  },
  {
   "cell_type": "code",
   "execution_count": 5,
   "id": "4773eb77",
   "metadata": {},
   "outputs": [],
   "source": [
    "H.append(a)"
   ]
  },
  {
   "cell_type": "code",
   "execution_count": 6,
   "id": "a852ef87",
   "metadata": {},
   "outputs": [
    {
     "data": {
      "text/plain": [
       "['Chennai', 'Nagpur', 'Jaipur', 'Bhopal']"
      ]
     },
     "execution_count": 6,
     "metadata": {},
     "output_type": "execute_result"
    }
   ],
   "source": [
    "H"
   ]
  },
  {
   "cell_type": "code",
   "execution_count": 7,
   "id": "4cd14f82",
   "metadata": {},
   "outputs": [
    {
     "name": "stdout",
     "output_type": "stream",
     "text": [
      "Chennai\n",
      "Nagpur\n",
      "Jaipur\n",
      "Bhopal\n"
     ]
    }
   ],
   "source": [
    "for b in H:\n",
    "    print(b)"
   ]
  },
  {
   "cell_type": "code",
   "execution_count": 9,
   "id": "401850a9",
   "metadata": {},
   "outputs": [],
   "source": [
    "for b in H:\n",
    "    if b=='Pune':\n",
    "        print('Present')"
   ]
  },
  {
   "cell_type": "code",
   "execution_count": null,
   "id": "24e7d65f",
   "metadata": {},
   "outputs": [],
   "source": []
  },
  {
   "cell_type": "code",
   "execution_count": 1,
   "id": "9d0ebd37",
   "metadata": {},
   "outputs": [
    {
     "ename": "IndentationError",
     "evalue": "expected an indented block (4059085730.py, line 3)",
     "output_type": "error",
     "traceback": [
      "\u001b[0;36m  File \u001b[0;32m\"/var/folders/bg/77tnqfd51m57vg3m6wcsh_s40000gn/T/ipykernel_27653/4059085730.py\"\u001b[0;36m, line \u001b[0;32m3\u001b[0m\n\u001b[0;31m    print(\"It's Hot\")\u001b[0m\n\u001b[0m    ^\u001b[0m\n\u001b[0;31mIndentationError\u001b[0m\u001b[0;31m:\u001b[0m expected an indented block\n"
     ]
    }
   ],
   "source": [
    "for city in H:\n",
    "    if city=='Chennai':\n",
    "    print(\"It's Hot\")\n",
    "else city=='Mumbai':\n",
    "    print(\"Party\")\n",
    "else city=='Pune':\n",
    "    print(\"Masti\")\n",
    "else:\n",
    "    print(\"Sleep\")\n"
   ]
  },
  {
   "cell_type": "code",
   "execution_count": null,
   "id": "985538b8",
   "metadata": {},
   "outputs": [],
   "source": []
  }
 ],
 "metadata": {
  "kernelspec": {
   "display_name": "Python 3 (ipykernel)",
   "language": "python",
   "name": "python3"
  },
  "language_info": {
   "codemirror_mode": {
    "name": "ipython",
    "version": 3
   },
   "file_extension": ".py",
   "mimetype": "text/x-python",
   "name": "python",
   "nbconvert_exporter": "python",
   "pygments_lexer": "ipython3",
   "version": "3.9.7"
  }
 },
 "nbformat": 4,
 "nbformat_minor": 5
}

{
 "cells": [
  {
   "cell_type": "markdown",
   "id": "dffb7813",
   "metadata": {},
   "source": [
    "# If Else"
   ]
  },
  {
   "cell_type": "code",
   "execution_count": 1,
   "id": "e31e8288",
   "metadata": {},
   "outputs": [],
   "source": [
    "Cities=[\"Nagpur\", \"Pune\", \"Mumbai\"]"
   ]
  },
  {
   "cell_type": "code",
   "execution_count": 2,
   "id": "dd3e5f03",
   "metadata": {},
   "outputs": [],
   "source": [
    "City=Cities[0]"
   ]
  },
  {
   "cell_type": "code",
   "execution_count": 3,
   "id": "942ec39b",
   "metadata": {},
   "outputs": [
    {
     "data": {
      "text/plain": [
       "'Nagpur'"
      ]
     },
     "execution_count": 3,
     "metadata": {},
     "output_type": "execute_result"
    }
   ],
   "source": [
    "City"
   ]
  },
  {
   "cell_type": "code",
   "execution_count": 4,
   "id": "cbece5d1",
   "metadata": {},
   "outputs": [
    {
     "name": "stdout",
     "output_type": "stream",
     "text": [
      "Its hot\n"
     ]
    }
   ],
   "source": [
    "if City=='Nagpur':\n",
    "    print(\"Its hot\")"
   ]
  },
  {
   "cell_type": "code",
   "execution_count": 5,
   "id": "8e71e736",
   "metadata": {},
   "outputs": [],
   "source": [
    "if City==\"Puna\":\n",
    "    print(\"Its not hot\")"
   ]
  },
  {
   "cell_type": "code",
   "execution_count": 6,
   "id": "86d1a2d4",
   "metadata": {},
   "outputs": [],
   "source": [
    "if City==\"Pune\":\n",
    "    print(\"Its not hot\")"
   ]
  },
  {
   "cell_type": "code",
   "execution_count": 7,
   "id": "91618527",
   "metadata": {},
   "outputs": [
    {
     "name": "stdout",
     "output_type": "stream",
     "text": [
      "Its hot\n"
     ]
    }
   ],
   "source": [
    "if City=='Nagpur':\n",
    "    print(\"Its hot\")\n",
    "else:\n",
    "    print(\"Not hot\")"
   ]
  },
  {
   "cell_type": "code",
   "execution_count": 8,
   "id": "3e5d3021",
   "metadata": {},
   "outputs": [
    {
     "name": "stdout",
     "output_type": "stream",
     "text": [
      "Not hot\n"
     ]
    }
   ],
   "source": [
    "if City=='Pune':\n",
    "    print(\"Its hot\")\n",
    "else:\n",
    "    print(\"Not hot\")"
   ]
  },
  {
   "cell_type": "code",
   "execution_count": 9,
   "id": "5ce964d9",
   "metadata": {},
   "outputs": [],
   "source": [
    "City='Delhi'"
   ]
  },
  {
   "cell_type": "code",
   "execution_count": 10,
   "id": "64c43639",
   "metadata": {},
   "outputs": [
    {
     "name": "stdout",
     "output_type": "stream",
     "text": [
      "Sleep\n"
     ]
    }
   ],
   "source": [
    "if City=='Nagpur':\n",
    "    print(\"Its hot\")\n",
    "elif City==\"Mumbai\":\n",
    "    print(\"Party\")\n",
    "elif City==\"Pune\":\n",
    "    print(\"Masti\")\n",
    "else:\n",
    "    print(\"Sleep\")"
   ]
  },
  {
   "cell_type": "code",
   "execution_count": 11,
   "id": "80ab52de",
   "metadata": {},
   "outputs": [],
   "source": [
    "a='Bhopal'"
   ]
  },
  {
   "cell_type": "code",
   "execution_count": 12,
   "id": "41370453",
   "metadata": {},
   "outputs": [],
   "source": [
    "Cities.append(a)"
   ]
  },
  {
   "cell_type": "code",
   "execution_count": 13,
   "id": "159f89b5",
   "metadata": {},
   "outputs": [
    {
     "name": "stdout",
     "output_type": "stream",
     "text": [
      "Its Hot\n",
      "Masti\n",
      "Party\n",
      "Sleep\n"
     ]
    }
   ],
   "source": [
    "for City in Cities:\n",
    "    if City=='Nagpur':\n",
    "        print (\"Its Hot\")\n",
    "    elif City==\"Mumbai\":\n",
    "        print(\"Party\")\n",
    "    elif City==\"Pune\":\n",
    "        print(\"Masti\")\n",
    "    else:\n",
    "        print(\"Sleep\")"
   ]
  },
  {
   "cell_type": "code",
   "execution_count": 14,
   "id": "d1995829",
   "metadata": {},
   "outputs": [
    {
     "name": "stdout",
     "output_type": "stream",
     "text": [
      "Yes nagpur is present\n",
      "Yes pune is present\n",
      "Yes mumbai is present\n",
      "Sleep\n"
     ]
    }
   ],
   "source": [
    "for City in Cities:\n",
    "    if City=='Nagpur':\n",
    "        print (\"Yes nagpur is present\")\n",
    "    elif City==\"Mumbai\":\n",
    "        print(\"Yes mumbai is present\")\n",
    "    elif City==\"Pune\":\n",
    "        print(\"Yes pune is present\")\n",
    "    else:\n",
    "        print(\"Sleep\")"
   ]
  },
  {
   "cell_type": "code",
   "execution_count": 3,
   "id": "2d51e8e9",
   "metadata": {},
   "outputs": [],
   "source": [
    "H=list(range(1,11))"
   ]
  },
  {
   "cell_type": "code",
   "execution_count": 4,
   "id": "53c5a256",
   "metadata": {},
   "outputs": [
    {
     "name": "stdout",
     "output_type": "stream",
     "text": [
      "[1, 2, 3, 4, 5, 6, 7, 8, 9, 10]\n"
     ]
    }
   ],
   "source": [
    "print(H)"
   ]
  },
  {
   "cell_type": "code",
   "execution_count": 15,
   "id": "ddc36e84",
   "metadata": {},
   "outputs": [
    {
     "name": "stdout",
     "output_type": "stream",
     "text": [
      "Number 1 is Odd number\n",
      "Number 2 is Even number\n",
      "Number 3 is Odd number\n",
      "Number 4 is Even number\n",
      "Number 5 is Odd number\n",
      "Number 6 is Even number\n",
      "Number 7 is Odd number\n",
      "Number 8 is Even number\n",
      "Number 9 is Odd number\n",
      "Number 10 is Even number\n"
     ]
    }
   ],
   "source": [
    "for i in H:\n",
    "    if (i%2)==0:\n",
    "        print( \"Number\",i,\"is Even number\")\n",
    "    else:\n",
    "        print(\"Number\",i,\"is Odd number\")"
   ]
  },
  {
   "cell_type": "code",
   "execution_count": 13,
   "id": "9ddffebc",
   "metadata": {},
   "outputs": [
    {
     "name": "stdout",
     "output_type": "stream",
     "text": [
      "Enter number:5\n",
      "Odd number\n"
     ]
    }
   ],
   "source": [
    "num=int(input(\"Enter number:\"))\n",
    "if (num%2)==0:\n",
    "    print(\"Even number\")\n",
    "else:\n",
    "    print(\"Odd number\")"
   ]
  },
  {
   "cell_type": "markdown",
   "id": "a3e3d5ca",
   "metadata": {},
   "source": [
    "# While loop"
   ]
  },
  {
   "cell_type": "code",
   "execution_count": 11,
   "id": "5a4fd47b",
   "metadata": {},
   "outputs": [],
   "source": [
    "counter =0"
   ]
  },
  {
   "cell_type": "code",
   "execution_count": 12,
   "id": "9455da60",
   "metadata": {},
   "outputs": [
    {
     "name": "stdout",
     "output_type": "stream",
     "text": [
      "Inside loop\n",
      "Inside loop\n",
      "Inside loop\n",
      "Inside else\n"
     ]
    }
   ],
   "source": [
    "while counter<3:\n",
    "    print(\"Inside loop\")\n",
    "    counter=counter+1\n",
    "else:\n",
    "    print(\"Inside else\")"
   ]
  },
  {
   "cell_type": "code",
   "execution_count": 16,
   "id": "c741893f",
   "metadata": {},
   "outputs": [],
   "source": [
    "n=10"
   ]
  },
  {
   "cell_type": "code",
   "execution_count": 17,
   "id": "694f0e48",
   "metadata": {},
   "outputs": [],
   "source": [
    "sum=0"
   ]
  },
  {
   "cell_type": "code",
   "execution_count": 18,
   "id": "ef8c0ab9",
   "metadata": {},
   "outputs": [],
   "source": [
    "i=1"
   ]
  },
  {
   "cell_type": "code",
   "execution_count": 19,
   "id": "a6b0b8f4",
   "metadata": {},
   "outputs": [],
   "source": [
    "while i<=n:\n",
    "    sum=sum+i\n",
    "    i=i+1"
   ]
  },
  {
   "cell_type": "code",
   "execution_count": 20,
   "id": "940d1984",
   "metadata": {},
   "outputs": [
    {
     "name": "stdout",
     "output_type": "stream",
     "text": [
      "The sum is 55\n"
     ]
    }
   ],
   "source": [
    "print(\"The sum is\", sum)"
   ]
  },
  {
   "cell_type": "code",
   "execution_count": 21,
   "id": "2c67e517",
   "metadata": {},
   "outputs": [
    {
     "ename": "TypeError",
     "evalue": "'int' object is not iterable",
     "output_type": "error",
     "traceback": [
      "\u001b[0;31m---------------------------------------------------------------------------\u001b[0m",
      "\u001b[0;31mTypeError\u001b[0m                                 Traceback (most recent call last)",
      "\u001b[0;32m/var/folders/bg/77tnqfd51m57vg3m6wcsh_s40000gn/T/ipykernel_14138/3907214056.py\u001b[0m in \u001b[0;36m<module>\u001b[0;34m\u001b[0m\n\u001b[0;32m----> 1\u001b[0;31m \u001b[0;32mfor\u001b[0m \u001b[0mi\u001b[0m \u001b[0;32min\u001b[0m \u001b[0mn\u001b[0m\u001b[0;34m:\u001b[0m\u001b[0;34m\u001b[0m\u001b[0;34m\u001b[0m\u001b[0m\n\u001b[0m\u001b[1;32m      2\u001b[0m     \u001b[0msum\u001b[0m\u001b[0;34m=\u001b[0m\u001b[0msum\u001b[0m\u001b[0;34m+\u001b[0m\u001b[0mi\u001b[0m\u001b[0;34m\u001b[0m\u001b[0;34m\u001b[0m\u001b[0m\n\u001b[1;32m      3\u001b[0m     \u001b[0mi\u001b[0m\u001b[0;34m=\u001b[0m\u001b[0mi\u001b[0m\u001b[0;34m+\u001b[0m\u001b[0;36m1\u001b[0m\u001b[0;34m\u001b[0m\u001b[0;34m\u001b[0m\u001b[0m\n",
      "\u001b[0;31mTypeError\u001b[0m: 'int' object is not iterable"
     ]
    }
   ],
   "source": [
    "for i in n:\n",
    "    sum=sum+i\n",
    "    i=i+1"
   ]
  },
  {
   "cell_type": "code",
   "execution_count": 23,
   "id": "fbd86ee1",
   "metadata": {},
   "outputs": [],
   "source": [
    "a=[]"
   ]
  },
  {
   "cell_type": "code",
   "execution_count": 25,
   "id": "401fa780",
   "metadata": {},
   "outputs": [],
   "source": [
    "b={\n",
    "    \"Virat\":\"Kohli\",\n",
    "    \"Rohit\":\"Sharma\",\n",
    "    \"Hardik\":\"Pandya\"\n",
    "}"
   ]
  },
  {
   "cell_type": "code",
   "execution_count": 26,
   "id": "b6142333",
   "metadata": {},
   "outputs": [
    {
     "data": {
      "text/plain": [
       "<function dict.keys>"
      ]
     },
     "execution_count": 26,
     "metadata": {},
     "output_type": "execute_result"
    }
   ],
   "source": [
    "b.keys"
   ]
  },
  {
   "cell_type": "code",
   "execution_count": 27,
   "id": "7927c8b4",
   "metadata": {},
   "outputs": [
    {
     "data": {
      "text/plain": [
       "dict_keys(['Virat', 'Rohit', 'Hardik'])"
      ]
     },
     "execution_count": 27,
     "metadata": {},
     "output_type": "execute_result"
    }
   ],
   "source": [
    "b.keys()"
   ]
  },
  {
   "cell_type": "code",
   "execution_count": 28,
   "id": "f8e9553e",
   "metadata": {},
   "outputs": [
    {
     "data": {
      "text/plain": [
       "dict_values(['Kohli', 'Sharma', 'Pandya'])"
      ]
     },
     "execution_count": 28,
     "metadata": {},
     "output_type": "execute_result"
    }
   ],
   "source": [
    "b.values()"
   ]
  },
  {
   "cell_type": "code",
   "execution_count": 29,
   "id": "14b9445b",
   "metadata": {},
   "outputs": [
    {
     "name": "stdout",
     "output_type": "stream",
     "text": [
      "dict_keys(['Virat', 'Rohit', 'Hardik'])\n",
      "dict_values(['Kohli', 'Sharma', 'Pandya'])\n",
      "dict_items([('Virat', 'Kohli'), ('Rohit', 'Sharma'), ('Hardik', 'Pandya')])\n"
     ]
    }
   ],
   "source": [
    "print(b.keys())\n",
    "print(b.values())\n",
    "print(b.items())"
   ]
  },
  {
   "cell_type": "code",
   "execution_count": 32,
   "id": "496fe1a1",
   "metadata": {},
   "outputs": [
    {
     "name": "stdout",
     "output_type": "stream",
     "text": [
      "Kohli\n",
      "Sharma\n",
      "Pandya\n"
     ]
    }
   ],
   "source": [
    "for x,y in b.items():\n",
    "    print(y)"
   ]
  },
  {
   "cell_type": "code",
   "execution_count": 34,
   "id": "2a618708",
   "metadata": {},
   "outputs": [
    {
     "name": "stdout",
     "output_type": "stream",
     "text": [
      "['Virat', 'Kohli']\n",
      "['Virat', 'Kohli', 'Rohit', 'Sharma']\n",
      "['Virat', 'Kohli', 'Rohit', 'Sharma', 'Hardik', 'Pandya']\n"
     ]
    }
   ],
   "source": [
    "for x,y in b.items():\n",
    "    a.append(x)\n",
    "    a.append(y)\n",
    "    print(a)"
   ]
  },
  {
   "cell_type": "code",
   "execution_count": 35,
   "id": "983c9516",
   "metadata": {},
   "outputs": [
    {
     "data": {
      "text/plain": [
       "['Virat', 'Kohli', 'Rohit', 'Sharma', 'Hardik', 'Pandya']"
      ]
     },
     "execution_count": 35,
     "metadata": {},
     "output_type": "execute_result"
    }
   ],
   "source": [
    "a"
   ]
  },
  {
   "cell_type": "code",
   "execution_count": 36,
   "id": "5de4c6e4",
   "metadata": {},
   "outputs": [],
   "source": [
    "c=[]"
   ]
  },
  {
   "cell_type": "code",
   "execution_count": null,
   "id": "af7d5323",
   "metadata": {},
   "outputs": [],
   "source": [
    "for x in b.keys():\n",
    "    "
   ]
  }
 ],
 "metadata": {
  "kernelspec": {
   "display_name": "Python 3 (ipykernel)",
   "language": "python",
   "name": "python3"
  },
  "language_info": {
   "codemirror_mode": {
    "name": "ipython",
    "version": 3
   },
   "file_extension": ".py",
   "mimetype": "text/x-python",
   "name": "python",
   "nbconvert_exporter": "python",
   "pygments_lexer": "ipython3",
   "version": "3.9.7"
  }
 },
 "nbformat": 4,
 "nbformat_minor": 5
}

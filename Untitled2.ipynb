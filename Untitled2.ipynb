{
 "cells": [
  {
   "cell_type": "code",
   "execution_count": 2,
   "id": "d671066e",
   "metadata": {},
   "outputs": [],
   "source": [
    "# SUNDAY - 1\n",
    "#MONDAY - 2\n",
    "#TUES - 3\n",
    "#WED - -1\n",
    "#THURS - -2\n",
    "#FRID - -3\n",
    "#SATUR - NULL \n",
    "\n",
    "# 21 st jan 2021 to 25 th sep 2021"
   ]
  },
  {
   "cell_type": "code",
   "execution_count": 5,
   "id": "460f04fc",
   "metadata": {},
   "outputs": [
    {
     "ename": "SyntaxError",
     "evalue": "invalid syntax (3167951526.py, line 1)",
     "output_type": "error",
     "traceback": [
      "\u001b[0;36m  File \u001b[0;32m\"/var/folders/bg/77tnqfd51m57vg3m6wcsh_s40000gn/T/ipykernel_82619/3167951526.py\"\u001b[0;36m, line \u001b[0;32m1\u001b[0m\n\u001b[0;31m    21 st jan Turs\u001b[0m\n\u001b[0m       ^\u001b[0m\n\u001b[0;31mSyntaxError\u001b[0m\u001b[0;31m:\u001b[0m invalid syntax\n"
     ]
    }
   ],
   "source": [
    "21 st jan Turs"
   ]
  },
  {
   "cell_type": "code",
   "execution_count": null,
   "id": "1782375f",
   "metadata": {},
   "outputs": [],
   "source": []
  },
  {
   "cell_type": "code",
   "execution_count": null,
   "id": "c5ce6d42",
   "metadata": {},
   "outputs": [],
   "source": []
  },
  {
   "cell_type": "code",
   "execution_count": 7,
   "id": "d5b26c00",
   "metadata": {},
   "outputs": [
    {
     "ename": "SyntaxError",
     "evalue": "invalid syntax (58166988.py, line 1)",
     "output_type": "error",
     "traceback": [
      "\u001b[0;36m  File \u001b[0;32m\"/var/folders/bg/77tnqfd51m57vg3m6wcsh_s40000gn/T/ipykernel_82619/58166988.py\"\u001b[0;36m, line \u001b[0;32m1\u001b[0m\n\u001b[0;31m    def Container:\u001b[0m\n\u001b[0m                 ^\u001b[0m\n\u001b[0;31mSyntaxError\u001b[0m\u001b[0;31m:\u001b[0m invalid syntax\n"
     ]
    }
   ],
   "source": [
    "def Container:\n",
    "    \n",
    "    while marble = 0:\n",
    "        if day == sunday:\n",
    "            marble = marble + 1\n",
    "        elif day == monday:\n",
    "            marble = marble + 2\n",
    "        elif day == tuesday:\n",
    "            marble = marble + 3\n",
    "        elif day == wednesday:\n",
    "            marble = marble - 1\n",
    "        elif day == thursday:\n",
    "            marble = marble - 2\n",
    "        elif day == friday:\n",
    "            marble = marble - 3\n",
    "            \n",
    "        else day == saturday:\n",
    "            marble = marble + 0\n",
    "        "
   ]
  },
  {
   "cell_type": "code",
   "execution_count": 27,
   "id": "ddfe41a0",
   "metadata": {},
   "outputs": [],
   "source": [
    "s= ['S','o','m','y']\n",
    "alp = ['a','b','c','d','e','f','g','h','i','j','k','l','m','n','o','p','q','r','s','t','u','v','w','x','y','z']\n",
    "vowel = ['a','e','i','o','u']\n",
    "\n",
    "\n",
    "for i in s:\n",
    "    if i in s ==  alp:\n",
    "        print (i >> b in vowel)"
   ]
  },
  {
   "cell_type": "code",
   "execution_count": 34,
   "id": "c4d495b5",
   "metadata": {},
   "outputs": [],
   "source": [
    "for i in s:\n",
    "    for b in vowel:\n",
    "        if i in s == b in vowel:\n",
    "            print (i >> a in alp)"
   ]
  },
  {
   "cell_type": "code",
   "execution_count": 33,
   "id": "0ba0b02e",
   "metadata": {},
   "outputs": [],
   "source": [
    "for i in s:\n",
    "    if i in s == alp:\n",
    "        print('a')"
   ]
  },
  {
   "cell_type": "code",
   "execution_count": null,
   "id": "5bc942f2",
   "metadata": {},
   "outputs": [],
   "source": []
  },
  {
   "cell_type": "code",
   "execution_count": null,
   "id": "945135db",
   "metadata": {},
   "outputs": [],
   "source": []
  }
 ],
 "metadata": {
  "kernelspec": {
   "display_name": "Python 3 (ipykernel)",
   "language": "python",
   "name": "python3"
  },
  "language_info": {
   "codemirror_mode": {
    "name": "ipython",
    "version": 3
   },
   "file_extension": ".py",
   "mimetype": "text/x-python",
   "name": "python",
   "nbconvert_exporter": "python",
   "pygments_lexer": "ipython3",
   "version": "3.9.7"
  }
 },
 "nbformat": 4,
 "nbformat_minor": 5
}

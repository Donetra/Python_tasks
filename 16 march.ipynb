{
 "cells": [
  {
   "cell_type": "code",
   "execution_count": 2,
   "id": "ed7a52f6",
   "metadata": {},
   "outputs": [
    {
     "ename": "TypeError",
     "evalue": "argument of type 'int' is not iterable",
     "output_type": "error",
     "traceback": [
      "\u001b[0;31m---------------------------------------------------------------------------\u001b[0m",
      "\u001b[0;31mTypeError\u001b[0m                                 Traceback (most recent call last)",
      "\u001b[0;32m/var/folders/bg/77tnqfd51m57vg3m6wcsh_s40000gn/T/ipykernel_28407/3094521289.py\u001b[0m in \u001b[0;36m<module>\u001b[0;34m\u001b[0m\n\u001b[1;32m      5\u001b[0m \u001b[0mn\u001b[0m\u001b[0;34m=\u001b[0m\u001b[0;36m4\u001b[0m\u001b[0;34m\u001b[0m\u001b[0;34m\u001b[0m\u001b[0m\n\u001b[1;32m      6\u001b[0m \u001b[0;32mfor\u001b[0m \u001b[0mi\u001b[0m \u001b[0;32min\u001b[0m \u001b[0ml1\u001b[0m\u001b[0;34m:\u001b[0m\u001b[0;34m\u001b[0m\u001b[0;34m\u001b[0m\u001b[0m\n\u001b[0;32m----> 7\u001b[0;31m     \u001b[0;32mif\u001b[0m \u001b[0ml1\u001b[0m\u001b[0;34m[\u001b[0m\u001b[0mn\u001b[0m\u001b[0;34m]\u001b[0m \u001b[0;32min\u001b[0m \u001b[0mi\u001b[0m\u001b[0;34m:\u001b[0m\u001b[0;34m\u001b[0m\u001b[0;34m\u001b[0m\u001b[0m\n\u001b[0m\u001b[1;32m      8\u001b[0m         \u001b[0mprint\u001b[0m\u001b[0;34m(\u001b[0m\u001b[0;34m'Exists'\u001b[0m\u001b[0;34m)\u001b[0m\u001b[0;34m\u001b[0m\u001b[0;34m\u001b[0m\u001b[0m\n",
      "\u001b[0;31mTypeError\u001b[0m: argument of type 'int' is not iterable"
     ]
    }
   ],
   "source": [
    "# 1. Write a Python program to check whether the n-th element exists in a given list\n",
    "\n",
    "l1=[1,2,3,4,5,6]\n",
    "\n",
    "n=4\n",
    "for i in l1:\n",
    "    if l1[n] in i:\n",
    "        print('Exists')"
   ]
  },
  {
   "cell_type": "code",
   "execution_count": 4,
   "id": "3c629f3b",
   "metadata": {},
   "outputs": [
    {
     "name": "stdout",
     "output_type": "stream",
     "text": [
      "string 1\n",
      "string 2\n",
      "string 3\n",
      "string 4\n",
      "string 5\n"
     ]
    }
   ],
   "source": [
    "# 2. Write a Python program to insert a given string at the beginning of all items in a list\n",
    "\n",
    "l2=[1,2,3,4,5]\n",
    "\n",
    "for i in l2:\n",
    "    print('string', i)"
   ]
  },
  {
   "cell_type": "code",
   "execution_count": 9,
   "id": "c9a8eb9b",
   "metadata": {},
   "outputs": [
    {
     "data": {
      "text/plain": [
       "[7, 6, 5, 4, 4, 3, 3, 3, 3, 2, 1, 0, 0, 0, 0, 0, 0, 0, 0, 0, 0]"
      ]
     },
     "execution_count": 9,
     "metadata": {},
     "output_type": "execute_result"
    }
   ],
   "source": [
    "# 3. Write a Python program to move all zero digits to end of a given list of numbers.\n",
    "\n",
    "l3=[1,0,2,0,3,0,4,0,0,0,0,3,3,3,5,0,0,7,0,4,6]\n",
    "l3.sort(reverse=True)\n",
    "l3"
   ]
  },
  {
   "cell_type": "code",
   "execution_count": 11,
   "id": "6fc2532c",
   "metadata": {},
   "outputs": [
    {
     "name": "stdout",
     "output_type": "stream",
     "text": [
      "7\n",
      "5\n",
      "9\n",
      "5\n",
      "6\n",
      "7\n",
      "8\n"
     ]
    }
   ],
   "source": [
    "# 4. Write a Python program to find all the values in a list are greater than a specified number\n",
    "\n",
    "l4=[7,3,5,9,5,2,6,7,8,4,3]\n",
    "\n",
    "for i in l4:\n",
    "    if i>4:\n",
    "        print(i)"
   ]
  },
  {
   "cell_type": "code",
   "execution_count": 18,
   "id": "e1d84d3d",
   "metadata": {},
   "outputs": [
    {
     "name": "stdout",
     "output_type": "stream",
     "text": [
      "2 4\n",
      "3 3\n",
      "4 3\n",
      "5 4\n",
      "2 4\n",
      "3 3\n",
      "4 3\n",
      "5 4\n",
      "3 3\n",
      "4 3\n",
      "6 2\n",
      "2 4\n",
      "5 4\n",
      "6 2\n",
      "2 4\n",
      "5 4\n",
      "7 1\n"
     ]
    }
   ],
   "source": [
    "# 5. Write a Python program to remove duplicates from a list of lists. \n",
    "\n",
    "l5=[2,3,4,5,2,3,4,5,3,4,6,2,5,6,2,5,7]\n",
    "for i in l5:\n",
    "    print(i, l5.count(i))"
   ]
  },
  {
   "cell_type": "code",
   "execution_count": null,
   "id": "a6beb886",
   "metadata": {},
   "outputs": [],
   "source": [
    "if l5.count(i)>1:\n",
    "    "
   ]
  },
  {
   "cell_type": "code",
   "execution_count": null,
   "id": "df8c100c",
   "metadata": {},
   "outputs": [],
   "source": []
  }
 ],
 "metadata": {
  "kernelspec": {
   "display_name": "Python 3 (ipykernel)",
   "language": "python",
   "name": "python3"
  },
  "language_info": {
   "codemirror_mode": {
    "name": "ipython",
    "version": 3
   },
   "file_extension": ".py",
   "mimetype": "text/x-python",
   "name": "python",
   "nbconvert_exporter": "python",
   "pygments_lexer": "ipython3",
   "version": "3.9.7"
  }
 },
 "nbformat": 4,
 "nbformat_minor": 5
}

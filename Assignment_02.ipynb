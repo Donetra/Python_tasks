{
 "cells": [
  {
   "cell_type": "code",
   "execution_count": 1,
   "id": "fd9cff13",
   "metadata": {},
   "outputs": [],
   "source": [
    "import numpy as np"
   ]
  },
  {
   "cell_type": "code",
   "execution_count": 2,
   "id": "794664f1",
   "metadata": {},
   "outputs": [],
   "source": [
    "import pandas as pd"
   ]
  },
  {
   "cell_type": "code",
   "execution_count": 3,
   "id": "bdbec69e",
   "metadata": {},
   "outputs": [],
   "source": [
    "from pandas import Series,DataFrame"
   ]
  },
  {
   "cell_type": "code",
   "execution_count": 4,
   "id": "beb47649",
   "metadata": {},
   "outputs": [],
   "source": [
    "# 3. How to convert a list into a string?"
   ]
  },
  {
   "cell_type": "code",
   "execution_count": 5,
   "id": "c630edcf",
   "metadata": {},
   "outputs": [],
   "source": [
    "a = ['x', 'y', 'z']"
   ]
  },
  {
   "cell_type": "code",
   "execution_count": 6,
   "id": "6d42c6f0",
   "metadata": {},
   "outputs": [],
   "source": [
    "def listToString(a): \n",
    "    b = \"\"  \n",
    "    for i in a: \n",
    "        b += i  \n",
    "    return b"
   ]
  },
  {
   "cell_type": "code",
   "execution_count": 7,
   "id": "82b41eea",
   "metadata": {},
   "outputs": [
    {
     "name": "stdout",
     "output_type": "stream",
     "text": [
      "xyz\n"
     ]
    }
   ],
   "source": [
    "print(listToString(a)) "
   ]
  },
  {
   "cell_type": "code",
   "execution_count": 8,
   "id": "f57e677b",
   "metadata": {},
   "outputs": [],
   "source": [
    "# 6. How to count the occurrences of a particular element in the list?"
   ]
  },
  {
   "cell_type": "code",
   "execution_count": 9,
   "id": "a3c2d69c",
   "metadata": {},
   "outputs": [],
   "source": [
    "c = ['a','b','f','e','j','h','w','k','v','b','b','4','2','6','8','8','8']"
   ]
  },
  {
   "cell_type": "code",
   "execution_count": 10,
   "id": "00062aa6",
   "metadata": {},
   "outputs": [
    {
     "data": {
      "text/plain": [
       "['a',\n",
       " 'b',\n",
       " 'f',\n",
       " 'e',\n",
       " 'j',\n",
       " 'h',\n",
       " 'w',\n",
       " 'k',\n",
       " 'v',\n",
       " 'b',\n",
       " 'b',\n",
       " '4',\n",
       " '2',\n",
       " '6',\n",
       " '8',\n",
       " '8',\n",
       " '8']"
      ]
     },
     "execution_count": 10,
     "metadata": {},
     "output_type": "execute_result"
    }
   ],
   "source": [
    "c"
   ]
  },
  {
   "cell_type": "code",
   "execution_count": 11,
   "id": "cb295ead",
   "metadata": {},
   "outputs": [
    {
     "name": "stdout",
     "output_type": "stream",
     "text": [
      "3\n"
     ]
    }
   ],
   "source": [
    "print(c.count('b'))"
   ]
  },
  {
   "cell_type": "code",
   "execution_count": 16,
   "id": "85713ead",
   "metadata": {},
   "outputs": [],
   "source": [
    "d = {i:c.count(i) for i in c}"
   ]
  },
  {
   "cell_type": "code",
   "execution_count": 17,
   "id": "f8cddc0c",
   "metadata": {},
   "outputs": [
    {
     "data": {
      "text/plain": [
       "{'a': 1,\n",
       " 'b': 3,\n",
       " 'f': 1,\n",
       " 'e': 1,\n",
       " 'j': 1,\n",
       " 'h': 1,\n",
       " 'w': 1,\n",
       " 'k': 1,\n",
       " 'v': 1,\n",
       " '4': 1,\n",
       " '2': 1,\n",
       " '6': 1,\n",
       " '8': 3}"
      ]
     },
     "execution_count": 17,
     "metadata": {},
     "output_type": "execute_result"
    }
   ],
   "source": [
    "d"
   ]
  },
  {
   "cell_type": "code",
   "execution_count": 18,
   "id": "93a89fe9",
   "metadata": {},
   "outputs": [
    {
     "data": {
      "text/plain": [
       "['a',\n",
       " 'b',\n",
       " 'f',\n",
       " 'e',\n",
       " 'j',\n",
       " 'h',\n",
       " 'w',\n",
       " 'k',\n",
       " 'v',\n",
       " 'b',\n",
       " 'b',\n",
       " '4',\n",
       " '2',\n",
       " '6',\n",
       " '8',\n",
       " '8',\n",
       " '8']"
      ]
     },
     "execution_count": 18,
     "metadata": {},
     "output_type": "execute_result"
    }
   ],
   "source": [
    "c"
   ]
  },
  {
   "cell_type": "code",
   "execution_count": 19,
   "id": "2e5c7f52",
   "metadata": {},
   "outputs": [
    {
     "data": {
      "text/plain": [
       "[['b', 3],\n",
       " ['a', 1],\n",
       " ['j', 1],\n",
       " ['e', 1],\n",
       " ['v', 1],\n",
       " ['k', 1],\n",
       " ['h', 1],\n",
       " ['4', 1],\n",
       " ['f', 1],\n",
       " ['2', 1],\n",
       " ['w', 1],\n",
       " ['8', 3],\n",
       " ['6', 1]]"
      ]
     },
     "execution_count": 19,
     "metadata": {},
     "output_type": "execute_result"
    }
   ],
   "source": [
    "[[i,c.count(i)] for i in set(c)]"
   ]
  },
  {
   "cell_type": "code",
   "execution_count": 20,
   "id": "f64703f0",
   "metadata": {},
   "outputs": [
    {
     "name": "stdout",
     "output_type": "stream",
     "text": [
      "[['b', 3], ['a', 1], ['j', 1], ['e', 1], ['v', 1], ['k', 1], ['h', 1], ['4', 1], ['f', 1], ['2', 1], ['w', 1], ['8', 3], ['6', 1]]\n"
     ]
    }
   ],
   "source": [
    "print([[i,c.count(i)] for i in set(c)])"
   ]
  },
  {
   "cell_type": "code",
   "execution_count": 21,
   "id": "d06d7dca",
   "metadata": {},
   "outputs": [],
   "source": [
    "# 8. How can you create Empty NumPy Array In Python?"
   ]
  },
  {
   "cell_type": "code",
   "execution_count": 22,
   "id": "4f0efe1b",
   "metadata": {},
   "outputs": [],
   "source": [
    "e=np.array([])"
   ]
  },
  {
   "cell_type": "code",
   "execution_count": 23,
   "id": "a2f1a4bb",
   "metadata": {},
   "outputs": [
    {
     "data": {
      "text/plain": [
       "array([], dtype=float64)"
      ]
     },
     "execution_count": 23,
     "metadata": {},
     "output_type": "execute_result"
    }
   ],
   "source": [
    "e"
   ]
  },
  {
   "cell_type": "code",
   "execution_count": 24,
   "id": "62424798",
   "metadata": {},
   "outputs": [],
   "source": [
    "#10) What is the output of the below code?"
   ]
  },
  {
   "cell_type": "code",
   "execution_count": 25,
   "id": "003be05c",
   "metadata": {},
   "outputs": [
    {
     "name": "stdout",
     "output_type": "stream",
     "text": [
      "1\n",
      "2\n",
      "3\n"
     ]
    }
   ],
   "source": [
    "import array\n",
    "a = [1, 2, 3]\n",
    "print(a[-3])\n",
    "print(a[-2])\n",
    "print(a[-1])"
   ]
  },
  {
   "cell_type": "code",
   "execution_count": 26,
   "id": "9a2218ee",
   "metadata": {},
   "outputs": [],
   "source": [
    "#11) What is the output of the below program?"
   ]
  },
  {
   "cell_type": "code",
   "execution_count": 27,
   "id": "1fa19ed9",
   "metadata": {},
   "outputs": [
    {
     "name": "stdout",
     "output_type": "stream",
     "text": [
      "n\n"
     ]
    }
   ],
   "source": [
    "names = ['Chris', 'Jack', 'John', 'Daman']\n",
    "print(names[-1][-1])"
   ]
  },
  {
   "cell_type": "code",
   "execution_count": 28,
   "id": "f0e32d2e",
   "metadata": {},
   "outputs": [],
   "source": [
    "f=['sdfgsdg','ghfgh','asdads','ghjgj']"
   ]
  },
  {
   "cell_type": "code",
   "execution_count": 29,
   "id": "502404eb",
   "metadata": {},
   "outputs": [
    {
     "name": "stdout",
     "output_type": "stream",
     "text": [
      "j\n"
     ]
    }
   ],
   "source": [
    "print(f[-1][-1])"
   ]
  },
  {
   "cell_type": "code",
   "execution_count": 30,
   "id": "0c4e771e",
   "metadata": {},
   "outputs": [],
   "source": [
    "# 13) What is data type SET in Python and how to work with it?"
   ]
  },
  {
   "cell_type": "code",
   "execution_count": 31,
   "id": "05601247",
   "metadata": {},
   "outputs": [],
   "source": [
    "a = {\"a\", \"b\", \"c\", \"d\", \"e\"}"
   ]
  },
  {
   "cell_type": "markdown",
   "id": "2f4eb093",
   "metadata": {},
   "source": []
  },
  {
   "cell_type": "code",
   "execution_count": 32,
   "id": "fe18dc32",
   "metadata": {},
   "outputs": [
    {
     "data": {
      "text/plain": [
       "{'a', 'b', 'c', 'd', 'e'}"
      ]
     },
     "execution_count": 32,
     "metadata": {},
     "output_type": "execute_result"
    }
   ],
   "source": [
    "a"
   ]
  },
  {
   "cell_type": "code",
   "execution_count": 33,
   "id": "a07e1861",
   "metadata": {},
   "outputs": [
    {
     "data": {
      "text/plain": [
       "5"
      ]
     },
     "execution_count": 33,
     "metadata": {},
     "output_type": "execute_result"
    }
   ],
   "source": [
    "len(a)"
   ]
  },
  {
   "cell_type": "code",
   "execution_count": 34,
   "id": "2c8bc63c",
   "metadata": {},
   "outputs": [
    {
     "name": "stdout",
     "output_type": "stream",
     "text": [
      "yes\n"
     ]
    }
   ],
   "source": [
    "if 'a' in a:\n",
    "    print(\"yes\")"
   ]
  },
  {
   "cell_type": "code",
   "execution_count": 35,
   "id": "4d367662",
   "metadata": {},
   "outputs": [],
   "source": [
    "if 'x' in a:\n",
    "    print(\"No\")"
   ]
  },
  {
   "cell_type": "code",
   "execution_count": 36,
   "id": "79826728",
   "metadata": {},
   "outputs": [
    {
     "name": "stdout",
     "output_type": "stream",
     "text": [
      "abd\n"
     ]
    }
   ],
   "source": [
    "if 'd' in a:\n",
    "    print(\"abd\")"
   ]
  },
  {
   "cell_type": "code",
   "execution_count": 37,
   "id": "d99798f5",
   "metadata": {},
   "outputs": [
    {
     "name": "stdout",
     "output_type": "stream",
     "text": [
      "{'b', 'a', 'c', 'e', 'd'}\n"
     ]
    }
   ],
   "source": [
    "if 'd' in a:\n",
    "    print(a)"
   ]
  },
  {
   "cell_type": "code",
   "execution_count": 38,
   "id": "d6a94ab5",
   "metadata": {},
   "outputs": [],
   "source": [
    "items=set()"
   ]
  },
  {
   "cell_type": "code",
   "execution_count": 39,
   "id": "5d2fd931",
   "metadata": {},
   "outputs": [],
   "source": [
    "items.add(\"x\")"
   ]
  },
  {
   "cell_type": "code",
   "execution_count": 40,
   "id": "2f757fe9",
   "metadata": {},
   "outputs": [],
   "source": [
    "items.add(\"y\")"
   ]
  },
  {
   "cell_type": "code",
   "execution_count": 41,
   "id": "ad9431b1",
   "metadata": {},
   "outputs": [],
   "source": [
    "items.add(\"z\")"
   ]
  },
  {
   "cell_type": "code",
   "execution_count": 42,
   "id": "e3499074",
   "metadata": {},
   "outputs": [
    {
     "data": {
      "text/plain": [
       "{'x', 'y', 'z'}"
      ]
     },
     "execution_count": 42,
     "metadata": {},
     "output_type": "execute_result"
    }
   ],
   "source": [
    "items"
   ]
  },
  {
   "cell_type": "code",
   "execution_count": 43,
   "id": "384c99be",
   "metadata": {},
   "outputs": [],
   "source": [
    "# 14) How do you Concatenate Strings in Python?"
   ]
  },
  {
   "cell_type": "code",
   "execution_count": 44,
   "id": "cc695e40",
   "metadata": {},
   "outputs": [
    {
     "data": {
      "text/plain": [
       "'abc'"
      ]
     },
     "execution_count": 44,
     "metadata": {},
     "output_type": "execute_result"
    }
   ],
   "source": [
    "'a'+'b'+'c'"
   ]
  },
  {
   "cell_type": "code",
   "execution_count": 45,
   "id": "71fab4f1",
   "metadata": {},
   "outputs": [
    {
     "data": {
      "text/plain": [
       "'Donetra'"
      ]
     },
     "execution_count": 45,
     "metadata": {},
     "output_type": "execute_result"
    }
   ],
   "source": [
    "'Don' + 'etr' + 'a'"
   ]
  },
  {
   "cell_type": "code",
   "execution_count": 46,
   "id": "63f54d2c",
   "metadata": {},
   "outputs": [
    {
     "name": "stdout",
     "output_type": "stream",
     "text": [
      "Donetra\n"
     ]
    }
   ],
   "source": [
    "print('Don' + 'etr' + 'a')"
   ]
  },
  {
   "cell_type": "code",
   "execution_count": 22,
   "id": "5f250439",
   "metadata": {},
   "outputs": [],
   "source": [
    "# 15) How to generate random numbers in Python?"
   ]
  },
  {
   "cell_type": "code",
   "execution_count": 50,
   "id": "0bf7a993",
   "metadata": {},
   "outputs": [],
   "source": [
    "from numpy.random import randn"
   ]
  },
  {
   "cell_type": "code",
   "execution_count": 51,
   "id": "d4e79636",
   "metadata": {},
   "outputs": [
    {
     "data": {
      "text/plain": [
       "array([-0.95276835,  1.655412  ,  2.65639372, -0.18184476])"
      ]
     },
     "execution_count": 51,
     "metadata": {},
     "output_type": "execute_result"
    }
   ],
   "source": [
    "randn(4)"
   ]
  },
  {
   "cell_type": "code",
   "execution_count": 52,
   "id": "3a4d0e98",
   "metadata": {},
   "outputs": [],
   "source": [
    "# 16) How to print the sum of the numbers starting from 1 to 100?"
   ]
  },
  {
   "cell_type": "code",
   "execution_count": 53,
   "id": "6e7dd65d",
   "metadata": {},
   "outputs": [],
   "source": [
    "a=range(0,101)"
   ]
  },
  {
   "cell_type": "code",
   "execution_count": 54,
   "id": "d22575ea",
   "metadata": {},
   "outputs": [
    {
     "data": {
      "text/plain": [
       "range(0, 101)"
      ]
     },
     "execution_count": 54,
     "metadata": {},
     "output_type": "execute_result"
    }
   ],
   "source": [
    "a"
   ]
  },
  {
   "cell_type": "code",
   "execution_count": 55,
   "id": "54d11211",
   "metadata": {},
   "outputs": [
    {
     "data": {
      "text/plain": [
       "5050"
      ]
     },
     "execution_count": 55,
     "metadata": {},
     "output_type": "execute_result"
    }
   ],
   "source": [
    "sum(a)"
   ]
  },
  {
   "cell_type": "code",
   "execution_count": 56,
   "id": "ba2d8554",
   "metadata": {},
   "outputs": [],
   "source": [
    "# 18) What is the output of the program?"
   ]
  },
  {
   "cell_type": "code",
   "execution_count": 57,
   "id": "fa3787fe",
   "metadata": {},
   "outputs": [
    {
     "ename": "IndentationError",
     "evalue": "expected an indented block (198901938.py, line 10)",
     "output_type": "error",
     "traceback": [
      "\u001b[0;36m  File \u001b[0;32m\"/var/folders/bg/77tnqfd51m57vg3m6wcsh_s40000gn/T/ipykernel_13170/198901938.py\"\u001b[0;36m, line \u001b[0;32m10\u001b[0m\n\u001b[0;31m    if ls[0] == 'Alice':\u001b[0m\n\u001b[0m    ^\u001b[0m\n\u001b[0;31mIndentationError\u001b[0m\u001b[0;31m:\u001b[0m expected an indented block\n"
     ]
    }
   ],
   "source": [
    "names1 = ['Amir', 'Bear', 'Charlton', 'Daman']\n",
    "names2 = names1\n",
    "names3 = names1[:]\n",
    "\n",
    "names2[0] = 'Alice'\n",
    "names3[1] = 'Bob'\n",
    "\n",
    "sum = 0\n",
    "for ls in (names1, names2, names3):\n",
    "if ls[0] == 'Alice':\n",
    "sum += 1\n",
    "if ls[1] == 'Bob':\n",
    "sum += 10\n",
    "\n",
    "print sum"
   ]
  },
  {
   "cell_type": "code",
   "execution_count": 58,
   "id": "593919e4",
   "metadata": {},
   "outputs": [],
   "source": [
    "# 19) What is the output, Suppose list1 is [1, 3, 2], What is list1 * 2?"
   ]
  },
  {
   "cell_type": "code",
   "execution_count": 59,
   "id": "18007975",
   "metadata": {},
   "outputs": [],
   "source": [
    "list1=[1,3,2]"
   ]
  },
  {
   "cell_type": "code",
   "execution_count": 60,
   "id": "1f2f9c3e",
   "metadata": {},
   "outputs": [
    {
     "data": {
      "text/plain": [
       "[1, 3, 2, 1, 3, 2]"
      ]
     },
     "execution_count": 60,
     "metadata": {},
     "output_type": "execute_result"
    }
   ],
   "source": [
    "list1*2"
   ]
  },
  {
   "cell_type": "code",
   "execution_count": 61,
   "id": "98fe066c",
   "metadata": {},
   "outputs": [],
   "source": [
    "# 20) What is the output when we execute list(“hello”)?"
   ]
  },
  {
   "cell_type": "code",
   "execution_count": 62,
   "id": "62022d82",
   "metadata": {},
   "outputs": [],
   "source": [
    "b=list(\"hello\")"
   ]
  },
  {
   "cell_type": "code",
   "execution_count": 63,
   "id": "6f63ef0a",
   "metadata": {},
   "outputs": [
    {
     "data": {
      "text/plain": [
       "['h', 'e', 'l', 'l', 'o']"
      ]
     },
     "execution_count": 63,
     "metadata": {},
     "output_type": "execute_result"
    }
   ],
   "source": [
    "b"
   ]
  },
  {
   "cell_type": "code",
   "execution_count": 64,
   "id": "adfcb811",
   "metadata": {},
   "outputs": [],
   "source": [
    "#21) Can you write a program to find the average of numbers in a list in Python?"
   ]
  },
  {
   "cell_type": "code",
   "execution_count": 65,
   "id": "26a52519",
   "metadata": {},
   "outputs": [
    {
     "name": "stdout",
     "output_type": "stream",
     "text": [
      "Enter the number of elements to be inserted: 3\n",
      "Enter elemnet: 23\n",
      "Average of elements in the list is  7.666666666666667\n",
      "Enter elemnet: 21\n",
      "Average of elements in the list is  14.666666666666666\n",
      "Enter elemnet: 11\n",
      "Average of elements in the list is  18.333333333333332\n"
     ]
    }
   ],
   "source": [
    "a=[]\n",
    "n=int(input(\"Enter the number of elements to be inserted: \"))\n",
    "for i in range(0,n):\n",
    "    b=int(input(\"Enter elemnet: \"))\n",
    "    a.append(b)\n",
    "    avg=sum(a)/n\n",
    "    print(\"Average of elements in the list is \",avg)"
   ]
  },
  {
   "cell_type": "code",
   "execution_count": null,
   "id": "6c17f86e",
   "metadata": {},
   "outputs": [],
   "source": [
    "a=[]\n",
    "n=int(input(\"Enter the number of elements to be inserted: \"))\n",
    "for i in range(0,n):\n",
    "    b=int(input(\"Enter elemnet: \"))\n",
    "    a.append(b)\n",
    "    avg=sum(a)/n\n",
    "    print(\"Average of elements in the list is \", round(avg,2))"
   ]
  },
  {
   "cell_type": "code",
   "execution_count": null,
   "id": "d90c1299",
   "metadata": {},
   "outputs": [],
   "source": [
    "# 22) Write a program to reverse a number in Python?"
   ]
  },
  {
   "cell_type": "code",
   "execution_count": 66,
   "id": "e0a3461c",
   "metadata": {},
   "outputs": [
    {
     "name": "stdout",
     "output_type": "stream",
     "text": [
      "Enter the integer number: 12345\n",
      "The reverse number is : 5\n"
     ]
    }
   ],
   "source": [
    "a = int(input(\"Enter the integer number: \"))  \n",
    "b = 0   \n",
    "while (a > 0):  \n",
    "    r = a % 10  \n",
    "    b = (b * 10) + r  \n",
    "    a = b // 10  \n",
    "  \n",
    "# Display the result  \n",
    "print(\"The reverse number is : {}\".format(b))  "
   ]
  },
  {
   "cell_type": "code",
   "execution_count": 67,
   "id": "1cfeb6d3",
   "metadata": {},
   "outputs": [
    {
     "name": "stdout",
     "output_type": "stream",
     "text": [
      "2654\n"
     ]
    }
   ],
   "source": [
    "n = 4562\n",
    "rev = 0\n",
    "\n",
    "while(n > 0):\n",
    "\ta = n % 10\n",
    "\trev = rev * 10 + a\n",
    "\tn = n // 10\n",
    "\n",
    "print(rev)\n"
   ]
  },
  {
   "cell_type": "code",
   "execution_count": 69,
   "id": "ca31cd88",
   "metadata": {},
   "outputs": [
    {
     "name": "stdout",
     "output_type": "stream",
     "text": [
      "Enter the integer number: 45\n",
      "54\n"
     ]
    }
   ],
   "source": [
    "b = int(input(\"Enter the integer number: \"))  \n",
    "rev = 0\n",
    "\n",
    "while(b > 0):\n",
    "\ta = b % 10\n",
    "\trev = rev * 10 + a\n",
    "\tb = b // 10\n",
    "\n",
    "print(rev)\n"
   ]
  },
  {
   "cell_type": "code",
   "execution_count": 70,
   "id": "3ebf25da",
   "metadata": {},
   "outputs": [],
   "source": [
    "# 23) Write a program to find the sum of the digits of a number in Python?"
   ]
  },
  {
   "cell_type": "code",
   "execution_count": 84,
   "id": "c29ae3b0",
   "metadata": {},
   "outputs": [],
   "source": [
    "def SumOD(n):\n",
    "    sum = 0\n",
    "    for digit in str(n):\n",
    "        sum += int(digit)\n",
    "    return SumOD"
   ]
  },
  {
   "cell_type": "code",
   "execution_count": 85,
   "id": "38099809",
   "metadata": {},
   "outputs": [],
   "source": [
    "n=234"
   ]
  },
  {
   "cell_type": "code",
   "execution_count": 86,
   "id": "5b5f54e3",
   "metadata": {},
   "outputs": [
    {
     "data": {
      "text/plain": [
       "<function __main__.SumOD(n)>"
      ]
     },
     "execution_count": 86,
     "metadata": {},
     "output_type": "execute_result"
    }
   ],
   "source": [
    "SumOD"
   ]
  },
  {
   "cell_type": "code",
   "execution_count": 89,
   "id": "23f1d66e",
   "metadata": {},
   "outputs": [],
   "source": [
    "def getSum(n):\n",
    "\tsum = 0\n",
    "\tfor i in n:\n",
    "\t\tsum = sum + int(i)\n",
    "\treturn sum"
   ]
  },
  {
   "cell_type": "code",
   "execution_count": 90,
   "id": "23fa595a",
   "metadata": {},
   "outputs": [
    {
     "name": "stdout",
     "output_type": "stream",
     "text": [
      "104\n"
     ]
    }
   ],
   "source": [
    "n = \"123456789123456789123422\"\n",
    "print(getSum(n))"
   ]
  },
  {
   "cell_type": "code",
   "execution_count": 103,
   "id": "edce9e59",
   "metadata": {},
   "outputs": [],
   "source": [
    "# 25) Write a Python Program to Count the Number of Digits in a Number?"
   ]
  },
  {
   "cell_type": "code",
   "execution_count": 105,
   "id": "56757124",
   "metadata": {},
   "outputs": [],
   "source": [
    "a=87878797"
   ]
  },
  {
   "cell_type": "code",
   "execution_count": 111,
   "id": "f057bed9",
   "metadata": {},
   "outputs": [],
   "source": [
    "b=str(a)"
   ]
  },
  {
   "cell_type": "code",
   "execution_count": 113,
   "id": "5fb76bb8",
   "metadata": {},
   "outputs": [
    {
     "data": {
      "text/plain": [
       "8"
      ]
     },
     "execution_count": 113,
     "metadata": {},
     "output_type": "execute_result"
    }
   ],
   "source": [
    "len(b)"
   ]
  },
  {
   "cell_type": "code",
   "execution_count": 117,
   "id": "0ab6aeef",
   "metadata": {},
   "outputs": [
    {
     "name": "stdout",
     "output_type": "stream",
     "text": [
      "Please Enter any Number: 5432\n",
      "Number of digits are: 4\n"
     ]
    }
   ],
   "source": [
    "a = int(input(\"Please Enter any Number: \"))\n",
    "def count_digits(a):\n",
    "\tn = str(a)\n",
    "\treturn len(n)\n",
    "print(\"Number of digits are:\", count_digits(a))"
   ]
  },
  {
   "cell_type": "code",
   "execution_count": 96,
   "id": "4350b8ae",
   "metadata": {},
   "outputs": [
    {
     "name": "stdout",
     "output_type": "stream",
     "text": [
      "Please Enter any Number: 345\n",
      "\n",
      " Number of Digits in a Given Number = 3\n"
     ]
    }
   ],
   "source": [
    "a = int(input(\"Please Enter any Number: \"))\n",
    "Count = 0\n",
    "while(a > 0):\n",
    "    a = a // 10\n",
    "    Count = Count + 1\n",
    "\n",
    "print(\"\\n Number of Digits in a Given Number = %d\" %Count)"
   ]
  },
  {
   "cell_type": "code",
   "execution_count": 99,
   "id": "f155bcca",
   "metadata": {},
   "outputs": [],
   "source": [
    "def countDigit(n):\n",
    "\tif n/10 == 0:\n",
    "\t\treturn 1\n",
    "\treturn 1 + countDigit(n // 10)"
   ]
  },
  {
   "cell_type": "code",
   "execution_count": 100,
   "id": "16972441",
   "metadata": {},
   "outputs": [
    {
     "name": "stdout",
     "output_type": "stream",
     "text": [
      "Number of digits :  10\n"
     ]
    }
   ],
   "source": [
    "n = 345289467\n",
    "print(\"Number of digits : % d\" % (countDigit(n)))"
   ]
  },
  {
   "cell_type": "code",
   "execution_count": 101,
   "id": "9f5c1fae",
   "metadata": {},
   "outputs": [],
   "source": [
    "def count_digits(n):\n",
    "\tn = str(n)\n",
    "\treturn len(n)"
   ]
  },
  {
   "cell_type": "code",
   "execution_count": 102,
   "id": "0295490f",
   "metadata": {},
   "outputs": [
    {
     "name": "stdout",
     "output_type": "stream",
     "text": [
      "12\n"
     ]
    }
   ],
   "source": [
    "n = 456533457776\n",
    "print(count_digits(n))"
   ]
  },
  {
   "cell_type": "code",
   "execution_count": 118,
   "id": "1788d7d8",
   "metadata": {},
   "outputs": [],
   "source": [
    "# 26) Write a Python Program to Print Table of a Given Number?"
   ]
  },
  {
   "cell_type": "code",
   "execution_count": 120,
   "id": "804477b2",
   "metadata": {},
   "outputs": [
    {
     "name": "stdout",
     "output_type": "stream",
     "text": [
      "Enter the number to print the tables for:5\n",
      "5 x 1 = 5\n",
      "5 x 2 = 10\n",
      "5 x 3 = 15\n",
      "5 x 4 = 20\n",
      "5 x 5 = 25\n",
      "5 x 6 = 30\n",
      "5 x 7 = 35\n",
      "5 x 8 = 40\n",
      "5 x 9 = 45\n",
      "5 x 10 = 50\n"
     ]
    }
   ],
   "source": [
    "n=int(input(\"Enter the number to print the tables for:\"))\n",
    "for i in range(1,11):\n",
    "    print(n,\"x\",i,\"=\",n*i)"
   ]
  },
  {
   "cell_type": "code",
   "execution_count": 121,
   "id": "780932be",
   "metadata": {},
   "outputs": [],
   "source": [
    "# 27) Write a Python Program to Check if a Number is a Prime Number?"
   ]
  },
  {
   "cell_type": "code",
   "execution_count": 127,
   "id": "9cb5b8c8",
   "metadata": {},
   "outputs": [
    {
     "name": "stdout",
     "output_type": "stream",
     "text": [
      "144 is not a prime number\n"
     ]
    }
   ],
   "source": [
    "num = 144\n",
    "if num > 1:\n",
    "    for i in range(2, int(num/2)+1):\n",
    "        if (num % i) == 0:\n",
    "            print(num, \"is not a prime number\")\n",
    "            break\n",
    "    else:\n",
    "            print(num, \"is a prime number\")\n",
    "\n",
    "else:\n",
    "    print(num, \"is not a prime number\")\n"
   ]
  },
  {
   "cell_type": "code",
   "execution_count": 123,
   "id": "f3b81729",
   "metadata": {},
   "outputs": [
    {
     "name": "stdout",
     "output_type": "stream",
     "text": [
      "Enter the number to print the tables for:6\n",
      "6 Is not prime\n"
     ]
    }
   ],
   "source": [
    "n=int(input(\"Enter the number to print the tables for:\"))\n",
    "if n>1:\n",
    "    for i in range(2,int(2/2)+1):\n",
    "        if (num%i)==0:\n",
    "            print(n,\"Is not prime\")\n",
    "            break\n",
    "        else:\n",
    "            print(n,\"Is prime\")\n",
    "    else:\n",
    "        print(n,'Is not prime')"
   ]
  },
  {
   "cell_type": "code",
   "execution_count": 128,
   "id": "5f6ee18a",
   "metadata": {},
   "outputs": [],
   "source": [
    "# 35) Write a Python Program to Check Common Letters in Two Input Strings?"
   ]
  },
  {
   "cell_type": "code",
   "execution_count": 130,
   "id": "47cc140e",
   "metadata": {},
   "outputs": [],
   "source": [
    "a=(\"The jh ois oowejfk\")\n",
    "b=('pj hwgedig akshd ljeqd')"
   ]
  },
  {
   "cell_type": "code",
   "execution_count": 144,
   "id": "0b6adae9",
   "metadata": {},
   "outputs": [
    {
     "name": "stdout",
     "output_type": "stream",
     "text": [
      "Common character are: h e   j h   i s   w e j k\n"
     ]
    }
   ],
   "source": [
    "result=[] \n",
    "if(len(a)<len(b)): \n",
    "\tfor i in a: \n",
    "\t\tif(i in b): \n",
    "\t\t\tresult.append(i) \n",
    "else: \n",
    "\tfor i in b: \n",
    "\t\tif(i in a): \n",
    "\t\t\tresult.append(i) \n",
    "print(\"Common character are:\",*result) "
   ]
  },
  {
   "cell_type": "code",
   "execution_count": 147,
   "id": "302392b3",
   "metadata": {},
   "outputs": [
    {
     "name": "stdout",
     "output_type": "stream",
     "text": [
      "Enter first string:i love my india\n",
      "Enter second string:india is my country\n"
     ]
    }
   ],
   "source": [
    "s1=input(\"Enter first string:\")\n",
    "s2=input(\"Enter second string:\")"
   ]
  },
  {
   "cell_type": "code",
   "execution_count": 148,
   "id": "eebdf7ea",
   "metadata": {},
   "outputs": [
    {
     "name": "stdout",
     "output_type": "stream",
     "text": [
      "Common character are: i   o   m y   i n d i a\n"
     ]
    }
   ],
   "source": [
    "result=[] \n",
    "if(len(s1)<len(s2)): \n",
    "\tfor i in s1: \n",
    "\t\tif(i in s2): \n",
    "\t\t\tresult.append(i) \n",
    "else: \n",
    "\tfor i in s2: \n",
    "\t\tif(i in s1): \n",
    "\t\t\tresult.append(i) \n",
    "print(\"Common character are:\",*result) "
   ]
  },
  {
   "cell_type": "code",
   "execution_count": 149,
   "id": "81426cc2",
   "metadata": {},
   "outputs": [],
   "source": [
    "# 34) Write a Python Program to Count the Number of Vowels in a String?"
   ]
  },
  {
   "cell_type": "code",
   "execution_count": 4,
   "id": "ecf887eb",
   "metadata": {},
   "outputs": [],
   "source": [
    "v=['a','e','i','o','u']"
   ]
  },
  {
   "cell_type": "code",
   "execution_count": 9,
   "id": "ac195ae7",
   "metadata": {},
   "outputs": [
    {
     "name": "stdout",
     "output_type": "stream",
     "text": [
      "a\n",
      "e\n",
      "i\n",
      "o\n",
      "u\n"
     ]
    }
   ],
   "source": [
    "for i in v:\n",
    "    print(i)"
   ]
  },
  {
   "cell_type": "code",
   "execution_count": 10,
   "id": "ac421dcd",
   "metadata": {},
   "outputs": [],
   "source": [
    "a=set(v)"
   ]
  },
  {
   "cell_type": "code",
   "execution_count": 8,
   "id": "01055227",
   "metadata": {},
   "outputs": [],
   "source": [
    "def vowel_count(str):\n",
    "\tcount = 0\n",
    "\tvowel = set(\"aeiouAEIOU\")\n",
    "\tfor alphabet in str:\n",
    "\t\tif alphabet in vowel:\n",
    "\t\t\tcount = count + 1\n",
    "\tprint(\"No. of vowels :\", count)"
   ]
  },
  {
   "cell_type": "code",
   "execution_count": 13,
   "id": "de81f461",
   "metadata": {},
   "outputs": [
    {
     "name": "stdout",
     "output_type": "stream",
     "text": [
      "No. of vowels : 5\n"
     ]
    }
   ],
   "source": [
    "str = \"i love my country\"\n",
    "vowel_count(str)"
   ]
  },
  {
   "cell_type": "code",
   "execution_count": 26,
   "id": "5d5bb5df",
   "metadata": {},
   "outputs": [
    {
     "name": "stdout",
     "output_type": "stream",
     "text": [
      "Enter the stringjh\n"
     ]
    }
   ],
   "source": [
    "s1=input(\"Enter the string\")\n",
    "def vowel_count(str):\n",
    "    count = 0\n",
    "    for alphabet in s1:\n",
    "        if alphabet in a:\n",
    "            count = count + 1\n",
    "    print(\"No. of vowels :\", count)\n",
    "    vowel_count(str)"
   ]
  },
  {
   "cell_type": "code",
   "execution_count": 24,
   "id": "582c72a4",
   "metadata": {},
   "outputs": [
    {
     "name": "stdout",
     "output_type": "stream",
     "text": [
      "Enter string:ijjp\n",
      "Number of vowels are:\n",
      "1\n"
     ]
    }
   ],
   "source": [
    "string=input(\"Enter string:\")\n",
    "vowels=0\n",
    "for i in string:\n",
    "    if(i=='a' or i=='e' or i=='i' or i=='o' or i=='u' or i=='A' or i=='E' or i=='I' or i=='O' or i=='U'):\n",
    "        vowels=vowels+1\n",
    "        print(\"Number of vowels are:\")\n",
    "        print(vowels)"
   ]
  },
  {
   "cell_type": "code",
   "execution_count": 29,
   "id": "d3db56ef",
   "metadata": {},
   "outputs": [],
   "source": [
    "# 32) Write a Python Program to Swap the First and Last Value of a List?"
   ]
  },
  {
   "cell_type": "code",
   "execution_count": 33,
   "id": "73b8439c",
   "metadata": {},
   "outputs": [],
   "source": [
    "def swap(List):\n",
    "    size = len(List)\n",
    "    temp = List[0]\n",
    "    List[0] = List[size - 1]\n",
    "    List[size - 1] = temp\n",
    "    return List    "
   ]
  },
  {
   "cell_type": "code",
   "execution_count": 34,
   "id": "e8d30c77",
   "metadata": {},
   "outputs": [
    {
     "name": "stdout",
     "output_type": "stream",
     "text": [
      "[6, 2, 3, 4, 5, 1]\n"
     ]
    }
   ],
   "source": [
    "List = [1,2,3,4,5,6]\n",
    "print(swap(List))"
   ]
  },
  {
   "cell_type": "code",
   "execution_count": 36,
   "id": "56605cd1",
   "metadata": {},
   "outputs": [],
   "source": [
    "# 31) Write a Python Program to Find the Second Largest Number in a List?"
   ]
  },
  {
   "cell_type": "code",
   "execution_count": 15,
   "id": "ebcb675e",
   "metadata": {},
   "outputs": [],
   "source": [
    "a=[18,33,66,11,33,99,]"
   ]
  },
  {
   "cell_type": "code",
   "execution_count": 16,
   "id": "e096f92d",
   "metadata": {},
   "outputs": [],
   "source": [
    "a.sort()"
   ]
  },
  {
   "cell_type": "code",
   "execution_count": 18,
   "id": "2dfe83cb",
   "metadata": {},
   "outputs": [
    {
     "data": {
      "text/plain": [
       "[11, 18, 33, 33, 66, 99]"
      ]
     },
     "execution_count": 18,
     "metadata": {},
     "output_type": "execute_result"
    }
   ],
   "source": [
    "a"
   ]
  },
  {
   "cell_type": "code",
   "execution_count": 19,
   "id": "d4c416d6",
   "metadata": {},
   "outputs": [
    {
     "name": "stdout",
     "output_type": "stream",
     "text": [
      "Second largest element is: 66\n"
     ]
    }
   ],
   "source": [
    "print(\"Second largest element is:\", a[-2])"
   ]
  },
  {
   "cell_type": "code",
   "execution_count": 20,
   "id": "c93ead1e",
   "metadata": {},
   "outputs": [
    {
     "name": "stdout",
     "output_type": "stream",
     "text": [
      "Second largest element is: 45\n"
     ]
    }
   ],
   "source": [
    "a = [10, 20, 4, 45, 99]\n",
    "a.sort()\n",
    "print(\"Second largest element is:\", a[-2])"
   ]
  },
  {
   "cell_type": "code",
   "execution_count": null,
   "id": "527209bc",
   "metadata": {},
   "outputs": [],
   "source": [
    "# 30) Write a Python Program to Check if a Number is a Strong Number?"
   ]
  },
  {
   "cell_type": "code",
   "execution_count": 26,
   "id": "99c67878",
   "metadata": {},
   "outputs": [],
   "source": [
    "def factorial(number):\n",
    "\tif(number == 0 or number == 1):\n",
    "\t\tfact = 1\n",
    "\telse:\n",
    "\t\tfact = number * factorial(number - 1)\n",
    "\treturn fact"
   ]
  },
  {
   "cell_type": "code",
   "execution_count": null,
   "id": "f6d01618",
   "metadata": {},
   "outputs": [],
   "source": [
    "def strong_number(list):\n",
    "\tnew_list =[]\n",
    "\n",
    "\tfor x in list:\n",
    "\t\ttemp = x\n",
    "\t\tsum = 0\n",
    "\t\twhile(temp):\n",
    "\t\t\trem = temp % 10\n",
    "\t\t\tsum += factorial(rem)\n",
    "\t\t\ttemp = temp // 10\n",
    "\t\tif(sum == x):\n",
    "\t\t\tnew_list.append(x)\n",
    "\t\telse:\n",
    "\t\t\tpass\n",
    "\t\t\t\n",
    "\treturn new_list"
   ]
  },
  {
   "cell_type": "code",
   "execution_count": 27,
   "id": "ea15d076",
   "metadata": {},
   "outputs": [
    {
     "name": "stdout",
     "output_type": "stream",
     "text": [
      "[1, 2, 145]\n"
     ]
    }
   ],
   "source": [
    "list1 = [1, 2, 5, 145, 654, 34]\n",
    "strong_num_list = strong_number(list1)\n",
    "print(strong_num_list)"
   ]
  },
  {
   "cell_type": "code",
   "execution_count": null,
   "id": "17ac1481",
   "metadata": {},
   "outputs": [],
   "source": [
    "# 5) How to convert a list into a set?"
   ]
  },
  {
   "cell_type": "code",
   "execution_count": 21,
   "id": "c94700c5",
   "metadata": {},
   "outputs": [
    {
     "name": "stdout",
     "output_type": "stream",
     "text": [
      "('sd', 'sd', 'ee', 'ee', 'aa')\n"
     ]
    }
   ],
   "source": [
    "a = ['sd','sd','ee','ee','aa']\n",
    "listAsTuple= tuple(a)\n",
    "print(listAsTuple)"
   ]
  }
 ],
 "metadata": {
  "kernelspec": {
   "display_name": "Python 3 (ipykernel)",
   "language": "python",
   "name": "python3"
  },
  "language_info": {
   "codemirror_mode": {
    "name": "ipython",
    "version": 3
   },
   "file_extension": ".py",
   "mimetype": "text/x-python",
   "name": "python",
   "nbconvert_exporter": "python",
   "pygments_lexer": "ipython3",
   "version": "3.9.7"
  }
 },
 "nbformat": 4,
 "nbformat_minor": 5
}

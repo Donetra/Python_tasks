{
 "cells": [
  {
   "cell_type": "code",
   "execution_count": 1,
   "id": "45e7e18e",
   "metadata": {},
   "outputs": [
    {
     "data": {
      "text/plain": [
       "[1, 3, 5, 7, 9]"
      ]
     },
     "execution_count": 1,
     "metadata": {},
     "output_type": "execute_result"
    }
   ],
   "source": [
    "# 1. Filter even values out of a list with list comprehension\n",
    "\n",
    "l1 = [1,2,3,4,5,6,7,8,9,10]\n",
    "[i for i in l1 if i%2!=0]"
   ]
  },
  {
   "cell_type": "code",
   "execution_count": 2,
   "id": "856727a8",
   "metadata": {},
   "outputs": [
    {
     "name": "stdout",
     "output_type": "stream",
     "text": [
      "1\n",
      "3\n",
      "5\n",
      "7\n",
      "9\n"
     ]
    }
   ],
   "source": [
    "for i in l12:\n",
    "    if i%2!=0:\n",
    "        print(i)"
   ]
  },
  {
   "cell_type": "code",
   "execution_count": 3,
   "id": "b0410356",
   "metadata": {},
   "outputs": [],
   "source": [
    "# 2. Count occurrences of each value in a list\n",
    "from collections import Counter\n",
    "l2 = ['a','a','a','a','b','b','b',1,2,3,4,1,2,3,4,2,1,2,3,4]"
   ]
  },
  {
   "cell_type": "code",
   "execution_count": 2,
   "id": "a36baab7",
   "metadata": {},
   "outputs": [
    {
     "data": {
      "text/plain": [
       "Counter({'a': 4, 'b': 3, 1: 3, 2: 4, 3: 3, 4: 3})"
      ]
     },
     "execution_count": 2,
     "metadata": {},
     "output_type": "execute_result"
    }
   ],
   "source": [
    "Counter(l2)"
   ]
  },
  {
   "cell_type": "code",
   "execution_count": 6,
   "id": "1ffdebe2",
   "metadata": {},
   "outputs": [
    {
     "name": "stdout",
     "output_type": "stream",
     "text": [
      "a\n",
      "b\n",
      "c\n",
      "d\n",
      "e\n"
     ]
    }
   ],
   "source": [
    "# 3. Combine elements in a list into a single string.\n",
    "l3=['a','b','c','d','e']\n",
    "for i in l3:\n",
    "    print(i)"
   ]
  },
  {
   "cell_type": "code",
   "execution_count": 10,
   "id": "844d61e2",
   "metadata": {},
   "outputs": [
    {
     "data": {
      "text/plain": [
       "{'e': 5}"
      ]
     },
     "execution_count": 10,
     "metadata": {},
     "output_type": "execute_result"
    }
   ],
   "source": [
    "# 4. Combine 2 lists into a dictionary\n",
    "\n",
    "l1 = ['a','b','c','d','e']\n",
    "l2 = [1,2,3,4,5]\n",
    "for x in l1:\n",
    "    for y in l2:\n",
    "        d1={x:y}\n",
    "d1"
   ]
  },
  {
   "cell_type": "code",
   "execution_count": 14,
   "id": "50dfcd8b",
   "metadata": {},
   "outputs": [
    {
     "data": {
      "text/plain": [
       "{'a': 5, 'b': 5, 'c': 5, 'd': 5, 'e': 5}"
      ]
     },
     "execution_count": 14,
     "metadata": {},
     "output_type": "execute_result"
    }
   ],
   "source": [
    "d2={x:y for x in l1 for y in l2}\n",
    "d2"
   ]
  },
  {
   "cell_type": "code",
   "execution_count": 8,
   "id": "7ffeab7a",
   "metadata": {},
   "outputs": [
    {
     "data": {
      "text/plain": [
       "{'a': 1, 'b': 2, 'c': 3, 'd': 4, 'e': 5}"
      ]
     },
     "execution_count": 8,
     "metadata": {},
     "output_type": "execute_result"
    }
   ],
   "source": [
    "dict(zip(l1,l2))                                          #correct method"
   ]
  },
  {
   "cell_type": "code",
   "execution_count": 15,
   "id": "d5da7e9f",
   "metadata": {},
   "outputs": [
    {
     "ename": "SyntaxError",
     "evalue": "invalid syntax (2431640969.py, line 5)",
     "output_type": "error",
     "traceback": [
      "\u001b[0;36m  File \u001b[0;32m\"/var/folders/bg/77tnqfd51m57vg3m6wcsh_s40000gn/T/ipykernel_27136/2431640969.py\"\u001b[0;36m, line \u001b[0;32m5\u001b[0m\n\u001b[0;31m    for\u001b[0m\n\u001b[0m        ^\u001b[0m\n\u001b[0;31mSyntaxError\u001b[0m\u001b[0;31m:\u001b[0m invalid syntax\n"
     ]
    }
   ],
   "source": [
    "# 5. Write a Python program to change the position of every n-th value with the (n+1)th in a list.\n",
    "\n",
    "l1=[1,2,3,4,5,6,7]\n",
    "l2=[]\n",
    "for "
   ]
  },
  {
   "cell_type": "code",
   "execution_count": 17,
   "id": "5edaddd8",
   "metadata": {},
   "outputs": [
    {
     "data": {
      "text/plain": [
       "12345"
      ]
     },
     "execution_count": 17,
     "metadata": {},
     "output_type": "execute_result"
    }
   ],
   "source": [
    "# 6. Write a Python program to convert a list of multiple integers into a single integer.\n",
    "l1=[1,2,3,4,5]\n",
    "x = int(\"\".join(map(str, l1)))\n",
    "x"
   ]
  },
  {
   "cell_type": "code",
   "execution_count": 18,
   "id": "aafc54a4",
   "metadata": {},
   "outputs": [
    {
     "data": {
      "text/plain": [
       "[1, 3, 5]"
      ]
     },
     "execution_count": 18,
     "metadata": {},
     "output_type": "execute_result"
    }
   ],
   "source": [
    "# 7. Write a Python program to select the odd items of a list.\n",
    "l1=[1,2,3,4,5,6]\n",
    "l1[::2]"
   ]
  },
  {
   "cell_type": "code",
   "execution_count": 19,
   "id": "bd6f6e48",
   "metadata": {},
   "outputs": [
    {
     "name": "stdout",
     "output_type": "stream",
     "text": [
      "1 a\n",
      "1 s\n",
      "1 d\n",
      "1 f\n",
      "1 g\n"
     ]
    }
   ],
   "source": [
    "# 8. Write a Python program to insert an element before each element of a list\n",
    "l1=['a','s','d','f','g']\n",
    "for i in l1:\n",
    "    print('1',i)"
   ]
  },
  {
   "cell_type": "code",
   "execution_count": 24,
   "id": "858f2579",
   "metadata": {},
   "outputs": [
    {
     "data": {
      "text/plain": [
       "['s', 'a', 's', 's', 's', 'd', 's', 'f', 's', 'g']"
      ]
     },
     "execution_count": 24,
     "metadata": {},
     "output_type": "execute_result"
    }
   ],
   "source": [
    "l2=[i for i in l1 for i in ('s',i)]\n",
    "l2"
   ]
  },
  {
   "cell_type": "code",
   "execution_count": 27,
   "id": "b4bea347",
   "metadata": {},
   "outputs": [
    {
     "name": "stdout",
     "output_type": "stream",
     "text": [
      "red\n",
      "orange\n",
      "white\n"
     ]
    }
   ],
   "source": [
    "# 9. Write a Python program to compute the difference between two lists. Go to the editor\n",
    "\n",
    "l1= [\"red\", \"orange\", \"green\", \"blue\", \"white\"]\n",
    "l2= [\"black\", \"yellow\", \"green\", \"blue\"]\n",
    "for x in l1:\n",
    "    if x not in l2:\n",
    "        print(x)"
   ]
  },
  {
   "cell_type": "code",
   "execution_count": 32,
   "id": "658db32f",
   "metadata": {},
   "outputs": [
    {
     "name": "stdout",
     "output_type": "stream",
     "text": [
      "[1, 2, 3, 4, 5, [6, 7, 8, 9]]\n"
     ]
    }
   ],
   "source": [
    "# 10. Write a Python program to replace the last element in a list with another list. \n",
    "\n",
    "l1=[1,2,3,4,5,[23]]\n",
    "l2=[6,7,8,9]\n",
    "for l1[-1] in l1:\n",
    "    l1[-1]=l2\n",
    "print(l1)"
   ]
  },
  {
   "cell_type": "code",
   "execution_count": null,
   "id": "a389d0b9",
   "metadata": {},
   "outputs": [],
   "source": []
  },
  {
   "cell_type": "code",
   "execution_count": null,
   "id": "fe4a853a",
   "metadata": {},
   "outputs": [],
   "source": []
  },
  {
   "cell_type": "code",
   "execution_count": null,
   "id": "4407d454",
   "metadata": {},
   "outputs": [],
   "source": []
  },
  {
   "cell_type": "code",
   "execution_count": null,
   "id": "2908ae78",
   "metadata": {},
   "outputs": [],
   "source": []
  },
  {
   "cell_type": "code",
   "execution_count": null,
   "id": "17797555",
   "metadata": {},
   "outputs": [],
   "source": []
  }
 ],
 "metadata": {
  "kernelspec": {
   "display_name": "Python 3 (ipykernel)",
   "language": "python",
   "name": "python3"
  },
  "language_info": {
   "codemirror_mode": {
    "name": "ipython",
    "version": 3
   },
   "file_extension": ".py",
   "mimetype": "text/x-python",
   "name": "python",
   "nbconvert_exporter": "python",
   "pygments_lexer": "ipython3",
   "version": "3.9.7"
  }
 },
 "nbformat": 4,
 "nbformat_minor": 5
}

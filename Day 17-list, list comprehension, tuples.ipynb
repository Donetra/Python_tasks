{
 "cells": [
  {
   "cell_type": "code",
   "execution_count": 1,
   "id": "25fb526c",
   "metadata": {},
   "outputs": [],
   "source": [
    "import numpy as np\n",
    "import pandas as pd\n",
    "from pandas import Series,DataFrame\n",
    "from numpy.random import randn"
   ]
  },
  {
   "cell_type": "markdown",
   "id": "486fff0e",
   "metadata": {},
   "source": [
    "# List"
   ]
  },
  {
   "cell_type": "code",
   "execution_count": 2,
   "id": "b90a49b4",
   "metadata": {},
   "outputs": [],
   "source": [
    "a=['apple','apple','cherry','banana','cherry']         #..........allows duplicate"
   ]
  },
  {
   "cell_type": "code",
   "execution_count": 3,
   "id": "e104d04b",
   "metadata": {},
   "outputs": [],
   "source": [
    "b=[1,2,3,'abc','bcd','cde','TRUE',\"FALSE\"]"
   ]
  },
  {
   "cell_type": "code",
   "execution_count": 4,
   "id": "d43fc8c5",
   "metadata": {},
   "outputs": [],
   "source": [
    "#list itsself is a datatype"
   ]
  },
  {
   "cell_type": "code",
   "execution_count": 5,
   "id": "0cf8ff9f",
   "metadata": {},
   "outputs": [
    {
     "data": {
      "text/plain": [
       "list"
      ]
     },
     "execution_count": 5,
     "metadata": {},
     "output_type": "execute_result"
    }
   ],
   "source": [
    "type(b)"
   ]
  },
  {
   "cell_type": "code",
   "execution_count": 6,
   "id": "d591f045",
   "metadata": {},
   "outputs": [
    {
     "data": {
      "text/plain": [
       "list"
      ]
     },
     "execution_count": 6,
     "metadata": {},
     "output_type": "execute_result"
    }
   ],
   "source": [
    "type(a)"
   ]
  },
  {
   "cell_type": "code",
   "execution_count": 7,
   "id": "25215323",
   "metadata": {},
   "outputs": [],
   "source": [
    "c='Apple','Banana','Cheery'   #without using sq bracket, make a list"
   ]
  },
  {
   "cell_type": "code",
   "execution_count": 8,
   "id": "1cb283e3",
   "metadata": {},
   "outputs": [
    {
     "data": {
      "text/plain": [
       "('Apple', 'Banana', 'Cheery')"
      ]
     },
     "execution_count": 8,
     "metadata": {},
     "output_type": "execute_result"
    }
   ],
   "source": [
    "c                                             #...........1"
   ]
  },
  {
   "cell_type": "code",
   "execution_count": 9,
   "id": "1648218d",
   "metadata": {},
   "outputs": [
    {
     "data": {
      "text/plain": [
       "tuple"
      ]
     },
     "execution_count": 9,
     "metadata": {},
     "output_type": "execute_result"
    }
   ],
   "source": [
    "type(c)"
   ]
  },
  {
   "cell_type": "code",
   "execution_count": 10,
   "id": "7127feef",
   "metadata": {},
   "outputs": [
    {
     "ename": "NameError",
     "evalue": "name 'd' is not defined",
     "output_type": "error",
     "traceback": [
      "\u001b[0;31m---------------------------------------------------------------------------\u001b[0m",
      "\u001b[0;31mNameError\u001b[0m                                 Traceback (most recent call last)",
      "\u001b[0;32m/var/folders/bg/77tnqfd51m57vg3m6wcsh_s40000gn/T/ipykernel_24630/2893276672.py\u001b[0m in \u001b[0;36m<module>\u001b[0;34m\u001b[0m\n\u001b[1;32m      1\u001b[0m \u001b[0ma\u001b[0m\u001b[0;34m=\u001b[0m\u001b[0mlist\u001b[0m\u001b[0;34m(\u001b[0m\u001b[0mc\u001b[0m\u001b[0;34m)\u001b[0m\u001b[0;34m\u001b[0m\u001b[0;34m\u001b[0m\u001b[0m\n\u001b[0;32m----> 2\u001b[0;31m \u001b[0md\u001b[0m\u001b[0;34m\u001b[0m\u001b[0;34m\u001b[0m\u001b[0m\n\u001b[0m",
      "\u001b[0;31mNameError\u001b[0m: name 'd' is not defined"
     ]
    }
   ],
   "source": [
    "a=list(c)\n",
    "d"
   ]
  },
  {
   "cell_type": "code",
   "execution_count": null,
   "id": "6d440621",
   "metadata": {},
   "outputs": [],
   "source": [
    "type(a)"
   ]
  },
  {
   "cell_type": "code",
   "execution_count": null,
   "id": "b874487e",
   "metadata": {},
   "outputs": [],
   "source": [
    "e=list(('Apple','Banana','Cheery'))           #............2\n",
    "e                                      "
   ]
  },
  {
   "cell_type": "code",
   "execution_count": null,
   "id": "814bda0a",
   "metadata": {},
   "outputs": [],
   "source": [
    "e[1]"
   ]
  },
  {
   "cell_type": "code",
   "execution_count": null,
   "id": "994f555e",
   "metadata": {},
   "outputs": [],
   "source": [
    "x=['Apple','Banana','Cheery','Mango','Strawberry','Papaya','Grapes']"
   ]
  },
  {
   "cell_type": "code",
   "execution_count": null,
   "id": "2795166a",
   "metadata": {},
   "outputs": [],
   "source": [
    "x[1:4]"
   ]
  },
  {
   "cell_type": "code",
   "execution_count": null,
   "id": "634eda1f",
   "metadata": {},
   "outputs": [],
   "source": [
    "x[-4]"
   ]
  },
  {
   "cell_type": "code",
   "execution_count": null,
   "id": "42aab11a",
   "metadata": {},
   "outputs": [],
   "source": [
    "x[3:]"
   ]
  },
  {
   "cell_type": "code",
   "execution_count": null,
   "id": "3b96b8df",
   "metadata": {},
   "outputs": [],
   "source": [
    "x[-4:]"
   ]
  },
  {
   "cell_type": "code",
   "execution_count": null,
   "id": "3a90f8f6",
   "metadata": {},
   "outputs": [],
   "source": [
    "for i in x:\n",
    "    if i=='Apple':\n",
    "        print('Yes Apple is in list')"
   ]
  },
  {
   "cell_type": "code",
   "execution_count": null,
   "id": "7277df61",
   "metadata": {},
   "outputs": [],
   "source": [
    "y=('Orange','kivi','melon','mango')"
   ]
  },
  {
   "cell_type": "code",
   "execution_count": null,
   "id": "7564ddbd",
   "metadata": {},
   "outputs": [],
   "source": [
    "d.append(y)"
   ]
  },
  {
   "cell_type": "code",
   "execution_count": null,
   "id": "5210059d",
   "metadata": {},
   "outputs": [],
   "source": [
    "d"
   ]
  },
  {
   "cell_type": "code",
   "execution_count": null,
   "id": "27070c1b",
   "metadata": {},
   "outputs": [],
   "source": [
    "list(d)+list(y)"
   ]
  },
  {
   "cell_type": "code",
   "execution_count": null,
   "id": "5aa90c04",
   "metadata": {},
   "outputs": [],
   "source": [
    "d"
   ]
  },
  {
   "cell_type": "code",
   "execution_count": null,
   "id": "8b97c7a7",
   "metadata": {},
   "outputs": [],
   "source": [
    "d=['Apple', 'Banana', 'Cheery','Orange','kivi','melon','mango']"
   ]
  },
  {
   "cell_type": "code",
   "execution_count": null,
   "id": "c1cd4b97",
   "metadata": {},
   "outputs": [],
   "source": [
    "d"
   ]
  },
  {
   "cell_type": "code",
   "execution_count": null,
   "id": "5b3e6a46",
   "metadata": {},
   "outputs": [],
   "source": [
    "d[3:6]"
   ]
  },
  {
   "cell_type": "code",
   "execution_count": null,
   "id": "533d779e",
   "metadata": {},
   "outputs": [],
   "source": [
    "d[-4:-1]"
   ]
  },
  {
   "cell_type": "code",
   "execution_count": null,
   "id": "d4dc13b1",
   "metadata": {},
   "outputs": [],
   "source": [
    "d[1]=['BC']"
   ]
  },
  {
   "cell_type": "code",
   "execution_count": null,
   "id": "356f6114",
   "metadata": {},
   "outputs": [],
   "source": [
    "a"
   ]
  },
  {
   "cell_type": "code",
   "execution_count": null,
   "id": "7a437e02",
   "metadata": {},
   "outputs": [],
   "source": [
    "a[1]='BC , CD'"
   ]
  },
  {
   "cell_type": "code",
   "execution_count": null,
   "id": "8a3b2eae",
   "metadata": {},
   "outputs": [],
   "source": [
    "a"
   ]
  },
  {
   "cell_type": "code",
   "execution_count": null,
   "id": "9f2b76ec",
   "metadata": {},
   "outputs": [],
   "source": [
    "a[1]=['BC','CD']"
   ]
  },
  {
   "cell_type": "code",
   "execution_count": null,
   "id": "5bbf7375",
   "metadata": {},
   "outputs": [],
   "source": [
    "a"
   ]
  },
  {
   "cell_type": "code",
   "execution_count": null,
   "id": "ece37819",
   "metadata": {},
   "outputs": [],
   "source": [
    "a[1:2]=['BC','CD']                    #........correct method "
   ]
  },
  {
   "cell_type": "code",
   "execution_count": null,
   "id": "8307a1fe",
   "metadata": {},
   "outputs": [],
   "source": [
    "a"
   ]
  },
  {
   "cell_type": "code",
   "execution_count": null,
   "id": "6e478b6b",
   "metadata": {},
   "outputs": [],
   "source": [
    "b='Orange'"
   ]
  },
  {
   "cell_type": "code",
   "execution_count": null,
   "id": "4726c5aa",
   "metadata": {},
   "outputs": [],
   "source": [
    "a"
   ]
  },
  {
   "cell_type": "code",
   "execution_count": null,
   "id": "4ef088b2",
   "metadata": {},
   "outputs": [],
   "source": [
    "a.append(b)                              #if we have more than one,....we use extend"
   ]
  },
  {
   "cell_type": "code",
   "execution_count": null,
   "id": "a07e2bc5",
   "metadata": {},
   "outputs": [],
   "source": [
    "a"
   ]
  },
  {
   "cell_type": "code",
   "execution_count": 40,
   "id": "780b7c34",
   "metadata": {},
   "outputs": [
    {
     "data": {
      "text/plain": [
       "['Apple', 'Banana', 'Cherry']"
      ]
     },
     "execution_count": 40,
     "metadata": {},
     "output_type": "execute_result"
    }
   ],
   "source": [
    "h=['Apple','Banana','Cherry']\n",
    "h"
   ]
  },
  {
   "cell_type": "code",
   "execution_count": 12,
   "id": "db975d32",
   "metadata": {},
   "outputs": [],
   "source": [
    "h.insert(1,'Orange')                      #......insert function"
   ]
  },
  {
   "cell_type": "code",
   "execution_count": 13,
   "id": "9b636b12",
   "metadata": {},
   "outputs": [
    {
     "data": {
      "text/plain": [
       "['Apple', 'Orange', 'Banana', 'Cherry']"
      ]
     },
     "execution_count": 13,
     "metadata": {},
     "output_type": "execute_result"
    }
   ],
   "source": [
    "h"
   ]
  },
  {
   "cell_type": "code",
   "execution_count": 14,
   "id": "1062ca45",
   "metadata": {},
   "outputs": [],
   "source": [
    "i=['Melon','Kivi']"
   ]
  },
  {
   "cell_type": "code",
   "execution_count": 15,
   "id": "1f2d2f55",
   "metadata": {},
   "outputs": [],
   "source": [
    "h.extend(i)"
   ]
  },
  {
   "cell_type": "code",
   "execution_count": 16,
   "id": "249e7f7a",
   "metadata": {},
   "outputs": [
    {
     "data": {
      "text/plain": [
       "['Apple', 'Orange', 'Banana', 'Cherry', 'Melon', 'Kivi']"
      ]
     },
     "execution_count": 16,
     "metadata": {},
     "output_type": "execute_result"
    }
   ],
   "source": [
    "h"
   ]
  },
  {
   "cell_type": "code",
   "execution_count": 17,
   "id": "51b71d14",
   "metadata": {},
   "outputs": [
    {
     "data": {
      "text/plain": [
       "'Orange'"
      ]
     },
     "execution_count": 17,
     "metadata": {},
     "output_type": "execute_result"
    }
   ],
   "source": [
    "h.pop(1)                                 #........pop fucntion to remove"
   ]
  },
  {
   "cell_type": "code",
   "execution_count": 18,
   "id": "01fb0f0c",
   "metadata": {},
   "outputs": [
    {
     "data": {
      "text/plain": [
       "['Apple', 'Banana', 'Cherry', 'Melon', 'Kivi']"
      ]
     },
     "execution_count": 18,
     "metadata": {},
     "output_type": "execute_result"
    }
   ],
   "source": [
    "h"
   ]
  },
  {
   "cell_type": "code",
   "execution_count": 19,
   "id": "6660a8c1",
   "metadata": {},
   "outputs": [],
   "source": [
    "h.remove('Kivi')                         #........remove function to remove"
   ]
  },
  {
   "cell_type": "code",
   "execution_count": 20,
   "id": "c124e69e",
   "metadata": {},
   "outputs": [
    {
     "data": {
      "text/plain": [
       "['Apple', 'Banana', 'Cherry', 'Melon']"
      ]
     },
     "execution_count": 20,
     "metadata": {},
     "output_type": "execute_result"
    }
   ],
   "source": [
    "h"
   ]
  },
  {
   "cell_type": "code",
   "execution_count": 21,
   "id": "3814a88a",
   "metadata": {},
   "outputs": [],
   "source": [
    "h.remove('Melon')"
   ]
  },
  {
   "cell_type": "code",
   "execution_count": 22,
   "id": "f77f5468",
   "metadata": {},
   "outputs": [
    {
     "data": {
      "text/plain": [
       "['Apple', 'Banana', 'Cherry']"
      ]
     },
     "execution_count": 22,
     "metadata": {},
     "output_type": "execute_result"
    }
   ],
   "source": [
    "h"
   ]
  },
  {
   "cell_type": "code",
   "execution_count": 23,
   "id": "9f442366",
   "metadata": {},
   "outputs": [
    {
     "data": {
      "text/plain": [
       "3"
      ]
     },
     "execution_count": 23,
     "metadata": {},
     "output_type": "execute_result"
    }
   ],
   "source": [
    "len(h)"
   ]
  },
  {
   "cell_type": "code",
   "execution_count": 24,
   "id": "89fc04f5",
   "metadata": {},
   "outputs": [
    {
     "name": "stdout",
     "output_type": "stream",
     "text": [
      "Apple\n",
      "Banana\n",
      "Cherry\n"
     ]
    }
   ],
   "source": [
    "for i in range(len(h)):                #Looping to index number\n",
    "    print(h[i])"
   ]
  },
  {
   "cell_type": "code",
   "execution_count": 25,
   "id": "ec9163d6",
   "metadata": {},
   "outputs": [
    {
     "name": "stdout",
     "output_type": "stream",
     "text": [
      "0 Apple\n",
      "1 Banana\n",
      "2 Cherry\n"
     ]
    }
   ],
   "source": [
    "for i in range(len(h)):                #Looping to index number\n",
    "    print(i,h[i])"
   ]
  },
  {
   "cell_type": "code",
   "execution_count": 41,
   "id": "cb23c4da",
   "metadata": {},
   "outputs": [
    {
     "data": {
      "text/plain": [
       "['Apple', 'Banana', 'Cherry']"
      ]
     },
     "execution_count": 41,
     "metadata": {},
     "output_type": "execute_result"
    }
   ],
   "source": [
    "h"
   ]
  },
  {
   "cell_type": "code",
   "execution_count": 27,
   "id": "98a341fe",
   "metadata": {},
   "outputs": [
    {
     "name": "stdout",
     "output_type": "stream",
     "text": [
      "Apple\n",
      "Banana\n",
      "Cherry\n"
     ]
    }
   ],
   "source": [
    "i=0\n",
    "while i<(len(h)):                #Looping to index number\n",
    "    print(h[i])\n",
    "    i+=1"
   ]
  },
  {
   "cell_type": "code",
   "execution_count": 24,
   "id": "e009e687",
   "metadata": {},
   "outputs": [
    {
     "data": {
      "text/plain": [
       "['apple', 'Banana', 'Cherry']"
      ]
     },
     "execution_count": 24,
     "metadata": {},
     "output_type": "execute_result"
    }
   ],
   "source": [
    "h=['apple','Banana','Cherry']\n",
    "h"
   ]
  },
  {
   "cell_type": "markdown",
   "id": "9e531ad7",
   "metadata": {},
   "source": [
    "# List Comprehension"
   ]
  },
  {
   "cell_type": "code",
   "execution_count": 25,
   "id": "fa611082",
   "metadata": {},
   "outputs": [],
   "source": [
    "a=['Kivi','Mango']"
   ]
  },
  {
   "cell_type": "code",
   "execution_count": 26,
   "id": "381b76f6",
   "metadata": {},
   "outputs": [],
   "source": [
    "h.extend(a)"
   ]
  },
  {
   "cell_type": "code",
   "execution_count": 27,
   "id": "a87e1639",
   "metadata": {},
   "outputs": [
    {
     "data": {
      "text/plain": [
       "['apple', 'Banana', 'Cherry', 'Kivi', 'Mango']"
      ]
     },
     "execution_count": 27,
     "metadata": {},
     "output_type": "execute_result"
    }
   ],
   "source": [
    "h"
   ]
  },
  {
   "cell_type": "code",
   "execution_count": 140,
   "id": "95247f23",
   "metadata": {},
   "outputs": [],
   "source": [
    "b=[]"
   ]
  },
  {
   "cell_type": "code",
   "execution_count": 113,
   "id": "3a826c7f",
   "metadata": {},
   "outputs": [],
   "source": [
    "c=[]"
   ]
  },
  {
   "cell_type": "code",
   "execution_count": 114,
   "id": "6281c242",
   "metadata": {},
   "outputs": [],
   "source": [
    "for i in h:\n",
    "    ch = 'a'\n",
    "    if ch in i:\n",
    "        c.append(ch)"
   ]
  },
  {
   "cell_type": "code",
   "execution_count": 115,
   "id": "244101db",
   "metadata": {},
   "outputs": [
    {
     "data": {
      "text/plain": [
       "['a', 'a']"
      ]
     },
     "execution_count": 115,
     "metadata": {},
     "output_type": "execute_result"
    }
   ],
   "source": [
    "c"
   ]
  },
  {
   "cell_type": "code",
   "execution_count": 137,
   "id": "a8ff4c3c",
   "metadata": {},
   "outputs": [],
   "source": [
    "d=[]"
   ]
  },
  {
   "cell_type": "code",
   "execution_count": 138,
   "id": "91f18eba",
   "metadata": {},
   "outputs": [],
   "source": [
    "for i in h:\n",
    "    if 'a' in i:\n",
    "        d.append(i)"
   ]
  },
  {
   "cell_type": "code",
   "execution_count": 139,
   "id": "5af85cc2",
   "metadata": {},
   "outputs": [
    {
     "data": {
      "text/plain": [
       "['apple', 'Banana', 'Mango']"
      ]
     },
     "execution_count": 139,
     "metadata": {},
     "output_type": "execute_result"
    }
   ],
   "source": [
    "d"
   ]
  },
  {
   "cell_type": "code",
   "execution_count": 143,
   "id": "ab4fd0bd",
   "metadata": {},
   "outputs": [],
   "source": [
    "for i in h:\n",
    "    b.append(h)"
   ]
  },
  {
   "cell_type": "code",
   "execution_count": 144,
   "id": "526c60d7",
   "metadata": {},
   "outputs": [
    {
     "data": {
      "text/plain": [
       "[['apple', 'Banana', 'Cherry', 'Kivi', 'Mango'],\n",
       " ['apple', 'Banana', 'Cherry', 'Kivi', 'Mango'],\n",
       " ['apple', 'Banana', 'Cherry', 'Kivi', 'Mango'],\n",
       " ['apple', 'Banana', 'Cherry', 'Kivi', 'Mango'],\n",
       " ['apple', 'Banana', 'Cherry', 'Kivi', 'Mango'],\n",
       " ['apple', 'Banana', 'Cherry', 'Kivi', 'Mango'],\n",
       " ['apple', 'Banana', 'Cherry', 'Kivi', 'Mango'],\n",
       " ['apple', 'Banana', 'Cherry', 'Kivi', 'Mango'],\n",
       " ['apple', 'Banana', 'Cherry', 'Kivi', 'Mango'],\n",
       " ['apple', 'Banana', 'Cherry', 'Kivi', 'Mango'],\n",
       " ['apple', 'Banana', 'Cherry', 'Kivi', 'Mango'],\n",
       " ['apple', 'Banana', 'Cherry', 'Kivi', 'Mango'],\n",
       " ['apple', 'Banana', 'Cherry', 'Kivi', 'Mango'],\n",
       " ['apple', 'Banana', 'Cherry', 'Kivi', 'Mango'],\n",
       " ['apple', 'Banana', 'Cherry', 'Kivi', 'Mango']]"
      ]
     },
     "execution_count": 144,
     "metadata": {},
     "output_type": "execute_result"
    }
   ],
   "source": [
    "b"
   ]
  },
  {
   "cell_type": "code",
   "execution_count": 135,
   "id": "2a971d9e",
   "metadata": {},
   "outputs": [],
   "source": [
    "l=[i for i in h if 'a' in i]"
   ]
  },
  {
   "cell_type": "code",
   "execution_count": 136,
   "id": "67d4ff0f",
   "metadata": {},
   "outputs": [
    {
     "data": {
      "text/plain": [
       "['apple', 'Banana', 'Mango']"
      ]
     },
     "execution_count": 136,
     "metadata": {},
     "output_type": "execute_result"
    }
   ],
   "source": [
    "l"
   ]
  },
  {
   "cell_type": "code",
   "execution_count": 145,
   "id": "0a7196a2",
   "metadata": {},
   "outputs": [],
   "source": [
    "e=[]\n",
    "for i in h:\n",
    "    if 'pp' in i:\n",
    "        e.append(i)"
   ]
  },
  {
   "cell_type": "code",
   "execution_count": 146,
   "id": "6e42adc4",
   "metadata": {},
   "outputs": [
    {
     "data": {
      "text/plain": [
       "['apple']"
      ]
     },
     "execution_count": 146,
     "metadata": {},
     "output_type": "execute_result"
    }
   ],
   "source": [
    "e"
   ]
  },
  {
   "cell_type": "code",
   "execution_count": 147,
   "id": "52c5bd39",
   "metadata": {},
   "outputs": [],
   "source": [
    "l1=[i for i in h if 'pp' in i]"
   ]
  },
  {
   "cell_type": "code",
   "execution_count": 148,
   "id": "d4dd2a95",
   "metadata": {},
   "outputs": [
    {
     "data": {
      "text/plain": [
       "['apple']"
      ]
     },
     "execution_count": 148,
     "metadata": {},
     "output_type": "execute_result"
    }
   ],
   "source": [
    "l1"
   ]
  },
  {
   "cell_type": "code",
   "execution_count": 28,
   "id": "e02958a8",
   "metadata": {},
   "outputs": [
    {
     "data": {
      "text/plain": [
       "['apple', 'Banana', 'Cherry', 'Kivi', 'Mango']"
      ]
     },
     "execution_count": 28,
     "metadata": {},
     "output_type": "execute_result"
    }
   ],
   "source": [
    "h"
   ]
  },
  {
   "cell_type": "code",
   "execution_count": 29,
   "id": "23f92f0a",
   "metadata": {},
   "outputs": [],
   "source": [
    "i=['Apple','banana','cherry']"
   ]
  },
  {
   "cell_type": "code",
   "execution_count": 30,
   "id": "cca9aa98",
   "metadata": {},
   "outputs": [],
   "source": [
    "h.extend(i)"
   ]
  },
  {
   "cell_type": "code",
   "execution_count": 31,
   "id": "404f9919",
   "metadata": {},
   "outputs": [
    {
     "data": {
      "text/plain": [
       "['apple', 'Banana', 'Cherry', 'Kivi', 'Mango', 'Apple', 'banana', 'cherry']"
      ]
     },
     "execution_count": 31,
     "metadata": {},
     "output_type": "execute_result"
    }
   ],
   "source": [
    "h"
   ]
  },
  {
   "cell_type": "code",
   "execution_count": 32,
   "id": "7bfc6120",
   "metadata": {},
   "outputs": [
    {
     "data": {
      "text/plain": [
       "['Apple', 'Banana', 'Cherry', 'Kivi', 'Mango', 'apple', 'banana', 'cherry']"
      ]
     },
     "execution_count": 32,
     "metadata": {},
     "output_type": "execute_result"
    }
   ],
   "source": [
    "h.sort()\n",
    "h"
   ]
  },
  {
   "cell_type": "code",
   "execution_count": 10,
   "id": "0b27a258",
   "metadata": {},
   "outputs": [],
   "source": [
    "a=[100,50,65,27,38,49,11,23,44]"
   ]
  },
  {
   "cell_type": "code",
   "execution_count": 11,
   "id": "ee800efb",
   "metadata": {},
   "outputs": [
    {
     "data": {
      "text/plain": [
       "[11, 23, 27, 38, 44, 49, 50, 65, 100]"
      ]
     },
     "execution_count": 11,
     "metadata": {},
     "output_type": "execute_result"
    }
   ],
   "source": [
    "a.sort()\n",
    "a"
   ]
  },
  {
   "cell_type": "code",
   "execution_count": 22,
   "id": "f362f30c",
   "metadata": {},
   "outputs": [
    {
     "data": {
      "text/plain": [
       "[100, 65, 50, 49, 44, 38, 27, 23, 11]"
      ]
     },
     "execution_count": 22,
     "metadata": {},
     "output_type": "execute_result"
    }
   ],
   "source": [
    "a.sort(reverse=True)\n",
    "a"
   ]
  },
  {
   "cell_type": "code",
   "execution_count": 33,
   "id": "70040f7c",
   "metadata": {},
   "outputs": [
    {
     "data": {
      "text/plain": [
       "[1, 2, 3, 4, 'a', 's', 'd', 'f']"
      ]
     },
     "execution_count": 33,
     "metadata": {},
     "output_type": "execute_result"
    }
   ],
   "source": [
    "l1=[1,2,3,4]\n",
    "l2=['a','s','d','f']\n",
    "l3=l1+l2\n",
    "l3"
   ]
  },
  {
   "cell_type": "code",
   "execution_count": 37,
   "id": "f68c4767",
   "metadata": {},
   "outputs": [
    {
     "data": {
      "text/plain": [
       "[6, 2, 8, 4, 1, 3, 5, 7]"
      ]
     },
     "execution_count": 37,
     "metadata": {},
     "output_type": "execute_result"
    }
   ],
   "source": [
    "l1=[6,2,8,4]\n",
    "l2=[1,3,5,7]\n",
    "l3=l1+l2\n",
    "l3"
   ]
  },
  {
   "cell_type": "code",
   "execution_count": 38,
   "id": "92974065",
   "metadata": {},
   "outputs": [
    {
     "name": "stdout",
     "output_type": "stream",
     "text": [
      "0 0\n",
      "0 1\n",
      "0 2\n",
      "0 3\n",
      "1 0\n",
      "1 1\n",
      "1 2\n",
      "1 3\n",
      "2 0\n",
      "2 1\n",
      "2 2\n",
      "2 3\n",
      "3 0\n",
      "3 1\n",
      "3 2\n",
      "3 3\n"
     ]
    }
   ],
   "source": [
    "l1=[6,2,8,4]\n",
    "l2=[1,3,5,7]\n",
    "for i in range(len(l1)):\n",
    "    for j in range(len(l2)):\n",
    "        print(i,j)"
   ]
  },
  {
   "cell_type": "markdown",
   "id": "75c9ecdf",
   "metadata": {},
   "source": [
    "# Tuples"
   ]
  },
  {
   "cell_type": "markdown",
   "id": "b89c61a9",
   "metadata": {},
   "source": [
    "Tuples are used to store multiple items in single variable\n",
    "\n",
    "Properties\n",
    "- Ordered\n",
    "- Unchangeable \n",
    "\n",
    ": Tuple allows duplicates \n",
    "\n",
    ": Always written in round braces ()\n",
    ": List has square braces []"
   ]
  },
  {
   "cell_type": "markdown",
   "id": "1279e2fb",
   "metadata": {},
   "source": [
    "we have 4 data types\n",
    "1. list\n",
    "2. Dictionary\n",
    "3. Set\n",
    "4. Tuples"
   ]
  },
  {
   "cell_type": "code",
   "execution_count": 75,
   "id": "d59ddc55",
   "metadata": {},
   "outputs": [],
   "source": [
    "t=('apple','banana','cherry')"
   ]
  },
  {
   "cell_type": "code",
   "execution_count": 76,
   "id": "0e766652",
   "metadata": {},
   "outputs": [
    {
     "data": {
      "text/plain": [
       "tuple"
      ]
     },
     "execution_count": 76,
     "metadata": {},
     "output_type": "execute_result"
    }
   ],
   "source": [
    "type(t)"
   ]
  },
  {
   "cell_type": "code",
   "execution_count": 43,
   "id": "cb22d916",
   "metadata": {},
   "outputs": [],
   "source": [
    "t1=('apple','banana','cherry','apple','cheery')"
   ]
  },
  {
   "cell_type": "code",
   "execution_count": 47,
   "id": "da709a74",
   "metadata": {},
   "outputs": [
    {
     "data": {
      "text/plain": [
       "('apple', 'banana', 'cherry', 'apple', 'cheery')"
      ]
     },
     "execution_count": 47,
     "metadata": {},
     "output_type": "execute_result"
    }
   ],
   "source": [
    "t1"
   ]
  },
  {
   "cell_type": "code",
   "execution_count": 45,
   "id": "bf8a3f10",
   "metadata": {},
   "outputs": [],
   "source": [
    "l1=['apple','banana','cherry','apple','cheery']"
   ]
  },
  {
   "cell_type": "code",
   "execution_count": 46,
   "id": "8f7616b9",
   "metadata": {},
   "outputs": [
    {
     "data": {
      "text/plain": [
       "['apple', 'banana', 'cherry', 'apple', 'cheery']"
      ]
     },
     "execution_count": 46,
     "metadata": {},
     "output_type": "execute_result"
    }
   ],
   "source": [
    "l1"
   ]
  },
  {
   "cell_type": "code",
   "execution_count": 50,
   "id": "930b750d",
   "metadata": {},
   "outputs": [
    {
     "data": {
      "text/plain": [
       "['apple', 'apple', 'banana', 'cheery', 'cherry']"
      ]
     },
     "execution_count": 50,
     "metadata": {},
     "output_type": "execute_result"
    }
   ],
   "source": [
    "l1.sort()\n",
    "l1"
   ]
  },
  {
   "cell_type": "code",
   "execution_count": 51,
   "id": "f0c440ad",
   "metadata": {},
   "outputs": [
    {
     "data": {
      "text/plain": [
       "'banana'"
      ]
     },
     "execution_count": 51,
     "metadata": {},
     "output_type": "execute_result"
    }
   ],
   "source": [
    "t1[1]"
   ]
  },
  {
   "cell_type": "code",
   "execution_count": 52,
   "id": "161039a2",
   "metadata": {},
   "outputs": [
    {
     "data": {
      "text/plain": [
       "'cheery'"
      ]
     },
     "execution_count": 52,
     "metadata": {},
     "output_type": "execute_result"
    }
   ],
   "source": [
    "t1[-1]"
   ]
  },
  {
   "cell_type": "code",
   "execution_count": 54,
   "id": "d0fcf290",
   "metadata": {},
   "outputs": [
    {
     "data": {
      "text/plain": [
       "('apple', 'banana', 'cherry', 'apple', 'banana', 'cherry', 'apple', 'cheery')"
      ]
     },
     "execution_count": 54,
     "metadata": {},
     "output_type": "execute_result"
    }
   ],
   "source": [
    "t2=t+t1\n",
    "t2"
   ]
  },
  {
   "cell_type": "code",
   "execution_count": 55,
   "id": "7a762fc6",
   "metadata": {},
   "outputs": [
    {
     "data": {
      "text/plain": [
       "('apple', 'banana', 'cherry')"
      ]
     },
     "execution_count": 55,
     "metadata": {},
     "output_type": "execute_result"
    }
   ],
   "source": [
    "t"
   ]
  },
  {
   "cell_type": "code",
   "execution_count": 58,
   "id": "a7105825",
   "metadata": {},
   "outputs": [
    {
     "ename": "TypeError",
     "evalue": "'tuple' object does not support item assignment",
     "output_type": "error",
     "traceback": [
      "\u001b[0;31m---------------------------------------------------------------------------\u001b[0m",
      "\u001b[0;31mTypeError\u001b[0m                                 Traceback (most recent call last)",
      "\u001b[0;32m/var/folders/bg/77tnqfd51m57vg3m6wcsh_s40000gn/T/ipykernel_26558/1563896407.py\u001b[0m in \u001b[0;36m<module>\u001b[0;34m\u001b[0m\n\u001b[0;32m----> 1\u001b[0;31m \u001b[0mt\u001b[0m\u001b[0;34m[\u001b[0m\u001b[0;36m1\u001b[0m\u001b[0;34m]\u001b[0m\u001b[0;34m=\u001b[0m\u001b[0;34m(\u001b[0m\u001b[0;34m'kivi'\u001b[0m\u001b[0;34m)\u001b[0m\u001b[0;34m\u001b[0m\u001b[0;34m\u001b[0m\u001b[0m\n\u001b[0m",
      "\u001b[0;31mTypeError\u001b[0m: 'tuple' object does not support item assignment"
     ]
    }
   ],
   "source": [
    "t[1]=('kivi')"
   ]
  },
  {
   "cell_type": "code",
   "execution_count": 68,
   "id": "af144d6f",
   "metadata": {},
   "outputs": [
    {
     "data": {
      "text/plain": [
       "['apple', 'banana', 'cherry']"
      ]
     },
     "execution_count": 68,
     "metadata": {},
     "output_type": "execute_result"
    }
   ],
   "source": [
    "l2=list(t)\n",
    "l2"
   ]
  },
  {
   "cell_type": "code",
   "execution_count": 69,
   "id": "816c289a",
   "metadata": {},
   "outputs": [
    {
     "data": {
      "text/plain": [
       "'banana'"
      ]
     },
     "execution_count": 69,
     "metadata": {},
     "output_type": "execute_result"
    }
   ],
   "source": [
    "l2[1]"
   ]
  },
  {
   "cell_type": "code",
   "execution_count": 71,
   "id": "8128a103",
   "metadata": {},
   "outputs": [
    {
     "data": {
      "text/plain": [
       "['apple', 'Kiwi', 'cherry']"
      ]
     },
     "execution_count": 71,
     "metadata": {},
     "output_type": "execute_result"
    }
   ],
   "source": [
    "l2[1]='Kiwi'\n",
    "l2"
   ]
  },
  {
   "cell_type": "code",
   "execution_count": 73,
   "id": "041a8388",
   "metadata": {},
   "outputs": [],
   "source": [
    "t3=tuple(l2)"
   ]
  },
  {
   "cell_type": "code",
   "execution_count": 74,
   "id": "03ac4ac5",
   "metadata": {},
   "outputs": [
    {
     "data": {
      "text/plain": [
       "('apple', 'Kiwi', 'cherry')"
      ]
     },
     "execution_count": 74,
     "metadata": {},
     "output_type": "execute_result"
    }
   ],
   "source": [
    "t3"
   ]
  },
  {
   "cell_type": "code",
   "execution_count": 91,
   "id": "f15a13b9",
   "metadata": {},
   "outputs": [],
   "source": [
    "t=('apple','banana','cherry')"
   ]
  },
  {
   "cell_type": "code",
   "execution_count": 93,
   "id": "0210c313",
   "metadata": {},
   "outputs": [
    {
     "data": {
      "text/plain": [
       "['apple', 'banana', 'cherry']"
      ]
     },
     "execution_count": 93,
     "metadata": {},
     "output_type": "execute_result"
    }
   ],
   "source": [
    "l=list(t)\n",
    "l"
   ]
  },
  {
   "cell_type": "code",
   "execution_count": 94,
   "id": "c704aa3d",
   "metadata": {},
   "outputs": [],
   "source": [
    "l1=['orange']"
   ]
  },
  {
   "cell_type": "code",
   "execution_count": 101,
   "id": "fd3e5226",
   "metadata": {},
   "outputs": [],
   "source": [
    "l.append(l1)"
   ]
  },
  {
   "cell_type": "code",
   "execution_count": 102,
   "id": "6dc0a524",
   "metadata": {},
   "outputs": [
    {
     "data": {
      "text/plain": [
       "['apple', 'banana', 'cherry', ['orange'], ['orange'], ['orange']]"
      ]
     },
     "execution_count": 102,
     "metadata": {},
     "output_type": "execute_result"
    }
   ],
   "source": [
    "l"
   ]
  },
  {
   "cell_type": "code",
   "execution_count": 108,
   "id": "60795b70",
   "metadata": {},
   "outputs": [
    {
     "data": {
      "text/plain": [
       "['apple', 'banana', 'cherry', 'orange']"
      ]
     },
     "execution_count": 108,
     "metadata": {},
     "output_type": "execute_result"
    }
   ],
   "source": [
    "l=list(t)\n",
    "l1='orange'\n",
    "l.append(l1)\n",
    "l"
   ]
  },
  {
   "cell_type": "code",
   "execution_count": 109,
   "id": "a53634f6",
   "metadata": {},
   "outputs": [
    {
     "data": {
      "text/plain": [
       "('apple', 'banana', 'cherry', 'orange')"
      ]
     },
     "execution_count": 109,
     "metadata": {},
     "output_type": "execute_result"
    }
   ],
   "source": [
    "t1=tuple(l)\n",
    "t1"
   ]
  },
  {
   "cell_type": "code",
   "execution_count": 110,
   "id": "ee1d41b2",
   "metadata": {},
   "outputs": [
    {
     "data": {
      "text/plain": [
       "['apple', 'banana', 'cherry', 'orange']"
      ]
     },
     "execution_count": 110,
     "metadata": {},
     "output_type": "execute_result"
    }
   ],
   "source": [
    "l1=list(t1)\n",
    "l1"
   ]
  },
  {
   "cell_type": "code",
   "execution_count": 111,
   "id": "9aedb054",
   "metadata": {},
   "outputs": [
    {
     "data": {
      "text/plain": [
       "'apple'"
      ]
     },
     "execution_count": 111,
     "metadata": {},
     "output_type": "execute_result"
    }
   ],
   "source": [
    "l1.pop(0)"
   ]
  },
  {
   "cell_type": "code",
   "execution_count": 112,
   "id": "f6f7defe",
   "metadata": {},
   "outputs": [
    {
     "data": {
      "text/plain": [
       "['banana', 'cherry', 'orange']"
      ]
     },
     "execution_count": 112,
     "metadata": {},
     "output_type": "execute_result"
    }
   ],
   "source": [
    "l1"
   ]
  },
  {
   "cell_type": "code",
   "execution_count": 113,
   "id": "e9779561",
   "metadata": {},
   "outputs": [
    {
     "data": {
      "text/plain": [
       "('banana', 'cherry', 'orange')"
      ]
     },
     "execution_count": 113,
     "metadata": {},
     "output_type": "execute_result"
    }
   ],
   "source": [
    "t1=tuple(l1)\n",
    "t1"
   ]
  },
  {
   "cell_type": "code",
   "execution_count": 116,
   "id": "922d09bc",
   "metadata": {},
   "outputs": [
    {
     "ename": "NameError",
     "evalue": "name 't1' is not defined",
     "output_type": "error",
     "traceback": [
      "\u001b[0;31m---------------------------------------------------------------------------\u001b[0m",
      "\u001b[0;31mNameError\u001b[0m                                 Traceback (most recent call last)",
      "\u001b[0;32m/var/folders/bg/77tnqfd51m57vg3m6wcsh_s40000gn/T/ipykernel_26558/2701306903.py\u001b[0m in \u001b[0;36m<module>\u001b[0;34m\u001b[0m\n\u001b[0;32m----> 1\u001b[0;31m \u001b[0;32mdel\u001b[0m\u001b[0;34m(\u001b[0m\u001b[0mt1\u001b[0m\u001b[0;34m)\u001b[0m\u001b[0;34m\u001b[0m\u001b[0;34m\u001b[0m\u001b[0m\n\u001b[0m\u001b[1;32m      2\u001b[0m \u001b[0mprint\u001b[0m\u001b[0;34m(\u001b[0m\u001b[0mt1\u001b[0m\u001b[0;34m)\u001b[0m\u001b[0;34m\u001b[0m\u001b[0;34m\u001b[0m\u001b[0m\n",
      "\u001b[0;31mNameError\u001b[0m: name 't1' is not defined"
     ]
    }
   ],
   "source": [
    "del(t1)\n",
    "print(t1)"
   ]
  },
  {
   "cell_type": "code",
   "execution_count": 20,
   "id": "f1c0b46e",
   "metadata": {},
   "outputs": [
    {
     "name": "stdout",
     "output_type": "stream",
     "text": [
      "apple\n",
      "banana\n",
      "cherry\n"
     ]
    }
   ],
   "source": [
    "fruits=('apple','banana','cherry')\n",
    "fruits=(green,yellow,red)\n",
    "print(green)\n",
    "print(yellow)\n",
    "print(red)"
   ]
  },
  {
   "cell_type": "code",
   "execution_count": 21,
   "id": "89a52aa5",
   "metadata": {},
   "outputs": [
    {
     "name": "stdout",
     "output_type": "stream",
     "text": [
      "apple\n",
      "banana\n",
      "cherry\n"
     ]
    }
   ],
   "source": [
    "fruits=('apple','banana','cherry')\n",
    "(green,yellow,red)=fruits\n",
    "print(green)\n",
    "print(yellow)\n",
    "print(red)"
   ]
  },
  {
   "cell_type": "code",
   "execution_count": 22,
   "id": "366f5585",
   "metadata": {},
   "outputs": [],
   "source": [
    "l1=list(fruits)\n",
    "l1.append('strawberry')\n",
    "fruits=tuple(l1)"
   ]
  },
  {
   "cell_type": "code",
   "execution_count": 23,
   "id": "361e7eee",
   "metadata": {},
   "outputs": [],
   "source": [
    "l2=list(fruits)\n",
    "l2.append('raspberry')\n",
    "fruits=tuple(l2)"
   ]
  },
  {
   "cell_type": "code",
   "execution_count": 24,
   "id": "9722ac98",
   "metadata": {},
   "outputs": [
    {
     "data": {
      "text/plain": [
       "('apple', 'banana', 'cherry', 'strawberry', 'raspberry')"
      ]
     },
     "execution_count": 24,
     "metadata": {},
     "output_type": "execute_result"
    }
   ],
   "source": [
    "fruits"
   ]
  },
  {
   "cell_type": "code",
   "execution_count": 32,
   "id": "43ac4af9",
   "metadata": {},
   "outputs": [
    {
     "name": "stdout",
     "output_type": "stream",
     "text": [
      "apple\n",
      "banana\n",
      "['c', 'h', 'e', 'r', 'r', 'y']\n"
     ]
    }
   ],
   "source": [
    "(green,yellow,*red)=fruits\n",
    "print(green)\n",
    "print(yellow)\n",
    "print(red)"
   ]
  },
  {
   "cell_type": "code",
   "execution_count": 31,
   "id": "b0c21e84",
   "metadata": {},
   "outputs": [
    {
     "name": "stdout",
     "output_type": "stream",
     "text": [
      "apple\n",
      "banana\n",
      "['cherry', 'strawberry', 'raspberry']\n"
     ]
    }
   ],
   "source": [
    "a=('apple', 'banana', 'cherry', 'strawberry', 'raspberry')\n",
    "(green,yellow,*red)=a\n",
    "print(green)\n",
    "print(yellow)\n",
    "print(red)"
   ]
  },
  {
   "cell_type": "code",
   "execution_count": 34,
   "id": "1a418bcf",
   "metadata": {},
   "outputs": [
    {
     "name": "stdout",
     "output_type": "stream",
     "text": [
      "apple\n",
      "banana\n",
      "cherry\n",
      "strawberry\n",
      "raspberry\n"
     ]
    }
   ],
   "source": [
    "a\n",
    "for i in a:\n",
    "    print(i)"
   ]
  },
  {
   "cell_type": "code",
   "execution_count": 46,
   "id": "1bf54d28",
   "metadata": {},
   "outputs": [
    {
     "name": "stdout",
     "output_type": "stream",
     "text": [
      "apple\n",
      "banana\n",
      "cherry\n",
      "strawberry\n",
      "raspberry\n"
     ]
    }
   ],
   "source": [
    "for i in range(len(a)):\n",
    "    print(a[i])"
   ]
  },
  {
   "cell_type": "code",
   "execution_count": 47,
   "id": "e3318250",
   "metadata": {},
   "outputs": [
    {
     "name": "stdout",
     "output_type": "stream",
     "text": [
      "apple\n",
      "banana\n",
      "cherry\n",
      "strawberry\n",
      "raspberry\n"
     ]
    }
   ],
   "source": [
    "a\n",
    "b=list(a)\n",
    "for i in range(len(b)):\n",
    "    print(b[i])"
   ]
  },
  {
   "cell_type": "code",
   "execution_count": 50,
   "id": "7d25cfeb",
   "metadata": {},
   "outputs": [
    {
     "name": "stdout",
     "output_type": "stream",
     "text": [
      "apple\n",
      "banana\n",
      "cherry\n",
      "strawberry\n",
      "raspberry\n"
     ]
    }
   ],
   "source": [
    "i=0\n",
    "while i<(len(a)):\n",
    "    print(a[i])\n",
    "    i+=1"
   ]
  },
  {
   "cell_type": "code",
   "execution_count": null,
   "id": "cccae0bd",
   "metadata": {},
   "outputs": [],
   "source": []
  },
  {
   "cell_type": "code",
   "execution_count": null,
   "id": "87540d8f",
   "metadata": {},
   "outputs": [],
   "source": []
  }
 ],
 "metadata": {
  "kernelspec": {
   "display_name": "Python 3 (ipykernel)",
   "language": "python",
   "name": "python3"
  },
  "language_info": {
   "codemirror_mode": {
    "name": "ipython",
    "version": 3
   },
   "file_extension": ".py",
   "mimetype": "text/x-python",
   "name": "python",
   "nbconvert_exporter": "python",
   "pygments_lexer": "ipython3",
   "version": "3.9.7"
  }
 },
 "nbformat": 4,
 "nbformat_minor": 5
}

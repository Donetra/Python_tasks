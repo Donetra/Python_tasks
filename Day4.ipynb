{
 "cells": [
  {
   "cell_type": "markdown",
   "id": "7a59848e",
   "metadata": {},
   "source": [
    "# ForLoop"
   ]
  },
  {
   "cell_type": "markdown",
   "id": "0a70db77",
   "metadata": {},
   "source": [
    "A for loop is used for iterating over a sequence (that is either a list, a tuple,a dictionary, a set or a string).\n",
    "\n",
    "This is less like the 'for' keyword in other progrmming languages, and works more like an iterator method as found in other object-oriented programming language.\n",
    "\n",
    "With the for loop we can execute a set of statements, once for each item in a list, tuple, set, etc."
   ]
  },
  {
   "cell_type": "code",
   "execution_count": 2,
   "id": "65832654",
   "metadata": {},
   "outputs": [],
   "source": [
    "cities=['Nagpur', 'Pune', 'Mumbai', 'banglore', 'Chennai']"
   ]
  },
  {
   "cell_type": "code",
   "execution_count": 2,
   "id": "c2e6e64e",
   "metadata": {},
   "outputs": [
    {
     "data": {
      "text/plain": [
       "['Nagpur', 'Pune', 'Mumbai', 'banglore', 'Chennai']"
      ]
     },
     "execution_count": 2,
     "metadata": {},
     "output_type": "execute_result"
    }
   ],
   "source": [
    "cities"
   ]
  },
  {
   "cell_type": "code",
   "execution_count": 11,
   "id": "921e9a44",
   "metadata": {},
   "outputs": [
    {
     "name": "stdout",
     "output_type": "stream",
     "text": [
      "Nagpur\n",
      "Pune\n",
      "Mumbai\n",
      "banglore\n",
      "Chennai\n"
     ]
    }
   ],
   "source": [
    "for a in cities:\n",
    "    print(a)"
   ]
  },
  {
   "cell_type": "code",
   "execution_count": 25,
   "id": "2d7dddc2",
   "metadata": {},
   "outputs": [
    {
     "name": "stdout",
     "output_type": "stream",
     "text": [
      "Nagpur\n",
      "Pune\n",
      "Mumbai\n",
      "banglore\n",
      "Chennai\n"
     ]
    }
   ],
   "source": [
    "for city in cities:\n",
    "    print(city)"
   ]
  },
  {
   "cell_type": "code",
   "execution_count": 4,
   "id": "15b63530",
   "metadata": {},
   "outputs": [
    {
     "name": "stdout",
     "output_type": "stream",
     "text": [
      "N\n",
      "a\n",
      "g\n",
      "p\n",
      "u\n",
      "r\n"
     ]
    }
   ],
   "source": [
    "for city in 'Nagpur':\n",
    "    print(city)"
   ]
  },
  {
   "cell_type": "code",
   "execution_count": 5,
   "id": "434cc332",
   "metadata": {},
   "outputs": [
    {
     "name": "stdout",
     "output_type": "stream",
     "text": [
      "Nagpur\n",
      "Pune\n",
      "Mumbai\n"
     ]
    }
   ],
   "source": [
    "for city in  cities:\n",
    "    print(city)\n",
    "    if city == 'Mumbai':\n",
    "        break"
   ]
  },
  {
   "cell_type": "code",
   "execution_count": 20,
   "id": "92983503",
   "metadata": {},
   "outputs": [],
   "source": [
    "for a in cities:\n",
    "    if a == 'Mumbai':\n",
    "        break\n",
    "        print(a)"
   ]
  },
  {
   "cell_type": "code",
   "execution_count": 21,
   "id": "dd308de1",
   "metadata": {},
   "outputs": [
    {
     "data": {
      "text/plain": [
       "'Mumbai'"
      ]
     },
     "execution_count": 21,
     "metadata": {},
     "output_type": "execute_result"
    }
   ],
   "source": [
    "a"
   ]
  },
  {
   "cell_type": "code",
   "execution_count": 10,
   "id": "37a07649",
   "metadata": {},
   "outputs": [
    {
     "name": "stdout",
     "output_type": "stream",
     "text": [
      "apple\n"
     ]
    }
   ],
   "source": [
    "fruits = [\"apple\", \"banana\", \"cherry\"]\n",
    "for x in fruits:\n",
    "  if x == \"banana\":\n",
    "    break\n",
    "  print(x)"
   ]
  },
  {
   "cell_type": "code",
   "execution_count": 3,
   "id": "c7ea0164",
   "metadata": {},
   "outputs": [
    {
     "name": "stdout",
     "output_type": "stream",
     "text": [
      "I love Nagpur\n",
      "I love Pune\n",
      "I love Mumbai\n",
      "I love banglore\n",
      "I love Chennai\n"
     ]
    }
   ],
   "source": [
    "for city in cities:\n",
    "    print('I love', city)"
   ]
  },
  {
   "cell_type": "code",
   "execution_count": 6,
   "id": "483bf4c6",
   "metadata": {},
   "outputs": [
    {
     "name": "stdout",
     "output_type": "stream",
     "text": [
      "I love Nagpur ,India\n",
      "I love Pune ,India\n",
      "I love Mumbai ,India\n",
      "I love banglore ,India\n",
      "I love Chennai ,India\n"
     ]
    }
   ],
   "source": [
    "for city in cities:\n",
    "    print('I love', city,',India')"
   ]
  },
  {
   "cell_type": "code",
   "execution_count": 2,
   "id": "35ff8002",
   "metadata": {},
   "outputs": [],
   "source": [
    "a =[1,2,3,4,5,6,7,8,9]"
   ]
  },
  {
   "cell_type": "code",
   "execution_count": 3,
   "id": "de2ef8b9",
   "metadata": {},
   "outputs": [
    {
     "data": {
      "text/plain": [
       "[1, 2, 3, 4, 5, 6, 7, 8, 9]"
      ]
     },
     "execution_count": 3,
     "metadata": {},
     "output_type": "execute_result"
    }
   ],
   "source": [
    "a"
   ]
  },
  {
   "cell_type": "code",
   "execution_count": 6,
   "id": "55893732",
   "metadata": {},
   "outputs": [],
   "source": [
    "b=range(1,10)"
   ]
  },
  {
   "cell_type": "code",
   "execution_count": 7,
   "id": "e41fdcfe",
   "metadata": {},
   "outputs": [
    {
     "data": {
      "text/plain": [
       "range(1, 10)"
      ]
     },
     "execution_count": 7,
     "metadata": {},
     "output_type": "execute_result"
    }
   ],
   "source": [
    "b"
   ]
  },
  {
   "cell_type": "code",
   "execution_count": 28,
   "id": "2d84ab17",
   "metadata": {},
   "outputs": [],
   "source": [
    "C=list(range(1,10))"
   ]
  },
  {
   "cell_type": "code",
   "execution_count": 29,
   "id": "2beabb4b",
   "metadata": {},
   "outputs": [
    {
     "data": {
      "text/plain": [
       "[1, 2, 3, 4, 5, 6, 7, 8, 9]"
      ]
     },
     "execution_count": 29,
     "metadata": {},
     "output_type": "execute_result"
    }
   ],
   "source": [
    "C"
   ]
  },
  {
   "cell_type": "code",
   "execution_count": 31,
   "id": "6102a5b7",
   "metadata": {},
   "outputs": [
    {
     "name": "stdout",
     "output_type": "stream",
     "text": [
      "1\n",
      "2\n",
      "3\n",
      "4\n",
      "5\n",
      "6\n",
      "7\n",
      "8\n",
      "9\n"
     ]
    }
   ],
   "source": [
    "for x in C:\n",
    "    print(x)"
   ]
  },
  {
   "cell_type": "code",
   "execution_count": 39,
   "id": "9b062623",
   "metadata": {},
   "outputs": [
    {
     "name": "stdout",
     "output_type": "stream",
     "text": [
      "Inverse of 1 is 1.0\n",
      "Inverse of 2 is 0.5\n",
      "Inverse of 3 is 0.3333333333333333\n",
      "Inverse of 4 is 0.25\n",
      "Inverse of 5 is 0.2\n",
      "Inverse of 6 is 0.16666666666666666\n",
      "Inverse of 7 is 0.14285714285714285\n",
      "Inverse of 8 is 0.125\n",
      "Inverse of 9 is 0.1111111111111111\n"
     ]
    }
   ],
   "source": [
    "for x in C:\n",
    "    print('Inverse of', x, 'is' , 1/x)"
   ]
  },
  {
   "cell_type": "code",
   "execution_count": 38,
   "id": "8397ffd8",
   "metadata": {},
   "outputs": [
    {
     "name": "stdout",
     "output_type": "stream",
     "text": [
      "Inverse of the number 1 is 1.0\n",
      "Inverse of the number 2 is 0.5\n",
      "Inverse of the number 3 is 0.3333333333333333\n",
      "Inverse of the number 4 is 0.25\n",
      "Inverse of the number 5 is 0.2\n",
      "Inverse of the number 6 is 0.16666666666666666\n",
      "Inverse of the number 7 is 0.14285714285714285\n",
      "Inverse of the number 8 is 0.125\n",
      "Inverse of the number 9 is 0.1111111111111111\n"
     ]
    }
   ],
   "source": [
    "for a in C:\n",
    "    print('Inverse of the number',a,\n",
    "         'is', 1/a)"
   ]
  },
  {
   "cell_type": "code",
   "execution_count": 40,
   "id": "fef1e3a6",
   "metadata": {},
   "outputs": [
    {
     "name": "stdout",
     "output_type": "stream",
     "text": [
      "Inverse of the number 1 is 1/ 1\n",
      "Inverse of the number 2 is 1/ 2\n",
      "Inverse of the number 3 is 1/ 3\n",
      "Inverse of the number 4 is 1/ 4\n",
      "Inverse of the number 5 is 1/ 5\n",
      "Inverse of the number 6 is 1/ 6\n",
      "Inverse of the number 7 is 1/ 7\n",
      "Inverse of the number 8 is 1/ 8\n",
      "Inverse of the number 9 is 1/ 9\n"
     ]
    }
   ],
   "source": [
    "for a in C:\n",
    "    print('Inverse of the number',a,\n",
    "         'is', '1/',a)"
   ]
  },
  {
   "cell_type": "code",
   "execution_count": 41,
   "id": "267e89e2",
   "metadata": {},
   "outputs": [],
   "source": [
    "B=list(range(1,101))"
   ]
  },
  {
   "cell_type": "code",
   "execution_count": 18,
   "id": "14a0d88c",
   "metadata": {},
   "outputs": [
    {
     "data": {
      "text/plain": [
       "[1,\n",
       " 2,\n",
       " 3,\n",
       " 4,\n",
       " 5,\n",
       " 6,\n",
       " 7,\n",
       " 8,\n",
       " 9,\n",
       " 10,\n",
       " 11,\n",
       " 12,\n",
       " 13,\n",
       " 14,\n",
       " 15,\n",
       " 16,\n",
       " 17,\n",
       " 18,\n",
       " 19,\n",
       " 20,\n",
       " 21,\n",
       " 22,\n",
       " 23,\n",
       " 24,\n",
       " 25,\n",
       " 26,\n",
       " 27,\n",
       " 28,\n",
       " 29,\n",
       " 30,\n",
       " 31,\n",
       " 32,\n",
       " 33,\n",
       " 34,\n",
       " 35,\n",
       " 36,\n",
       " 37,\n",
       " 38,\n",
       " 39,\n",
       " 40,\n",
       " 41,\n",
       " 42,\n",
       " 43,\n",
       " 44,\n",
       " 45,\n",
       " 46,\n",
       " 47,\n",
       " 48,\n",
       " 49,\n",
       " 50,\n",
       " 51,\n",
       " 52,\n",
       " 53,\n",
       " 54,\n",
       " 55,\n",
       " 56,\n",
       " 57,\n",
       " 58,\n",
       " 59,\n",
       " 60,\n",
       " 61,\n",
       " 62,\n",
       " 63,\n",
       " 64,\n",
       " 65,\n",
       " 66,\n",
       " 67,\n",
       " 68,\n",
       " 69,\n",
       " 70,\n",
       " 71,\n",
       " 72,\n",
       " 73,\n",
       " 74,\n",
       " 75,\n",
       " 76,\n",
       " 77,\n",
       " 78,\n",
       " 79,\n",
       " 80,\n",
       " 81,\n",
       " 82,\n",
       " 83,\n",
       " 84,\n",
       " 85,\n",
       " 86,\n",
       " 87,\n",
       " 88,\n",
       " 89,\n",
       " 90,\n",
       " 91,\n",
       " 92,\n",
       " 93,\n",
       " 94,\n",
       " 95,\n",
       " 96,\n",
       " 97,\n",
       " 98,\n",
       " 99,\n",
       " 100]"
      ]
     },
     "execution_count": 18,
     "metadata": {},
     "output_type": "execute_result"
    }
   ],
   "source": [
    "B"
   ]
  },
  {
   "cell_type": "code",
   "execution_count": 42,
   "id": "47cfce57",
   "metadata": {},
   "outputs": [
    {
     "name": "stdout",
     "output_type": "stream",
     "text": [
      "Square of the number 1 is 1\n",
      "Square of the number 2 is 4\n",
      "Square of the number 3 is 9\n",
      "Square of the number 4 is 16\n",
      "Square of the number 5 is 25\n",
      "Square of the number 6 is 36\n",
      "Square of the number 7 is 49\n",
      "Square of the number 8 is 64\n",
      "Square of the number 9 is 81\n",
      "Square of the number 10 is 100\n",
      "Square of the number 11 is 121\n",
      "Square of the number 12 is 144\n",
      "Square of the number 13 is 169\n",
      "Square of the number 14 is 196\n",
      "Square of the number 15 is 225\n",
      "Square of the number 16 is 256\n",
      "Square of the number 17 is 289\n",
      "Square of the number 18 is 324\n",
      "Square of the number 19 is 361\n",
      "Square of the number 20 is 400\n",
      "Square of the number 21 is 441\n",
      "Square of the number 22 is 484\n",
      "Square of the number 23 is 529\n",
      "Square of the number 24 is 576\n",
      "Square of the number 25 is 625\n",
      "Square of the number 26 is 676\n",
      "Square of the number 27 is 729\n",
      "Square of the number 28 is 784\n",
      "Square of the number 29 is 841\n",
      "Square of the number 30 is 900\n",
      "Square of the number 31 is 961\n",
      "Square of the number 32 is 1024\n",
      "Square of the number 33 is 1089\n",
      "Square of the number 34 is 1156\n",
      "Square of the number 35 is 1225\n",
      "Square of the number 36 is 1296\n",
      "Square of the number 37 is 1369\n",
      "Square of the number 38 is 1444\n",
      "Square of the number 39 is 1521\n",
      "Square of the number 40 is 1600\n",
      "Square of the number 41 is 1681\n",
      "Square of the number 42 is 1764\n",
      "Square of the number 43 is 1849\n",
      "Square of the number 44 is 1936\n",
      "Square of the number 45 is 2025\n",
      "Square of the number 46 is 2116\n",
      "Square of the number 47 is 2209\n",
      "Square of the number 48 is 2304\n",
      "Square of the number 49 is 2401\n",
      "Square of the number 50 is 2500\n",
      "Square of the number 51 is 2601\n",
      "Square of the number 52 is 2704\n",
      "Square of the number 53 is 2809\n",
      "Square of the number 54 is 2916\n",
      "Square of the number 55 is 3025\n",
      "Square of the number 56 is 3136\n",
      "Square of the number 57 is 3249\n",
      "Square of the number 58 is 3364\n",
      "Square of the number 59 is 3481\n",
      "Square of the number 60 is 3600\n",
      "Square of the number 61 is 3721\n",
      "Square of the number 62 is 3844\n",
      "Square of the number 63 is 3969\n",
      "Square of the number 64 is 4096\n",
      "Square of the number 65 is 4225\n",
      "Square of the number 66 is 4356\n",
      "Square of the number 67 is 4489\n",
      "Square of the number 68 is 4624\n",
      "Square of the number 69 is 4761\n",
      "Square of the number 70 is 4900\n",
      "Square of the number 71 is 5041\n",
      "Square of the number 72 is 5184\n",
      "Square of the number 73 is 5329\n",
      "Square of the number 74 is 5476\n",
      "Square of the number 75 is 5625\n",
      "Square of the number 76 is 5776\n",
      "Square of the number 77 is 5929\n",
      "Square of the number 78 is 6084\n",
      "Square of the number 79 is 6241\n",
      "Square of the number 80 is 6400\n",
      "Square of the number 81 is 6561\n",
      "Square of the number 82 is 6724\n",
      "Square of the number 83 is 6889\n",
      "Square of the number 84 is 7056\n",
      "Square of the number 85 is 7225\n",
      "Square of the number 86 is 7396\n",
      "Square of the number 87 is 7569\n",
      "Square of the number 88 is 7744\n",
      "Square of the number 89 is 7921\n",
      "Square of the number 90 is 8100\n",
      "Square of the number 91 is 8281\n",
      "Square of the number 92 is 8464\n",
      "Square of the number 93 is 8649\n",
      "Square of the number 94 is 8836\n",
      "Square of the number 95 is 9025\n",
      "Square of the number 96 is 9216\n",
      "Square of the number 97 is 9409\n",
      "Square of the number 98 is 9604\n",
      "Square of the number 99 is 9801\n",
      "Square of the number 100 is 10000\n"
     ]
    }
   ],
   "source": [
    "for a in B:\n",
    "    print(\"Square of the number\", a, 'is', a**2)"
   ]
  },
  {
   "cell_type": "code",
   "execution_count": 43,
   "id": "c898519f",
   "metadata": {},
   "outputs": [],
   "source": [
    "A=\"Donetra\""
   ]
  },
  {
   "cell_type": "code",
   "execution_count": 47,
   "id": "7218c1c9",
   "metadata": {},
   "outputs": [],
   "source": [
    "B=list(A)"
   ]
  },
  {
   "cell_type": "code",
   "execution_count": 48,
   "id": "ed07bd9c",
   "metadata": {},
   "outputs": [
    {
     "name": "stdout",
     "output_type": "stream",
     "text": [
      "D\n",
      "o\n",
      "n\n",
      "e\n",
      "t\n",
      "r\n",
      "a\n"
     ]
    }
   ],
   "source": [
    "for x in A:\n",
    "    print(x)"
   ]
  },
  {
   "cell_type": "code",
   "execution_count": 51,
   "id": "8c9ba134",
   "metadata": {},
   "outputs": [
    {
     "name": "stdout",
     "output_type": "stream",
     "text": [
      "D\n",
      "o\n",
      "n\n",
      "e\n",
      "t\n",
      "r\n",
      "a\n"
     ]
    }
   ],
   "source": [
    "for x in \"Donetra\":\n",
    "    print(x)"
   ]
  },
  {
   "cell_type": "code",
   "execution_count": 52,
   "id": "9e813a98",
   "metadata": {},
   "outputs": [
    {
     "name": "stdout",
     "output_type": "stream",
     "text": [
      "D D D\n",
      "o o o\n",
      "n n n\n",
      "e e e\n",
      "t t t\n",
      "r r r\n",
      "a a a\n"
     ]
    }
   ],
   "source": [
    "for x in 'Donetra':\n",
    "    print(x,x,x)"
   ]
  },
  {
   "cell_type": "code",
   "execution_count": 57,
   "id": "cf91c78d",
   "metadata": {},
   "outputs": [
    {
     "name": "stdout",
     "output_type": "stream",
     "text": [
      "DDD\n",
      "ooo\n",
      "nnn\n",
      "eee\n",
      "ttt\n",
      "rrr\n",
      "aaa\n"
     ]
    }
   ],
   "source": [
    "for x in 'Donetra':\n",
    "    print(x+x+x)"
   ]
  },
  {
   "cell_type": "code",
   "execution_count": 58,
   "id": "2df39c25",
   "metadata": {},
   "outputs": [
    {
     "ename": "TypeError",
     "evalue": "can't multiply sequence by non-int of type 'str'",
     "output_type": "error",
     "traceback": [
      "\u001b[0;31m---------------------------------------------------------------------------\u001b[0m",
      "\u001b[0;31mTypeError\u001b[0m                                 Traceback (most recent call last)",
      "\u001b[0;32m/var/folders/bg/77tnqfd51m57vg3m6wcsh_s40000gn/T/ipykernel_15932/3039897862.py\u001b[0m in \u001b[0;36m<module>\u001b[0;34m\u001b[0m\n\u001b[1;32m      1\u001b[0m \u001b[0;32mfor\u001b[0m \u001b[0mx\u001b[0m \u001b[0;32min\u001b[0m \u001b[0;34m'Donetra'\u001b[0m\u001b[0;34m:\u001b[0m\u001b[0;34m\u001b[0m\u001b[0;34m\u001b[0m\u001b[0m\n\u001b[0;32m----> 2\u001b[0;31m     \u001b[0mprint\u001b[0m\u001b[0;34m(\u001b[0m\u001b[0mx\u001b[0m\u001b[0;34m*\u001b[0m\u001b[0mx\u001b[0m\u001b[0;34m)\u001b[0m\u001b[0;34m\u001b[0m\u001b[0;34m\u001b[0m\u001b[0m\n\u001b[0m",
      "\u001b[0;31mTypeError\u001b[0m: can't multiply sequence by non-int of type 'str'"
     ]
    }
   ],
   "source": [
    "for x in 'Donetra':\n",
    "    print(x*x)"
   ]
  },
  {
   "cell_type": "code",
   "execution_count": 46,
   "id": "c8ec4f89",
   "metadata": {},
   "outputs": [
    {
     "name": "stdout",
     "output_type": "stream",
     "text": [
      "['D', 'o', 'n', 'e', 't', 'r', 'a']\n",
      "['D', 'o', 'n', 'e', 't', 'r', 'a']\n",
      "['D', 'o', 'n', 'e', 't', 'r', 'a']\n",
      "['D', 'o', 'n', 'e', 't', 'r', 'a']\n",
      "['D', 'o', 'n', 'e', 't', 'r', 'a']\n",
      "['D', 'o', 'n', 'e', 't', 'r', 'a']\n",
      "['D', 'o', 'n', 'e', 't', 'r', 'a']\n"
     ]
    }
   ],
   "source": [
    "for x in A:\n",
    "    print(list(A))"
   ]
  },
  {
   "cell_type": "code",
   "execution_count": 1,
   "id": "3e32eba9",
   "metadata": {},
   "outputs": [],
   "source": [
    "X=list(range(1,10))"
   ]
  },
  {
   "cell_type": "code",
   "execution_count": 7,
   "id": "5db43f9e",
   "metadata": {},
   "outputs": [
    {
     "data": {
      "text/plain": [
       "[1, 2, 3, 4, 5, 6, 7, 8, 9]"
      ]
     },
     "execution_count": 7,
     "metadata": {},
     "output_type": "execute_result"
    }
   ],
   "source": [
    "X"
   ]
  },
  {
   "cell_type": "code",
   "execution_count": 14,
   "id": "f5da1a8f",
   "metadata": {},
   "outputs": [
    {
     "name": "stdout",
     "output_type": "stream",
     "text": [
      "-1\n",
      "-2\n",
      "-3\n",
      "-4\n",
      "-5\n",
      "-6\n",
      "-7\n",
      "-8\n",
      "-9\n"
     ]
    }
   ],
   "source": [
    "for i in X:                #Same order\n",
    "    print(-i)"
   ]
  },
  {
   "cell_type": "markdown",
   "id": "7b7266ab",
   "metadata": {},
   "source": [
    "for i in X:             #Same order\n",
    "    print(-(-i))"
   ]
  },
  {
   "cell_type": "code",
   "execution_count": 12,
   "id": "36f9853a",
   "metadata": {},
   "outputs": [
    {
     "name": "stdout",
     "output_type": "stream",
     "text": [
      "9\n",
      "8\n",
      "7\n",
      "6\n",
      "5\n",
      "4\n",
      "3\n",
      "2\n",
      "1\n"
     ]
    }
   ],
   "source": [
    "for i in X:               #Reverse order\n",
    "    print(X[-i])"
   ]
  },
  {
   "cell_type": "code",
   "execution_count": 49,
   "id": "972c8048",
   "metadata": {},
   "outputs": [],
   "source": [
    "C=list(range(1,6))"
   ]
  },
  {
   "cell_type": "code",
   "execution_count": 50,
   "id": "b5c41de7",
   "metadata": {},
   "outputs": [
    {
     "name": "stdout",
     "output_type": "stream",
     "text": [
      "1\n",
      "2\n",
      "3\n",
      "4\n",
      "5\n"
     ]
    }
   ],
   "source": [
    "for x in C:\n",
    "    print(x)"
   ]
  },
  {
   "cell_type": "markdown",
   "id": "fa274a20",
   "metadata": {},
   "source": [
    "# Functions"
   ]
  },
  {
   "cell_type": "markdown",
   "id": "275d1770",
   "metadata": {},
   "source": [
    "Important topic"
   ]
  },
  {
   "cell_type": "code",
   "execution_count": 16,
   "id": "51b539da",
   "metadata": {},
   "outputs": [],
   "source": [
    "def adder (a,b):\n",
    "    sum = a+b\n",
    "    return sum"
   ]
  },
  {
   "cell_type": "code",
   "execution_count": 17,
   "id": "474fb9a1",
   "metadata": {},
   "outputs": [
    {
     "data": {
      "text/plain": [
       "11"
      ]
     },
     "execution_count": 17,
     "metadata": {},
     "output_type": "execute_result"
    }
   ],
   "source": [
    "adder (5,6)"
   ]
  },
  {
   "cell_type": "code",
   "execution_count": 29,
   "id": "bd83f620",
   "metadata": {},
   "outputs": [],
   "source": [
    "def adder (a,b):\n",
    "    return a+b"
   ]
  },
  {
   "cell_type": "code",
   "execution_count": 30,
   "id": "f9ac5f18",
   "metadata": {},
   "outputs": [
    {
     "data": {
      "text/plain": [
       "11"
      ]
     },
     "execution_count": 30,
     "metadata": {},
     "output_type": "execute_result"
    }
   ],
   "source": [
    "adder (5,6)"
   ]
  },
  {
   "cell_type": "code",
   "execution_count": 18,
   "id": "d06dab0b",
   "metadata": {},
   "outputs": [],
   "source": [
    "def solve (a,b):\n",
    "    solve = a + b -(a*b)/b\n",
    "    return solve"
   ]
  },
  {
   "cell_type": "code",
   "execution_count": 19,
   "id": "fe0ec4e6",
   "metadata": {},
   "outputs": [
    {
     "data": {
      "text/plain": [
       "3.0"
      ]
     },
     "execution_count": 19,
     "metadata": {},
     "output_type": "execute_result"
    }
   ],
   "source": [
    "solve (2,3)"
   ]
  },
  {
   "cell_type": "code",
   "execution_count": 20,
   "id": "4bec0f7d",
   "metadata": {},
   "outputs": [],
   "source": [
    "def square (a):\n",
    "    square = a**2\n",
    "    return square"
   ]
  },
  {
   "cell_type": "code",
   "execution_count": 21,
   "id": "6003fbda",
   "metadata": {},
   "outputs": [
    {
     "data": {
      "text/plain": [
       "64"
      ]
     },
     "execution_count": 21,
     "metadata": {},
     "output_type": "execute_result"
    }
   ],
   "source": [
    "square(8)"
   ]
  },
  {
   "cell_type": "code",
   "execution_count": 22,
   "id": "f0fc9a4b",
   "metadata": {},
   "outputs": [],
   "source": [
    "def X (a):\n",
    "    X = a**2 + a**3\n",
    "    return X"
   ]
  },
  {
   "cell_type": "code",
   "execution_count": 23,
   "id": "e9ac3842",
   "metadata": {},
   "outputs": [
    {
     "data": {
      "text/plain": [
       "36"
      ]
     },
     "execution_count": 23,
     "metadata": {},
     "output_type": "execute_result"
    }
   ],
   "source": [
    "X(3)"
   ]
  },
  {
   "cell_type": "code",
   "execution_count": 27,
   "id": "e6b7f03e",
   "metadata": {},
   "outputs": [],
   "source": [
    "def Y (a,b,c):\n",
    "    Y = a + b - (c)/2 \n",
    "    return Y"
   ]
  },
  {
   "cell_type": "code",
   "execution_count": 28,
   "id": "c8ded899",
   "metadata": {},
   "outputs": [
    {
     "data": {
      "text/plain": [
       "1.0"
      ]
     },
     "execution_count": 28,
     "metadata": {},
     "output_type": "execute_result"
    }
   ],
   "source": [
    "Y(1,3,6)"
   ]
  },
  {
   "cell_type": "code",
   "execution_count": 33,
   "id": "1e74b86f",
   "metadata": {},
   "outputs": [],
   "source": [
    "def Z (a):\n",
    "    return a**a"
   ]
  },
  {
   "cell_type": "code",
   "execution_count": 34,
   "id": "9d7f0c52",
   "metadata": {},
   "outputs": [
    {
     "data": {
      "text/plain": [
       "3125"
      ]
     },
     "execution_count": 34,
     "metadata": {},
     "output_type": "execute_result"
    }
   ],
   "source": [
    "Z(5)"
   ]
  },
  {
   "cell_type": "code",
   "execution_count": 35,
   "id": "a565d1b9",
   "metadata": {},
   "outputs": [],
   "source": [
    "def D (a,b):\n",
    "    return a+b , a-b"
   ]
  },
  {
   "cell_type": "code",
   "execution_count": 36,
   "id": "2ba6834e",
   "metadata": {},
   "outputs": [
    {
     "data": {
      "text/plain": [
       "(5, -1)"
      ]
     },
     "execution_count": 36,
     "metadata": {},
     "output_type": "execute_result"
    }
   ],
   "source": [
    "D(2,3)"
   ]
  },
  {
   "cell_type": "code",
   "execution_count": 42,
   "id": "4aa3a616",
   "metadata": {},
   "outputs": [],
   "source": [
    "def D (a,b):\n",
    "    sum = a+b\n",
    "    sub = a-b\n",
    "    return sum,sub"
   ]
  },
  {
   "cell_type": "code",
   "execution_count": 43,
   "id": "6ad7f542",
   "metadata": {},
   "outputs": [
    {
     "data": {
      "text/plain": [
       "(5, -1)"
      ]
     },
     "execution_count": 43,
     "metadata": {},
     "output_type": "execute_result"
    }
   ],
   "source": [
    "D(2,3)"
   ]
  },
  {
   "cell_type": "code",
   "execution_count": 2,
   "id": "7b5686a2",
   "metadata": {},
   "outputs": [],
   "source": [
    "def E (a,b):\n",
    "    return 'My name is', a ,'and my age is', b"
   ]
  },
  {
   "cell_type": "code",
   "execution_count": 4,
   "id": "084a108c",
   "metadata": {},
   "outputs": [
    {
     "data": {
      "text/plain": [
       "('My name is', 'Donetra', 'and my age is', 23)"
      ]
     },
     "execution_count": 4,
     "metadata": {},
     "output_type": "execute_result"
    }
   ],
   "source": [
    "E ('Donetra', 23)"
   ]
  },
  {
   "cell_type": "code",
   "execution_count": null,
   "id": "ef8496db",
   "metadata": {},
   "outputs": [],
   "source": []
  }
 ],
 "metadata": {
  "kernelspec": {
   "display_name": "Python 3 (ipykernel)",
   "language": "python",
   "name": "python3"
  },
  "language_info": {
   "codemirror_mode": {
    "name": "ipython",
    "version": 3
   },
   "file_extension": ".py",
   "mimetype": "text/x-python",
   "name": "python",
   "nbconvert_exporter": "python",
   "pygments_lexer": "ipython3",
   "version": "3.9.7"
  }
 },
 "nbformat": 4,
 "nbformat_minor": 5
}

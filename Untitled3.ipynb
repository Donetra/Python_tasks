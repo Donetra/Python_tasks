{
 "cells": [
  {
   "cell_type": "code",
   "execution_count": 13,
   "id": "a8c7eac5",
   "metadata": {},
   "outputs": [],
   "source": [
    "import datetime\n",
    "import pandas as pd\n",
    "import gzip\n",
    "import os\n",
    "from glob import glob\n",
    "from dateutil import parser\n",
    "import concurrent.futures\n",
    "import time as t\n",
    "from multiprocessing import Pool"
   ]
  },
  {
   "cell_type": "code",
   "execution_count": null,
   "id": "3185acf1",
   "metadata": {},
   "outputs": [],
   "source": []
  },
  {
   "cell_type": "code",
   "execution_count": 43,
   "id": "466e55fe",
   "metadata": {},
   "outputs": [],
   "source": [
    "startTime = time.time()\n",
    "def processFile(inputFile):\n",
    "    time.sleep(1)\n",
    "    print(\"Processing\" ,inputFile ,datetime.datetime.now())\n",
    "    data = pd.read_csv(inputFile)\n",
    "    data = data[data[\"Score\"]]\n",
    "    data = data.apply(pd.to_numeric(), errors = 'ignore')\n",
    "    data = data.dropna(how='any', axis=0)\n",
    "    # print(\"Processing\" ,inputFile ,datetime.datetime.now(), data.shape[0])....in place of the bottom code of future\n",
    "    price = 0\n",
    "    count = 0\n",
    "    for index, row in data.iterrows():\n",
    "        price += row['Score']\n",
    "        count += 1\n",
    "    if count >0:\n",
    "        return int(price) / count\n",
    "    elif count == 0:\n",
    "        return 0\n",
    "    else:\n",
    "        return 0\n",
    "    \n",
    "    \n",
    "    \n",
    "    # with mp.Pool(5) as pool:\n",
    "    # print(pool.map(f, [1, 2, 3, 4, 5]))"
   ]
  },
  {
   "cell_type": "code",
   "execution_count": 44,
   "id": "bc369c6b",
   "metadata": {},
   "outputs": [
    {
     "name": "stdout",
     "output_type": "stream",
     "text": [
      "Start 2022-12-02 15:09:29.303703\n",
      "Computing 1 2022-12-02 15:09:29.376409\n",
      "['/Users/donetra/Downloads/F22 5110 Assignment 4 copy/6.csv']\n",
      "Computing 2 2022-12-02 15:09:29.377253\n",
      "['/Users/donetra/Downloads/F22 5110 Assignment 4 copy/6.csv', '/Users/donetra/Downloads/F22 5110 Assignment 4 copy/7.csv']\n",
      "Computing 3 2022-12-02 15:09:29.377361\n",
      "['/Users/donetra/Downloads/F22 5110 Assignment 4 copy/6.csv', '/Users/donetra/Downloads/F22 5110 Assignment 4 copy/7.csv', '/Users/donetra/Downloads/F22 5110 Assignment 4 copy/5.csv']\n",
      "Computing 4 2022-12-02 15:09:29.377508\n",
      "['/Users/donetra/Downloads/F22 5110 Assignment 4 copy/6.csv', '/Users/donetra/Downloads/F22 5110 Assignment 4 copy/7.csv', '/Users/donetra/Downloads/F22 5110 Assignment 4 copy/5.csv', '/Users/donetra/Downloads/F22 5110 Assignment 4 copy/4.csv']\n",
      "Computing 5 2022-12-02 15:09:29.377619\n",
      "['/Users/donetra/Downloads/F22 5110 Assignment 4 copy/6.csv', '/Users/donetra/Downloads/F22 5110 Assignment 4 copy/7.csv', '/Users/donetra/Downloads/F22 5110 Assignment 4 copy/5.csv', '/Users/donetra/Downloads/F22 5110 Assignment 4 copy/4.csv', '/Users/donetra/Downloads/F22 5110 Assignment 4 copy/.DS_Store']\n",
      "Computing 6 2022-12-02 15:09:29.381934\n",
      "['/Users/donetra/Downloads/F22 5110 Assignment 4 copy/6.csv', '/Users/donetra/Downloads/F22 5110 Assignment 4 copy/7.csv', '/Users/donetra/Downloads/F22 5110 Assignment 4 copy/5.csv', '/Users/donetra/Downloads/F22 5110 Assignment 4 copy/4.csv', '/Users/donetra/Downloads/F22 5110 Assignment 4 copy/.DS_Store', '/Users/donetra/Downloads/F22 5110 Assignment 4 copy/1.csv']\n",
      "Computing 7 2022-12-02 15:09:29.382516\n",
      "['/Users/donetra/Downloads/F22 5110 Assignment 4 copy/6.csv', '/Users/donetra/Downloads/F22 5110 Assignment 4 copy/7.csv', '/Users/donetra/Downloads/F22 5110 Assignment 4 copy/5.csv', '/Users/donetra/Downloads/F22 5110 Assignment 4 copy/4.csv', '/Users/donetra/Downloads/F22 5110 Assignment 4 copy/.DS_Store', '/Users/donetra/Downloads/F22 5110 Assignment 4 copy/1.csv', '/Users/donetra/Downloads/F22 5110 Assignment 4 copy/3.csv']\n",
      "Computing 8 2022-12-02 15:09:29.383019\n",
      "['/Users/donetra/Downloads/F22 5110 Assignment 4 copy/6.csv', '/Users/donetra/Downloads/F22 5110 Assignment 4 copy/7.csv', '/Users/donetra/Downloads/F22 5110 Assignment 4 copy/5.csv', '/Users/donetra/Downloads/F22 5110 Assignment 4 copy/4.csv', '/Users/donetra/Downloads/F22 5110 Assignment 4 copy/.DS_Store', '/Users/donetra/Downloads/F22 5110 Assignment 4 copy/1.csv', '/Users/donetra/Downloads/F22 5110 Assignment 4 copy/3.csv', '/Users/donetra/Downloads/F22 5110 Assignment 4 copy/2.csv']\n",
      "Computing 9 2022-12-02 15:09:29.383337\n",
      "['/Users/donetra/Downloads/F22 5110 Assignment 4 copy/6.csv', '/Users/donetra/Downloads/F22 5110 Assignment 4 copy/7.csv', '/Users/donetra/Downloads/F22 5110 Assignment 4 copy/5.csv', '/Users/donetra/Downloads/F22 5110 Assignment 4 copy/4.csv', '/Users/donetra/Downloads/F22 5110 Assignment 4 copy/.DS_Store', '/Users/donetra/Downloads/F22 5110 Assignment 4 copy/1.csv', '/Users/donetra/Downloads/F22 5110 Assignment 4 copy/3.csv', '/Users/donetra/Downloads/F22 5110 Assignment 4 copy/2.csv', '/Users/donetra/Downloads/F22 5110 Assignment 4 copy/15.csv']\n",
      "Computing 10 2022-12-02 15:09:29.383981\n",
      "['/Users/donetra/Downloads/F22 5110 Assignment 4 copy/6.csv', '/Users/donetra/Downloads/F22 5110 Assignment 4 copy/7.csv', '/Users/donetra/Downloads/F22 5110 Assignment 4 copy/5.csv', '/Users/donetra/Downloads/F22 5110 Assignment 4 copy/4.csv', '/Users/donetra/Downloads/F22 5110 Assignment 4 copy/.DS_Store', '/Users/donetra/Downloads/F22 5110 Assignment 4 copy/1.csv', '/Users/donetra/Downloads/F22 5110 Assignment 4 copy/3.csv', '/Users/donetra/Downloads/F22 5110 Assignment 4 copy/2.csv', '/Users/donetra/Downloads/F22 5110 Assignment 4 copy/15.csv', '/Users/donetra/Downloads/F22 5110 Assignment 4 copy/14.csv']\n",
      "Computing 11 2022-12-02 15:09:29.384571\n",
      "['/Users/donetra/Downloads/F22 5110 Assignment 4 copy/6.csv', '/Users/donetra/Downloads/F22 5110 Assignment 4 copy/7.csv', '/Users/donetra/Downloads/F22 5110 Assignment 4 copy/5.csv', '/Users/donetra/Downloads/F22 5110 Assignment 4 copy/4.csv', '/Users/donetra/Downloads/F22 5110 Assignment 4 copy/.DS_Store', '/Users/donetra/Downloads/F22 5110 Assignment 4 copy/1.csv', '/Users/donetra/Downloads/F22 5110 Assignment 4 copy/3.csv', '/Users/donetra/Downloads/F22 5110 Assignment 4 copy/2.csv', '/Users/donetra/Downloads/F22 5110 Assignment 4 copy/15.csv', '/Users/donetra/Downloads/F22 5110 Assignment 4 copy/14.csv', '/Users/donetra/Downloads/F22 5110 Assignment 4 copy/10.csv']\n",
      "Computing 12 2022-12-02 15:09:29.385054\n",
      "['/Users/donetra/Downloads/F22 5110 Assignment 4 copy/6.csv', '/Users/donetra/Downloads/F22 5110 Assignment 4 copy/7.csv', '/Users/donetra/Downloads/F22 5110 Assignment 4 copy/5.csv', '/Users/donetra/Downloads/F22 5110 Assignment 4 copy/4.csv', '/Users/donetra/Downloads/F22 5110 Assignment 4 copy/.DS_Store', '/Users/donetra/Downloads/F22 5110 Assignment 4 copy/1.csv', '/Users/donetra/Downloads/F22 5110 Assignment 4 copy/3.csv', '/Users/donetra/Downloads/F22 5110 Assignment 4 copy/2.csv', '/Users/donetra/Downloads/F22 5110 Assignment 4 copy/15.csv', '/Users/donetra/Downloads/F22 5110 Assignment 4 copy/14.csv', '/Users/donetra/Downloads/F22 5110 Assignment 4 copy/10.csv', '/Users/donetra/Downloads/F22 5110 Assignment 4 copy/11.csv']\n",
      "Computing 13 2022-12-02 15:09:29.385907\n",
      "['/Users/donetra/Downloads/F22 5110 Assignment 4 copy/6.csv', '/Users/donetra/Downloads/F22 5110 Assignment 4 copy/7.csv', '/Users/donetra/Downloads/F22 5110 Assignment 4 copy/5.csv', '/Users/donetra/Downloads/F22 5110 Assignment 4 copy/4.csv', '/Users/donetra/Downloads/F22 5110 Assignment 4 copy/.DS_Store', '/Users/donetra/Downloads/F22 5110 Assignment 4 copy/1.csv', '/Users/donetra/Downloads/F22 5110 Assignment 4 copy/3.csv', '/Users/donetra/Downloads/F22 5110 Assignment 4 copy/2.csv', '/Users/donetra/Downloads/F22 5110 Assignment 4 copy/15.csv', '/Users/donetra/Downloads/F22 5110 Assignment 4 copy/14.csv', '/Users/donetra/Downloads/F22 5110 Assignment 4 copy/10.csv', '/Users/donetra/Downloads/F22 5110 Assignment 4 copy/11.csv', '/Users/donetra/Downloads/F22 5110 Assignment 4 copy/13.csv']\n",
      "Computing 14 2022-12-02 15:09:29.386543\n",
      "['/Users/donetra/Downloads/F22 5110 Assignment 4 copy/6.csv', '/Users/donetra/Downloads/F22 5110 Assignment 4 copy/7.csv', '/Users/donetra/Downloads/F22 5110 Assignment 4 copy/5.csv', '/Users/donetra/Downloads/F22 5110 Assignment 4 copy/4.csv', '/Users/donetra/Downloads/F22 5110 Assignment 4 copy/.DS_Store', '/Users/donetra/Downloads/F22 5110 Assignment 4 copy/1.csv', '/Users/donetra/Downloads/F22 5110 Assignment 4 copy/3.csv', '/Users/donetra/Downloads/F22 5110 Assignment 4 copy/2.csv', '/Users/donetra/Downloads/F22 5110 Assignment 4 copy/15.csv', '/Users/donetra/Downloads/F22 5110 Assignment 4 copy/14.csv', '/Users/donetra/Downloads/F22 5110 Assignment 4 copy/10.csv', '/Users/donetra/Downloads/F22 5110 Assignment 4 copy/11.csv', '/Users/donetra/Downloads/F22 5110 Assignment 4 copy/13.csv', '/Users/donetra/Downloads/F22 5110 Assignment 4 copy/12.csv']\n",
      "Computing 15 2022-12-02 15:09:29.387522\n",
      "['/Users/donetra/Downloads/F22 5110 Assignment 4 copy/6.csv', '/Users/donetra/Downloads/F22 5110 Assignment 4 copy/7.csv', '/Users/donetra/Downloads/F22 5110 Assignment 4 copy/5.csv', '/Users/donetra/Downloads/F22 5110 Assignment 4 copy/4.csv', '/Users/donetra/Downloads/F22 5110 Assignment 4 copy/.DS_Store', '/Users/donetra/Downloads/F22 5110 Assignment 4 copy/1.csv', '/Users/donetra/Downloads/F22 5110 Assignment 4 copy/3.csv', '/Users/donetra/Downloads/F22 5110 Assignment 4 copy/2.csv', '/Users/donetra/Downloads/F22 5110 Assignment 4 copy/15.csv', '/Users/donetra/Downloads/F22 5110 Assignment 4 copy/14.csv', '/Users/donetra/Downloads/F22 5110 Assignment 4 copy/10.csv', '/Users/donetra/Downloads/F22 5110 Assignment 4 copy/11.csv', '/Users/donetra/Downloads/F22 5110 Assignment 4 copy/13.csv', '/Users/donetra/Downloads/F22 5110 Assignment 4 copy/12.csv', '/Users/donetra/Downloads/F22 5110 Assignment 4 copy/9.csv']\n",
      "Computing 16 2022-12-02 15:09:29.388211\n",
      "['/Users/donetra/Downloads/F22 5110 Assignment 4 copy/6.csv', '/Users/donetra/Downloads/F22 5110 Assignment 4 copy/7.csv', '/Users/donetra/Downloads/F22 5110 Assignment 4 copy/5.csv', '/Users/donetra/Downloads/F22 5110 Assignment 4 copy/4.csv', '/Users/donetra/Downloads/F22 5110 Assignment 4 copy/.DS_Store', '/Users/donetra/Downloads/F22 5110 Assignment 4 copy/1.csv', '/Users/donetra/Downloads/F22 5110 Assignment 4 copy/3.csv', '/Users/donetra/Downloads/F22 5110 Assignment 4 copy/2.csv', '/Users/donetra/Downloads/F22 5110 Assignment 4 copy/15.csv', '/Users/donetra/Downloads/F22 5110 Assignment 4 copy/14.csv', '/Users/donetra/Downloads/F22 5110 Assignment 4 copy/10.csv', '/Users/donetra/Downloads/F22 5110 Assignment 4 copy/11.csv', '/Users/donetra/Downloads/F22 5110 Assignment 4 copy/13.csv', '/Users/donetra/Downloads/F22 5110 Assignment 4 copy/12.csv', '/Users/donetra/Downloads/F22 5110 Assignment 4 copy/9.csv', '/Users/donetra/Downloads/F22 5110 Assignment 4 copy/8.csv']\n"
     ]
    }
   ],
   "source": [
    "results = []\n",
    "avgPrice = []\n",
    "if __name__ == '__main__':\n",
    "    print(\"Start\", datetime.datetime.now())\n",
    "    inputFiles = []\n",
    "    for eachFile in os.listdir(\"/Users/donetra/Downloads/F22 5110 Assignment 4 copy/\"):\n",
    "        inputFiles.append(\"/Users/donetra/Downloads/F22 5110 Assignment 4 copy/\" + eachFile)\n",
    "        print(\"Computing\", len(inputFiles), datetime.datetime.now())\n",
    "        print(inputFiles)\n",
    "    with concurrent.futures.ProcessPoolExecutor(max_workers=1) as executor:\n",
    "        \n",
    "        results = [(executor.submit(processFile,inputFile) for inputFile in inputFiles)]"
   ]
  },
  {
   "cell_type": "code",
   "execution_count": 47,
   "id": "85d45738",
   "metadata": {},
   "outputs": [
    {
     "name": "stdout",
     "output_type": "stream",
     "text": [
      "<generator object <genexpr> at 0x7fb0f020c430>\n",
      "<class 'list'> <class 'generator'>\n",
      "[<class 'int'>, <generator object <genexpr> at 0x7fb0f020c430>]\n"
     ]
    },
    {
     "ename": "TypeError",
     "evalue": "unsupported operand type(s) for +: 'int' and 'type'",
     "output_type": "error",
     "traceback": [
      "\u001b[0;31m---------------------------------------------------------------------------\u001b[0m",
      "\u001b[0;31mTypeError\u001b[0m                                 Traceback (most recent call last)",
      "\u001b[0;32m/var/folders/bg/77tnqfd51m57vg3m6wcsh_s40000gn/T/ipykernel_11095/2322333345.py\u001b[0m in \u001b[0;36m<module>\u001b[0;34m\u001b[0m\n\u001b[1;32m      7\u001b[0m \u001b[0mprint\u001b[0m\u001b[0;34m(\u001b[0m\u001b[0mtype\u001b[0m\u001b[0;34m(\u001b[0m\u001b[0mavgPrice\u001b[0m\u001b[0;34m)\u001b[0m\u001b[0;34m,\u001b[0m \u001b[0mtype\u001b[0m\u001b[0;34m(\u001b[0m\u001b[0mi\u001b[0m \u001b[0;32mfor\u001b[0m \u001b[0mi\u001b[0m \u001b[0;32min\u001b[0m \u001b[0mavgPrice\u001b[0m\u001b[0;34m)\u001b[0m\u001b[0;34m)\u001b[0m\u001b[0;34m\u001b[0m\u001b[0;34m\u001b[0m\u001b[0m\n\u001b[1;32m      8\u001b[0m \u001b[0mprint\u001b[0m\u001b[0;34m(\u001b[0m\u001b[0mavgPrice\u001b[0m\u001b[0;34m)\u001b[0m\u001b[0;34m\u001b[0m\u001b[0;34m\u001b[0m\u001b[0m\n\u001b[0;32m----> 9\u001b[0;31m \u001b[0mprint\u001b[0m\u001b[0;34m(\u001b[0m\u001b[0msum\u001b[0m\u001b[0;34m(\u001b[0m\u001b[0mavgPrice\u001b[0m\u001b[0;34m)\u001b[0m\u001b[0;34m)\u001b[0m\u001b[0;34m\u001b[0m\u001b[0;34m\u001b[0m\u001b[0m\n\u001b[0m",
      "\u001b[0;31mTypeError\u001b[0m: unsupported operand type(s) for +: 'int' and 'type'"
     ]
    }
   ],
   "source": [
    "\n",
    "\n",
    "\n",
    "for future in results:\n",
    "    result = future\n",
    "    print(future)\n",
    "    avgPrice.append(result)\n",
    "\n",
    "\n",
    "print(type(avgPrice), type(i for i in avgPrice))\n",
    "print(avgPrice)\n",
    "print(sum(avgPrice))"
   ]
  },
  {
   "cell_type": "code",
   "execution_count": null,
   "id": "3df26b31",
   "metadata": {},
   "outputs": [],
   "source": []
  }
 ],
 "metadata": {
  "kernelspec": {
   "display_name": "Python 3 (ipykernel)",
   "language": "python",
   "name": "python3"
  },
  "language_info": {
   "codemirror_mode": {
    "name": "ipython",
    "version": 3
   },
   "file_extension": ".py",
   "mimetype": "text/x-python",
   "name": "python",
   "nbconvert_exporter": "python",
   "pygments_lexer": "ipython3",
   "version": "3.9.7"
  }
 },
 "nbformat": 4,
 "nbformat_minor": 5
}

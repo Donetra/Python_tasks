{
 "cells": [
  {
   "cell_type": "code",
   "execution_count": 1,
   "id": "eca4b59d",
   "metadata": {},
   "outputs": [
    {
     "data": {
      "text/plain": [
       "True"
      ]
     },
     "execution_count": 1,
     "metadata": {},
     "output_type": "execute_result"
    }
   ],
   "source": [
    "# 1. Check if a list contains an element\n",
    "\n",
    "l1 = [1,2,3,'a','b','c']\n",
    "'a' in l1"
   ]
  },
  {
   "cell_type": "code",
   "execution_count": 5,
   "id": "9d05fd0c",
   "metadata": {},
   "outputs": [
    {
     "name": "stdout",
     "output_type": "stream",
     "text": [
      "Present\n"
     ]
    }
   ],
   "source": [
    "l1 = ['a','b','c']\n",
    "for i in l1:\n",
    "    if 'a' in i:\n",
    "        print('Present')"
   ]
  },
  {
   "cell_type": "code",
   "execution_count": 44,
   "id": "7f0fece9",
   "metadata": {},
   "outputs": [
    {
     "data": {
      "text/plain": [
       "0"
      ]
     },
     "execution_count": 44,
     "metadata": {},
     "output_type": "execute_result"
    }
   ],
   "source": [
    "# 2. Find the index of the 1st matching element\n",
    "\n",
    "l2 = ['apple', 'grapefruit', 'apple', 'pear']\n",
    "l2.index('apple')"
   ]
  },
  {
   "cell_type": "code",
   "execution_count": 14,
   "id": "80dc297a",
   "metadata": {},
   "outputs": [
    {
     "name": "stdout",
     "output_type": "stream",
     "text": [
      "0: a\n",
      "1: b\n",
      "2: c\n"
     ]
    }
   ],
   "source": [
    "# 3. Iterate over both the values in a list and their indices\n",
    "\n",
    "l3 = ['a','b','c']\n",
    "for idx,val in enumerate(l3):\n",
    "    print(\"%s: %s\" % (idx, val))\n",
    "    \n",
    "#=> 0: flour\n",
    "#=> 1: cheese\n",
    "#=> 2: carrots"
   ]
  },
  {
   "cell_type": "code",
   "execution_count": 15,
   "id": "72e59cc2",
   "metadata": {},
   "outputs": [
    {
     "data": {
      "text/plain": [
       "['a', 'b', 'c', 1, 2, 3]"
      ]
     },
     "execution_count": 15,
     "metadata": {},
     "output_type": "execute_result"
    }
   ],
   "source": [
    "# 4. How to concatenate two lists\n",
    "\n",
    "l4 = ['a', 'b', 'c']\n",
    "l5 = [1, 2, 3]\n",
    "l4 + l5 #=> ['a', 'b', 'c', 1, 2, 3]"
   ]
  },
  {
   "cell_type": "code",
   "execution_count": 17,
   "id": "fb19a33b",
   "metadata": {},
   "outputs": [
    {
     "name": "stdout",
     "output_type": "stream",
     "text": [
      "['a', 'b', 'c', 1, 2, 3, 1, 2, 3]\n"
     ]
    }
   ],
   "source": [
    "l4.extend(l5)\n",
    "print(l4)"
   ]
  },
  {
   "cell_type": "code",
   "execution_count": 18,
   "id": "7052a9f1",
   "metadata": {},
   "outputs": [
    {
     "data": {
      "text/plain": [
       "[1, 26, 51, 101]"
      ]
     },
     "execution_count": 18,
     "metadata": {},
     "output_type": "execute_result"
    }
   ],
   "source": [
    "# 5. How to manipulate every element in a list with list comprehension\n",
    "\n",
    "l6 = [0,25,50,100]\n",
    "[i+1 for i in l6] \n",
    "#=> [1, 26, 51, 101]"
   ]
  },
  {
   "cell_type": "code",
   "execution_count": 19,
   "id": "a5a7147e",
   "metadata": {},
   "outputs": [
    {
     "name": "stdout",
     "output_type": "stream",
     "text": [
      "1\n",
      "26\n",
      "51\n",
      "101\n"
     ]
    }
   ],
   "source": [
    "for i in l6:\n",
    "    print(i+1)"
   ]
  },
  {
   "cell_type": "code",
   "execution_count": 20,
   "id": "d7d4a862",
   "metadata": {},
   "outputs": [
    {
     "data": {
      "text/plain": [
       "4"
      ]
     },
     "execution_count": 20,
     "metadata": {},
     "output_type": "execute_result"
    }
   ],
   "source": [
    "# 6. Count the occurrence of a specific object in a list\n",
    "\n",
    "l7 = ['a','a','a','a','b','b','b',1,2,3,1,2,3,1,2,3,1,2,3,1,2,3,1,2,3]\n",
    "l7.count('a')\n",
    "#=> 2"
   ]
  },
  {
   "cell_type": "code",
   "execution_count": 21,
   "id": "481b73e4",
   "metadata": {},
   "outputs": [],
   "source": [
    "for i in l7:\n",
    "    l7.count(i)"
   ]
  },
  {
   "cell_type": "code",
   "execution_count": 23,
   "id": "67bd1b76",
   "metadata": {},
   "outputs": [
    {
     "data": {
      "text/plain": [
       "False"
      ]
     },
     "execution_count": 23,
     "metadata": {},
     "output_type": "execute_result"
    }
   ],
   "source": [
    "# 7. How to check if an element is not in a list?\n",
    "\n",
    "l8 = ['q','w','e','r','t','y']\n",
    "'h' in l8"
   ]
  },
  {
   "cell_type": "code",
   "execution_count": 26,
   "id": "ea691df9",
   "metadata": {},
   "outputs": [
    {
     "data": {
      "text/plain": [
       "{'a', 'b', 'c', 'd', 'e', 'f'}"
      ]
     },
     "execution_count": 26,
     "metadata": {},
     "output_type": "execute_result"
    }
   ],
   "source": [
    "# 8. Convert a list into a dictionary where list elements are keys\n",
    "\n",
    "l9 = ['a','b','c','d','e','f']\n",
    "d = {x for x in l9}\n",
    "d #=> {'The': 1, 'quick': 1, 'brown': 1, 'fox': 1, 'was': 1}"
   ]
  },
  {
   "cell_type": "code",
   "execution_count": 28,
   "id": "49837976",
   "metadata": {},
   "outputs": [
    {
     "data": {
      "text/plain": [
       "{'a': 1, 'b': 1, 'c': 1, 'd': 1, 'e': 1, 'f': 1}"
      ]
     },
     "execution_count": 28,
     "metadata": {},
     "output_type": "execute_result"
    }
   ],
   "source": [
    "d1={x:1 for x in l9}\n",
    "d1"
   ]
  },
  {
   "cell_type": "code",
   "execution_count": 30,
   "id": "3f4b9d88",
   "metadata": {},
   "outputs": [
    {
     "data": {
      "text/plain": [
       "[2, 4, 6, 8, 10, 12, 14, 16]"
      ]
     },
     "execution_count": 30,
     "metadata": {},
     "output_type": "execute_result"
    }
   ],
   "source": [
    "# 9. Return every 2nd element in a list between 2 indices\n",
    "\n",
    "l10 = [1,2,3,4,5,6,7,8,9,10,11,12,13,14,15,16,17,18,19,10]\n",
    "l10[1:16:2]"
   ]
  },
  {
   "cell_type": "code",
   "execution_count": 38,
   "id": "3f62014d",
   "metadata": {},
   "outputs": [
    {
     "data": {
      "text/plain": [
       "[1, 2, 3, 4, 5, 6, 7, 8, 9, 10]"
      ]
     },
     "execution_count": 38,
     "metadata": {},
     "output_type": "execute_result"
    }
   ],
   "source": [
    "# 10. Sort a list of integers in descending order\n",
    "\n",
    "l11 = [10,1,9,2,8,3,7,4,6,5]\n",
    "l11.sort()\n",
    "l11"
   ]
  },
  {
   "cell_type": "code",
   "execution_count": 34,
   "id": "97cb629b",
   "metadata": {},
   "outputs": [
    {
     "data": {
      "text/plain": [
       "[10, 9, 8, 7, 6, 5, 4, 3, 2, 1]"
      ]
     },
     "execution_count": 34,
     "metadata": {},
     "output_type": "execute_result"
    }
   ],
   "source": [
    "l11.sort(reverse=True)\n",
    "l11"
   ]
  },
  {
   "cell_type": "code",
   "execution_count": 41,
   "id": "57176762",
   "metadata": {},
   "outputs": [
    {
     "data": {
      "text/plain": [
       "[1, 3, 5, 7, 9]"
      ]
     },
     "execution_count": 41,
     "metadata": {},
     "output_type": "execute_result"
    }
   ],
   "source": [
    "# 11. Filter even values out of a list with list comprehension\n",
    "\n",
    "l12 = [1,2,3,4,5,6,7,8,9,10]\n",
    "[i for i in l12 if i%2!=0]"
   ]
  },
  {
   "cell_type": "code",
   "execution_count": 42,
   "id": "dde278cc",
   "metadata": {},
   "outputs": [
    {
     "name": "stdout",
     "output_type": "stream",
     "text": [
      "1\n",
      "3\n",
      "5\n",
      "7\n",
      "9\n"
     ]
    }
   ],
   "source": [
    "for i in l12:\n",
    "    if i%2!=0:\n",
    "        print(i)"
   ]
  },
  {
   "cell_type": "code",
   "execution_count": null,
   "id": "1bb47cf6",
   "metadata": {},
   "outputs": [],
   "source": []
  }
 ],
 "metadata": {
  "kernelspec": {
   "display_name": "Python 3 (ipykernel)",
   "language": "python",
   "name": "python3"
  },
  "language_info": {
   "codemirror_mode": {
    "name": "ipython",
    "version": 3
   },
   "file_extension": ".py",
   "mimetype": "text/x-python",
   "name": "python",
   "nbconvert_exporter": "python",
   "pygments_lexer": "ipython3",
   "version": "3.9.7"
  }
 },
 "nbformat": 4,
 "nbformat_minor": 5
}

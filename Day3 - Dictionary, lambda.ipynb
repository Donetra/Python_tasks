{
 "cells": [
  {
   "cell_type": "markdown",
   "id": "a63e25a7",
   "metadata": {},
   "source": [
    "# Dictionary"
   ]
  },
  {
   "cell_type": "markdown",
   "id": "e3c4c388",
   "metadata": {},
   "source": [
    "Dictionaries are used to store data values in key : value pair"
   ]
  },
  {
   "cell_type": "markdown",
   "id": "281b10f0",
   "metadata": {},
   "source": [
    "Dictionay is a collection which is ordered, cangeable and do not allow duplicates."
   ]
  },
  {
   "cell_type": "code",
   "execution_count": 1,
   "id": "09fd8e1b",
   "metadata": {},
   "outputs": [],
   "source": [
    "A = {\n",
    "    1:100,\n",
    "    2:200,\n",
    "    3:300\n",
    "}"
   ]
  },
  {
   "cell_type": "code",
   "execution_count": 3,
   "id": "ef33c821",
   "metadata": {},
   "outputs": [
    {
     "name": "stdout",
     "output_type": "stream",
     "text": [
      "{1: 100, 2: 200, 3: 300}\n"
     ]
    }
   ],
   "source": [
    "print(A)\n"
   ]
  },
  {
   "cell_type": "code",
   "execution_count": 15,
   "id": "7f205d7f",
   "metadata": {},
   "outputs": [],
   "source": [
    "B = {\n",
    "    'Daughter' : \"Donetra\",\n",
    "    \"Son\" : \"Kundan\",\n",
    "    \"Wife\" : \"Madhuri\"\n",
    "}"
   ]
  },
  {
   "cell_type": "code",
   "execution_count": 16,
   "id": "8a36dbd3",
   "metadata": {},
   "outputs": [
    {
     "name": "stdout",
     "output_type": "stream",
     "text": [
      "{'Daughter': 'Donetra', 'Son': 'Kundan', 'Wife': 'Madhuri'}\n"
     ]
    }
   ],
   "source": [
    "print(B)"
   ]
  },
  {
   "cell_type": "code",
   "execution_count": 8,
   "id": "c326e7e6",
   "metadata": {},
   "outputs": [],
   "source": [
    "C = {\n",
    "    'a' :1,\n",
    "    'b' :2\n",
    "}"
   ]
  },
  {
   "cell_type": "code",
   "execution_count": 9,
   "id": "bf0712f4",
   "metadata": {},
   "outputs": [
    {
     "name": "stdout",
     "output_type": "stream",
     "text": [
      "{'a': 1, 'b': 2}\n"
     ]
    }
   ],
   "source": [
    "print(C)"
   ]
  },
  {
   "cell_type": "code",
   "execution_count": 17,
   "id": "78aac988",
   "metadata": {},
   "outputs": [],
   "source": [
    "D={\n",
    "    1:'Donetra',\n",
    "    2:'Lanjewar'\n",
    "}"
   ]
  },
  {
   "cell_type": "code",
   "execution_count": 18,
   "id": "7d99d49a",
   "metadata": {},
   "outputs": [
    {
     "name": "stdout",
     "output_type": "stream",
     "text": [
      "{1: 'Donetra', 2: 'Lanjewar'}\n"
     ]
    }
   ],
   "source": [
    "print(D)"
   ]
  },
  {
   "cell_type": "code",
   "execution_count": 19,
   "id": "d53be54b",
   "metadata": {},
   "outputs": [
    {
     "data": {
      "text/plain": [
       "dict_keys(['Daughter', 'Son', 'Wife'])"
      ]
     },
     "execution_count": 19,
     "metadata": {},
     "output_type": "execute_result"
    }
   ],
   "source": [
    "A.keys()"
   ]
  },
  {
   "cell_type": "code",
   "execution_count": 20,
   "id": "dc30717c",
   "metadata": {},
   "outputs": [
    {
     "data": {
      "text/plain": [
       "dict_keys(['Daughter', 'Son', 'Wife'])"
      ]
     },
     "execution_count": 20,
     "metadata": {},
     "output_type": "execute_result"
    }
   ],
   "source": [
    "B.keys()"
   ]
  },
  {
   "cell_type": "code",
   "execution_count": 21,
   "id": "ca550863",
   "metadata": {},
   "outputs": [
    {
     "data": {
      "text/plain": [
       "dict_keys(['a', 'b'])"
      ]
     },
     "execution_count": 21,
     "metadata": {},
     "output_type": "execute_result"
    }
   ],
   "source": [
    "C.keys()"
   ]
  },
  {
   "cell_type": "code",
   "execution_count": 23,
   "id": "bdc3403b",
   "metadata": {},
   "outputs": [
    {
     "data": {
      "text/plain": [
       "dict_keys([1, 2])"
      ]
     },
     "execution_count": 23,
     "metadata": {},
     "output_type": "execute_result"
    }
   ],
   "source": [
    "D.keys()"
   ]
  },
  {
   "cell_type": "code",
   "execution_count": 24,
   "id": "e00ba075",
   "metadata": {},
   "outputs": [
    {
     "data": {
      "text/plain": [
       "dict_values(['Donetra', 'Kundan', 'Madhuri'])"
      ]
     },
     "execution_count": 24,
     "metadata": {},
     "output_type": "execute_result"
    }
   ],
   "source": [
    "A.values()"
   ]
  },
  {
   "cell_type": "code",
   "execution_count": 25,
   "id": "5d4ed199",
   "metadata": {},
   "outputs": [
    {
     "data": {
      "text/plain": [
       "dict_values(['Donetra', 'Kundan', 'Madhuri'])"
      ]
     },
     "execution_count": 25,
     "metadata": {},
     "output_type": "execute_result"
    }
   ],
   "source": [
    "B.values()"
   ]
  },
  {
   "cell_type": "code",
   "execution_count": 26,
   "id": "9ae65172",
   "metadata": {},
   "outputs": [
    {
     "data": {
      "text/plain": [
       "dict_values([1, 2])"
      ]
     },
     "execution_count": 26,
     "metadata": {},
     "output_type": "execute_result"
    }
   ],
   "source": [
    "C.values()"
   ]
  },
  {
   "cell_type": "code",
   "execution_count": 27,
   "id": "82dcfdfb",
   "metadata": {},
   "outputs": [
    {
     "data": {
      "text/plain": [
       "dict_values(['Donetra', 'Lanjewar'])"
      ]
     },
     "execution_count": 27,
     "metadata": {},
     "output_type": "execute_result"
    }
   ],
   "source": [
    "D.values()"
   ]
  },
  {
   "cell_type": "code",
   "execution_count": 30,
   "id": "245e2d35",
   "metadata": {},
   "outputs": [],
   "source": [
    "E = {'a' :10,\n",
    "     'b':2,\n",
    "     'c':3\n",
    "    }"
   ]
  },
  {
   "cell_type": "code",
   "execution_count": 31,
   "id": "b6db6f13",
   "metadata": {},
   "outputs": [
    {
     "data": {
      "text/plain": [
       "'Donetra'"
      ]
     },
     "execution_count": 31,
     "metadata": {},
     "output_type": "execute_result"
    }
   ],
   "source": [
    "B['Daughter']"
   ]
  },
  {
   "cell_type": "code",
   "execution_count": 37,
   "id": "4d137246",
   "metadata": {},
   "outputs": [],
   "source": [
    "B['Daughter'] = 'Kaumudi'"
   ]
  },
  {
   "cell_type": "code",
   "execution_count": 38,
   "id": "1c472a3e",
   "metadata": {},
   "outputs": [
    {
     "data": {
      "text/plain": [
       "'Kaumudi'"
      ]
     },
     "execution_count": 38,
     "metadata": {},
     "output_type": "execute_result"
    }
   ],
   "source": [
    "B['Daughter']"
   ]
  },
  {
   "cell_type": "code",
   "execution_count": 39,
   "id": "4c64ec42",
   "metadata": {},
   "outputs": [
    {
     "name": "stdout",
     "output_type": "stream",
     "text": [
      "{'Daughter': 'Kaumudi', 'Son': 'Kundan', 'Wife': 'Madhuri'}\n"
     ]
    }
   ],
   "source": [
    "print(B)"
   ]
  },
  {
   "cell_type": "code",
   "execution_count": 41,
   "id": "06ee32d1",
   "metadata": {},
   "outputs": [
    {
     "data": {
      "text/plain": [
       "2"
      ]
     },
     "execution_count": 41,
     "metadata": {},
     "output_type": "execute_result"
    }
   ],
   "source": [
    "E['b']"
   ]
  },
  {
   "cell_type": "code",
   "execution_count": 42,
   "id": "475d379a",
   "metadata": {},
   "outputs": [
    {
     "data": {
      "text/plain": [
       "3"
      ]
     },
     "execution_count": 42,
     "metadata": {},
     "output_type": "execute_result"
    }
   ],
   "source": [
    "E['c']"
   ]
  },
  {
   "cell_type": "code",
   "execution_count": 43,
   "id": "b58a78b9",
   "metadata": {},
   "outputs": [],
   "source": [
    "E['c'] = 30"
   ]
  },
  {
   "cell_type": "code",
   "execution_count": 44,
   "id": "335da4c4",
   "metadata": {},
   "outputs": [],
   "source": [
    "E['b']=20"
   ]
  },
  {
   "cell_type": "code",
   "execution_count": 45,
   "id": "09fc6836",
   "metadata": {},
   "outputs": [
    {
     "name": "stdout",
     "output_type": "stream",
     "text": [
      "{'a': 10, 'b': 20, 'c': 30}\n"
     ]
    }
   ],
   "source": [
    "print(E)"
   ]
  },
  {
   "cell_type": "code",
   "execution_count": 46,
   "id": "f79e8462",
   "metadata": {},
   "outputs": [],
   "source": [
    "F={\n",
    "    'a':5+5,\n",
    "    'b': 10+10,\n",
    "    'c':15+15\n",
    "}"
   ]
  },
  {
   "cell_type": "code",
   "execution_count": 48,
   "id": "0bc83648",
   "metadata": {},
   "outputs": [
    {
     "name": "stdout",
     "output_type": "stream",
     "text": [
      "{'a': 10, 'b': 20, 'c': 30}\n"
     ]
    }
   ],
   "source": [
    "print(F)"
   ]
  },
  {
   "cell_type": "code",
   "execution_count": 49,
   "id": "32fd590c",
   "metadata": {},
   "outputs": [],
   "source": [
    "B['Me']='Hemraj'"
   ]
  },
  {
   "cell_type": "code",
   "execution_count": 50,
   "id": "6c0143f1",
   "metadata": {},
   "outputs": [
    {
     "name": "stdout",
     "output_type": "stream",
     "text": [
      "{'Daughter': 'Kaumudi', 'Son': 'Kundan', 'Wife': 'Madhuri', 'Me': 'Hemraj'}\n"
     ]
    }
   ],
   "source": [
    "print(B)"
   ]
  },
  {
   "cell_type": "code",
   "execution_count": 51,
   "id": "fc3e50ed",
   "metadata": {},
   "outputs": [],
   "source": [
    "E['d']=40"
   ]
  },
  {
   "cell_type": "code",
   "execution_count": 52,
   "id": "c3725172",
   "metadata": {},
   "outputs": [
    {
     "name": "stdout",
     "output_type": "stream",
     "text": [
      "{'a': 10, 'b': 20, 'c': 30, 'd': 40}\n"
     ]
    }
   ],
   "source": [
    "print(E)"
   ]
  },
  {
   "cell_type": "code",
   "execution_count": 20,
   "id": "655a67ec",
   "metadata": {},
   "outputs": [],
   "source": [
    "Olx ={\n",
    "    'brand' : 'Symphony',\n",
    "    'item type' : 'Room cooler',\n",
    "    'Water capacity' : '12L',\n",
    "    'year_purchase' : 2019,\n",
    "    }"
   ]
  },
  {
   "cell_type": "code",
   "execution_count": 21,
   "id": "7f25629e",
   "metadata": {},
   "outputs": [
    {
     "name": "stdout",
     "output_type": "stream",
     "text": [
      "{'brand': 'Symphony', 'item type': 'Room cooler', 'Water capacity': '12L', 'year_purchase': 2019}\n"
     ]
    }
   ],
   "source": [
    "print(Olx)"
   ]
  },
  {
   "cell_type": "code",
   "execution_count": 22,
   "id": "6a3a86d3",
   "metadata": {},
   "outputs": [],
   "source": [
    "Olx['car_owner']= 'abc'"
   ]
  },
  {
   "cell_type": "code",
   "execution_count": 11,
   "id": "0f8b787a",
   "metadata": {},
   "outputs": [
    {
     "name": "stdout",
     "output_type": "stream",
     "text": [
      "{'brand': 'Symphony', 'item type': 'Room cooler', 'Water capacity': '12L', 'year_purchase': 2019, 'car_owner': 'abc'}\n"
     ]
    }
   ],
   "source": [
    "print(Olx)"
   ]
  },
  {
   "cell_type": "code",
   "execution_count": 12,
   "id": "3289872e",
   "metadata": {},
   "outputs": [],
   "source": [
    "H ={\n",
    "    'brand' : 'KIA',\n",
    "    'car_name' : 'ABC'\n",
    "}"
   ]
  },
  {
   "cell_type": "code",
   "execution_count": 13,
   "id": "8efeb678",
   "metadata": {},
   "outputs": [
    {
     "name": "stdout",
     "output_type": "stream",
     "text": [
      "{'brand': 'KIA', 'car_name': 'ABC'}\n"
     ]
    }
   ],
   "source": [
    "print(H)"
   ]
  },
  {
   "cell_type": "code",
   "execution_count": 38,
   "id": "0d6a2a38",
   "metadata": {},
   "outputs": [],
   "source": [
    "I={\n",
    "    'brand':'Honda',\n",
    "    'car_name':'City',\n",
    "    'year_purchase': 2008,\n",
    "    'owner_name': 'abe'\n",
    "}"
   ]
  },
  {
   "cell_type": "code",
   "execution_count": 39,
   "id": "68e3b81b",
   "metadata": {},
   "outputs": [],
   "source": [
    "I.update(H)"
   ]
  },
  {
   "cell_type": "code",
   "execution_count": 40,
   "id": "c6addc6a",
   "metadata": {},
   "outputs": [
    {
     "name": "stdout",
     "output_type": "stream",
     "text": [
      "{'brand': 'KIA', 'car_name': 'ABC', 'year_purchase': 2008, 'owner_name': 'abe'}\n"
     ]
    }
   ],
   "source": [
    "print(I)"
   ]
  },
  {
   "cell_type": "code",
   "execution_count": 41,
   "id": "ecf0239c",
   "metadata": {},
   "outputs": [],
   "source": [
    "I['owner_name']='XYZ'"
   ]
  },
  {
   "cell_type": "code",
   "execution_count": 42,
   "id": "7f9433b6",
   "metadata": {},
   "outputs": [],
   "source": [
    "I.update(H)"
   ]
  },
  {
   "cell_type": "code",
   "execution_count": 43,
   "id": "24d9ce95",
   "metadata": {},
   "outputs": [
    {
     "name": "stdout",
     "output_type": "stream",
     "text": [
      "{'brand': 'KIA', 'car_name': 'ABC', 'year_purchase': 2008, 'owner_name': 'XYZ'}\n"
     ]
    }
   ],
   "source": [
    "print(I)"
   ]
  },
  {
   "cell_type": "code",
   "execution_count": 44,
   "id": "6f5abc3f",
   "metadata": {},
   "outputs": [],
   "source": [
    "del I['year_purchase']"
   ]
  },
  {
   "cell_type": "code",
   "execution_count": 45,
   "id": "0119ced3",
   "metadata": {},
   "outputs": [
    {
     "name": "stdout",
     "output_type": "stream",
     "text": [
      "{'brand': 'KIA', 'car_name': 'ABC', 'owner_name': 'XYZ'}\n"
     ]
    }
   ],
   "source": [
    "print(I)"
   ]
  },
  {
   "cell_type": "code",
   "execution_count": 46,
   "id": "d611d82e",
   "metadata": {},
   "outputs": [
    {
     "data": {
      "text/plain": [
       "{'brand': 'KIA', 'car_name': 'ABC', 'owner_name': 'XYZ'}"
      ]
     },
     "execution_count": 46,
     "metadata": {},
     "output_type": "execute_result"
    }
   ],
   "source": [
    "I"
   ]
  },
  {
   "cell_type": "code",
   "execution_count": 47,
   "id": "d76c2d04",
   "metadata": {},
   "outputs": [],
   "source": [
    "I.clear()"
   ]
  },
  {
   "cell_type": "code",
   "execution_count": 48,
   "id": "487af50c",
   "metadata": {},
   "outputs": [
    {
     "data": {
      "text/plain": [
       "{}"
      ]
     },
     "execution_count": 48,
     "metadata": {},
     "output_type": "execute_result"
    }
   ],
   "source": [
    "I"
   ]
  },
  {
   "cell_type": "code",
   "execution_count": 49,
   "id": "ece0f252",
   "metadata": {},
   "outputs": [],
   "source": [
    "del I"
   ]
  },
  {
   "cell_type": "code",
   "execution_count": 50,
   "id": "77d4d799",
   "metadata": {},
   "outputs": [
    {
     "ename": "NameError",
     "evalue": "name 'I' is not defined",
     "output_type": "error",
     "traceback": [
      "\u001b[0;31m---------------------------------------------------------------------------\u001b[0m",
      "\u001b[0;31mNameError\u001b[0m                                 Traceback (most recent call last)",
      "\u001b[0;32m/var/folders/bg/77tnqfd51m57vg3m6wcsh_s40000gn/T/ipykernel_898/3192738970.py\u001b[0m in \u001b[0;36m<module>\u001b[0;34m\u001b[0m\n\u001b[0;32m----> 1\u001b[0;31m \u001b[0mI\u001b[0m\u001b[0;34m\u001b[0m\u001b[0;34m\u001b[0m\u001b[0m\n\u001b[0m",
      "\u001b[0;31mNameError\u001b[0m: name 'I' is not defined"
     ]
    }
   ],
   "source": [
    "I"
   ]
  },
  {
   "cell_type": "markdown",
   "id": "7e1ff5dc",
   "metadata": {},
   "source": [
    "# Lambda"
   ]
  },
  {
   "cell_type": "code",
   "execution_count": 1,
   "id": "c687db60",
   "metadata": {},
   "outputs": [
    {
     "data": {
      "text/plain": [
       "<function __main__.<lambda>(x)>"
      ]
     },
     "execution_count": 1,
     "metadata": {},
     "output_type": "execute_result"
    }
   ],
   "source": [
    "lambda x:x-4"
   ]
  },
  {
   "cell_type": "code",
   "execution_count": 4,
   "id": "f88f5cac",
   "metadata": {},
   "outputs": [],
   "source": [
    "a = lambda x:x-4"
   ]
  },
  {
   "cell_type": "code",
   "execution_count": 5,
   "id": "349ea1a3",
   "metadata": {},
   "outputs": [
    {
     "data": {
      "text/plain": [
       "6"
      ]
     },
     "execution_count": 5,
     "metadata": {},
     "output_type": "execute_result"
    }
   ],
   "source": [
    "a(10)"
   ]
  },
  {
   "cell_type": "code",
   "execution_count": 6,
   "id": "1638168f",
   "metadata": {},
   "outputs": [],
   "source": [
    "b = lambda y:y+6-1"
   ]
  },
  {
   "cell_type": "code",
   "execution_count": 7,
   "id": "3d3e9dad",
   "metadata": {},
   "outputs": [
    {
     "data": {
      "text/plain": [
       "6"
      ]
     },
     "execution_count": 7,
     "metadata": {},
     "output_type": "execute_result"
    }
   ],
   "source": [
    "b(1)"
   ]
  },
  {
   "cell_type": "code",
   "execution_count": 10,
   "id": "0e5bb8f2",
   "metadata": {},
   "outputs": [],
   "source": [
    "c = lambda z:z*2*(3+8-z)"
   ]
  },
  {
   "cell_type": "code",
   "execution_count": 11,
   "id": "2839794a",
   "metadata": {},
   "outputs": [
    {
     "data": {
      "text/plain": [
       "60"
      ]
     },
     "execution_count": 11,
     "metadata": {},
     "output_type": "execute_result"
    }
   ],
   "source": [
    "c(5)"
   ]
  },
  {
   "cell_type": "code",
   "execution_count": 12,
   "id": "c70feb60",
   "metadata": {},
   "outputs": [],
   "source": [
    "d=lambda i,j,k:i+j+k"
   ]
  },
  {
   "cell_type": "code",
   "execution_count": 13,
   "id": "3a734764",
   "metadata": {},
   "outputs": [
    {
     "data": {
      "text/plain": [
       "15"
      ]
     },
     "execution_count": 13,
     "metadata": {},
     "output_type": "execute_result"
    }
   ],
   "source": [
    "d(4,2,9)"
   ]
  },
  {
   "cell_type": "code",
   "execution_count": 14,
   "id": "df596942",
   "metadata": {},
   "outputs": [],
   "source": [
    "d=lambda i,j,k:i+j-k"
   ]
  },
  {
   "cell_type": "code",
   "execution_count": 15,
   "id": "cda58cb2",
   "metadata": {},
   "outputs": [
    {
     "data": {
      "text/plain": [
       "7"
      ]
     },
     "execution_count": 15,
     "metadata": {},
     "output_type": "execute_result"
    }
   ],
   "source": [
    "d(3,7,3)"
   ]
  },
  {
   "cell_type": "code",
   "execution_count": 16,
   "id": "bd30a3b8",
   "metadata": {},
   "outputs": [],
   "source": [
    "d=lambda i,j,k : i*j+k"
   ]
  },
  {
   "cell_type": "code",
   "execution_count": 17,
   "id": "7ae8ebe8",
   "metadata": {},
   "outputs": [
    {
     "data": {
      "text/plain": [
       "224"
      ]
     },
     "execution_count": 17,
     "metadata": {},
     "output_type": "execute_result"
    }
   ],
   "source": [
    "d(73,3,5)"
   ]
  },
  {
   "cell_type": "code",
   "execution_count": 18,
   "id": "b1adbbde",
   "metadata": {},
   "outputs": [],
   "source": [
    "d=lambda i,j,k : i*j-k"
   ]
  },
  {
   "cell_type": "code",
   "execution_count": 19,
   "id": "d2b5200e",
   "metadata": {},
   "outputs": [
    {
     "data": {
      "text/plain": [
       "2"
      ]
     },
     "execution_count": 19,
     "metadata": {},
     "output_type": "execute_result"
    }
   ],
   "source": [
    "d(1,4,2)"
   ]
  },
  {
   "cell_type": "code",
   "execution_count": 20,
   "id": "1b50df23",
   "metadata": {},
   "outputs": [
    {
     "data": {
      "text/plain": [
       "1"
      ]
     },
     "execution_count": 20,
     "metadata": {},
     "output_type": "execute_result"
    }
   ],
   "source": [
    "d(4,2,7)"
   ]
  },
  {
   "cell_type": "code",
   "execution_count": 21,
   "id": "77af7bc8",
   "metadata": {},
   "outputs": [],
   "source": [
    "d=lambda i,j,k,l : i*(j+k)-l"
   ]
  },
  {
   "cell_type": "code",
   "execution_count": 22,
   "id": "995ed26e",
   "metadata": {},
   "outputs": [
    {
     "data": {
      "text/plain": [
       "11"
      ]
     },
     "execution_count": 22,
     "metadata": {},
     "output_type": "execute_result"
    }
   ],
   "source": [
    "d(2,6,3,7)"
   ]
  },
  {
   "cell_type": "code",
   "execution_count": 37,
   "id": "ab6a4631",
   "metadata": {},
   "outputs": [],
   "source": [
    "d=lambda i,j,k,l : (i+j)*(j+k)-l"
   ]
  },
  {
   "cell_type": "code",
   "execution_count": 38,
   "id": "0e5ede0c",
   "metadata": {},
   "outputs": [
    {
     "data": {
      "text/plain": [
       "11"
      ]
     },
     "execution_count": 38,
     "metadata": {},
     "output_type": "execute_result"
    }
   ],
   "source": [
    "d(1,2,3,4)"
   ]
  },
  {
   "cell_type": "code",
   "execution_count": 5,
   "id": "305aa106",
   "metadata": {},
   "outputs": [],
   "source": [
    "e=lambda x : x**x"
   ]
  },
  {
   "cell_type": "code",
   "execution_count": 6,
   "id": "051f08ae",
   "metadata": {},
   "outputs": [
    {
     "data": {
      "text/plain": [
       "27"
      ]
     },
     "execution_count": 6,
     "metadata": {},
     "output_type": "execute_result"
    }
   ],
   "source": [
    "e(3)"
   ]
  },
  {
   "cell_type": "code",
   "execution_count": null,
   "id": "84e44d21",
   "metadata": {},
   "outputs": [],
   "source": []
  }
 ],
 "metadata": {
  "kernelspec": {
   "display_name": "Python 3 (ipykernel)",
   "language": "python",
   "name": "python3"
  },
  "language_info": {
   "codemirror_mode": {
    "name": "ipython",
    "version": 3
   },
   "file_extension": ".py",
   "mimetype": "text/x-python",
   "name": "python",
   "nbconvert_exporter": "python",
   "pygments_lexer": "ipython3",
   "version": "3.9.7"
  }
 },
 "nbformat": 4,
 "nbformat_minor": 5
}
